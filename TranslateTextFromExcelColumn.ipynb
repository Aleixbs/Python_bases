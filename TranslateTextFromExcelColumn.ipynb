{
  "nbformat": 4,
  "nbformat_minor": 0,
  "metadata": {
    "colab": {
      "provenance": [],
      "authorship_tag": "ABX9TyMX/p3kP79XDs5+lKAOiJ9u",
      "include_colab_link": true
    },
    "kernelspec": {
      "name": "python3",
      "display_name": "Python 3"
    },
    "language_info": {
      "name": "python"
    }
  },
  "cells": [
    {
      "cell_type": "markdown",
      "metadata": {
        "id": "view-in-github",
        "colab_type": "text"
      },
      "source": [
        "<a href=\"https://colab.research.google.com/github/Aleixbs/Python_bases/blob/main/TranslateTextFromExcelColumn.ipynb\" target=\"_parent\"><img src=\"https://colab.research.google.com/assets/colab-badge.svg\" alt=\"Open In Colab\"/></a>"
      ]
    },
    {
      "cell_type": "code",
      "source": [
        "!pip install deep-translator"
      ],
      "metadata": {
        "colab": {
          "base_uri": "https://localhost:8080/"
        },
        "id": "H6sOR89qwoyc",
        "outputId": "4d3d9b5d-d0cd-4f3f-b07e-c78e78b20c13"
      },
      "execution_count": 3,
      "outputs": [
        {
          "output_type": "stream",
          "name": "stdout",
          "text": [
            "Collecting deep-translator\n",
            "  Downloading deep_translator-1.11.4-py3-none-any.whl.metadata (30 kB)\n",
            "Requirement already satisfied: beautifulsoup4<5.0.0,>=4.9.1 in /usr/local/lib/python3.10/dist-packages (from deep-translator) (4.12.3)\n",
            "Requirement already satisfied: requests<3.0.0,>=2.23.0 in /usr/local/lib/python3.10/dist-packages (from deep-translator) (2.32.3)\n",
            "Requirement already satisfied: soupsieve>1.2 in /usr/local/lib/python3.10/dist-packages (from beautifulsoup4<5.0.0,>=4.9.1->deep-translator) (2.6)\n",
            "Requirement already satisfied: charset-normalizer<4,>=2 in /usr/local/lib/python3.10/dist-packages (from requests<3.0.0,>=2.23.0->deep-translator) (3.4.0)\n",
            "Requirement already satisfied: idna<4,>=2.5 in /usr/local/lib/python3.10/dist-packages (from requests<3.0.0,>=2.23.0->deep-translator) (3.10)\n",
            "Requirement already satisfied: urllib3<3,>=1.21.1 in /usr/local/lib/python3.10/dist-packages (from requests<3.0.0,>=2.23.0->deep-translator) (2.2.3)\n",
            "Requirement already satisfied: certifi>=2017.4.17 in /usr/local/lib/python3.10/dist-packages (from requests<3.0.0,>=2.23.0->deep-translator) (2024.8.30)\n",
            "Downloading deep_translator-1.11.4-py3-none-any.whl (42 kB)\n",
            "\u001b[?25l   \u001b[90m━━━━━━━━━━━━━━━━━━━━━━━━━━━━━━━━━━━━━━━━\u001b[0m \u001b[32m0.0/42.3 kB\u001b[0m \u001b[31m?\u001b[0m eta \u001b[36m-:--:--\u001b[0m\r\u001b[2K   \u001b[90m━━━━━━━━━━━━━━━━━━━━━━━━━━━━━━━━━━━━━━━━\u001b[0m \u001b[32m42.3/42.3 kB\u001b[0m \u001b[31m2.1 MB/s\u001b[0m eta \u001b[36m0:00:00\u001b[0m\n",
            "\u001b[?25hInstalling collected packages: deep-translator\n",
            "Successfully installed deep-translator-1.11.4\n"
          ]
        }
      ]
    },
    {
      "cell_type": "code",
      "execution_count": 5,
      "metadata": {
        "id": "LPmihjTbv1_l",
        "colab": {
          "base_uri": "https://localhost:8080/"
        },
        "outputId": "3eeb9d2b-2135-43b9-c9d2-38e500c403b2"
      },
      "outputs": [
        {
          "output_type": "stream",
          "name": "stdout",
          "text": [
            "Translating to French...\n",
            "Translating to Italian...\n",
            "Translating to Slovenian...\n",
            "Translating to Georgian...\n",
            "Translating to Bulgarian...\n",
            "Translating to Spanish...\n",
            "Translation completed. File saved as AracneEU1_translated.xlsx\n"
          ]
        }
      ],
      "source": [
        "import pandas as pd\n",
        "from deep_translator import GoogleTranslator\n",
        "\n",
        "def translate_text(input_file, output_file):\n",
        "    # Cargar el archivo Excel\n",
        "    data = pd.read_excel(input_file, sheet_name='Aracne_EU_ExportTable')\n",
        "\n",
        "    # Idiomas de destino\n",
        "    languages = {\n",
        "        \"French\": \"fr\",\n",
        "        \"Italian\": \"it\",\n",
        "        \"Slovenian\": \"sl\",\n",
        "        \"Georgian\": \"ka\",\n",
        "        \"Bulgarian\": \"bg\",\n",
        "        \"Spanish\": \"es\"\n",
        "    }\n",
        "\n",
        "    # Traducir y añadir columnas\n",
        "    for lang_name, lang_code in languages.items():\n",
        "        print(f\"Translating to {lang_name}...\")\n",
        "        data[f\"Text_{lang_name}\"] = data['Text'].apply(\n",
        "            lambda x: GoogleTranslator(source='en', target=lang_code).translate(x) if pd.notnull(x) else None\n",
        "        )\n",
        "\n",
        "    # Guardar el archivo traducido\n",
        "    data.to_excel(output_file, index=False)\n",
        "    print(f\"Translation completed. File saved as {output_file}\")\n",
        "\n",
        "# Archivos de entrada y salida\n",
        "input_file = \"AracneEU1.xlsx\"  # Cambia esta ruta al archivo original\n",
        "output_file = \"AracneEU1_translated.xlsx\"  # Nombre del archivo de salida\n",
        "\n",
        "# Ejecutar la función\n",
        "translate_text(input_file, output_file)\n"
      ]
    }
  ]
}