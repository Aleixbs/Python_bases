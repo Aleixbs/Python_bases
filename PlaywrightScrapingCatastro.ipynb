{
  "nbformat": 4,
  "nbformat_minor": 0,
  "metadata": {
    "colab": {
      "provenance": [],
      "authorship_tag": "ABX9TyMsSclTt+b+aG+bUPbfv6bf",
      "include_colab_link": true
    },
    "kernelspec": {
      "name": "python3",
      "display_name": "Python 3"
    },
    "language_info": {
      "name": "python"
    }
  },
  "cells": [
    {
      "cell_type": "markdown",
      "metadata": {
        "id": "view-in-github",
        "colab_type": "text"
      },
      "source": [
        "<a href=\"https://colab.research.google.com/github/Aleixbs/Python_bases/blob/main/PlaywrightScrapingCatastro.ipynb\" target=\"_parent\"><img src=\"https://colab.research.google.com/assets/colab-badge.svg\" alt=\"Open In Colab\"/></a>"
      ]
    },
    {
      "cell_type": "code",
      "source": [
        "!pip install playwright"
      ],
      "metadata": {
        "colab": {
          "base_uri": "https://localhost:8080/"
        },
        "id": "-qhI9SzYR9w4",
        "outputId": "52ea690d-3867-4465-c191-200544b8ba5c"
      },
      "execution_count": 2,
      "outputs": [
        {
          "output_type": "stream",
          "name": "stdout",
          "text": [
            "Collecting playwright\n",
            "  Downloading playwright-1.52.0-py3-none-manylinux1_x86_64.whl.metadata (3.5 kB)\n",
            "Collecting pyee<14,>=13 (from playwright)\n",
            "  Downloading pyee-13.0.0-py3-none-any.whl.metadata (2.9 kB)\n",
            "Requirement already satisfied: greenlet<4.0.0,>=3.1.1 in /usr/local/lib/python3.11/dist-packages (from playwright) (3.2.2)\n",
            "Requirement already satisfied: typing-extensions in /usr/local/lib/python3.11/dist-packages (from pyee<14,>=13->playwright) (4.14.0)\n",
            "Downloading playwright-1.52.0-py3-none-manylinux1_x86_64.whl (45.1 MB)\n",
            "\u001b[2K   \u001b[90m━━━━━━━━━━━━━━━━━━━━━━━━━━━━━━━━━━━━━━━━\u001b[0m \u001b[32m45.1/45.1 MB\u001b[0m \u001b[31m21.6 MB/s\u001b[0m eta \u001b[36m0:00:00\u001b[0m\n",
            "\u001b[?25hDownloading pyee-13.0.0-py3-none-any.whl (15 kB)\n",
            "Installing collected packages: pyee, playwright\n",
            "Successfully installed playwright-1.52.0 pyee-13.0.0\n"
          ]
        }
      ]
    },
    {
      "cell_type": "code",
      "source": [
        "!playwright install"
      ],
      "metadata": {
        "colab": {
          "base_uri": "https://localhost:8080/"
        },
        "id": "WdEYfi5zSipy",
        "outputId": "05948b70-f74f-4eba-8499-e6df940f856e"
      },
      "execution_count": 7,
      "outputs": [
        {
          "output_type": "stream",
          "name": "stdout",
          "text": [
            "Downloading Chromium 136.0.7103.25 (playwright build v1169)\u001b[2m from https://cdn.playwright.dev/dbazure/download/playwright/builds/chromium/1169/chromium-linux.zip\u001b[22m\n",
            "\u001b[1G167.7 MiB [] 0% 127.6s\u001b[0K\u001b[1G167.7 MiB [] 0% 279.1s\u001b[0K\u001b[1G167.7 MiB [] 0% 284.4s\u001b[0K\u001b[1G167.7 MiB [] 0% 186.4s\u001b[0K\u001b[1G167.7 MiB [] 0% 171.1s\u001b[0K\u001b[1G167.7 MiB [] 0% 128.2s\u001b[0K\u001b[1G167.7 MiB [] 0% 103.4s\u001b[0K\u001b[1G167.7 MiB [] 0% 79.1s\u001b[0K\u001b[1G167.7 MiB [] 0% 62.4s\u001b[0K\u001b[1G167.7 MiB [] 0% 64.2s\u001b[0K\u001b[1G167.7 MiB [] 0% 49.8s\u001b[0K\u001b[1G167.7 MiB [] 0% 39.5s\u001b[0K\u001b[1G167.7 MiB [] 0% 37.6s\u001b[0K\u001b[1G167.7 MiB [] 1% 29.1s\u001b[0K\u001b[1G167.7 MiB [] 1% 25.2s\u001b[0K\u001b[1G167.7 MiB [] 1% 21.9s\u001b[0K\u001b[1G167.7 MiB [] 2% 17.1s\u001b[0K\u001b[1G167.7 MiB [] 2% 14.3s\u001b[0K\u001b[1G167.7 MiB [] 3% 12.3s\u001b[0K\u001b[1G167.7 MiB [] 4% 9.8s\u001b[0K\u001b[1G167.7 MiB [] 5% 8.6s\u001b[0K\u001b[1G167.7 MiB [] 5% 8.0s\u001b[0K\u001b[1G167.7 MiB [] 6% 7.7s\u001b[0K\u001b[1G167.7 MiB [] 7% 6.7s\u001b[0K\u001b[1G167.7 MiB [] 7% 6.2s\u001b[0K\u001b[1G167.7 MiB [] 8% 5.9s\u001b[0K\u001b[1G167.7 MiB [] 9% 5.5s\u001b[0K\u001b[1G167.7 MiB [] 9% 5.3s\u001b[0K\u001b[1G167.7 MiB [] 10% 5.0s\u001b[0K\u001b[1G167.7 MiB [] 11% 4.8s\u001b[0K\u001b[1G167.7 MiB [] 11% 4.7s\u001b[0K\u001b[1G167.7 MiB [] 12% 4.5s\u001b[0K\u001b[1G167.7 MiB [] 13% 4.3s\u001b[0K\u001b[1G167.7 MiB [] 14% 4.1s\u001b[0K\u001b[1G167.7 MiB [] 15% 4.0s\u001b[0K\u001b[1G167.7 MiB [] 15% 3.8s\u001b[0K\u001b[1G167.7 MiB [] 16% 3.7s\u001b[0K\u001b[1G167.7 MiB [] 17% 3.6s\u001b[0K\u001b[1G167.7 MiB [] 18% 3.5s\u001b[0K\u001b[1G167.7 MiB [] 19% 3.4s\u001b[0K\u001b[1G167.7 MiB [] 19% 3.3s\u001b[0K\u001b[1G167.7 MiB [] 20% 3.2s\u001b[0K\u001b[1G167.7 MiB [] 21% 3.2s\u001b[0K\u001b[1G167.7 MiB [] 21% 3.1s\u001b[0K\u001b[1G167.7 MiB [] 22% 3.0s\u001b[0K\u001b[1G167.7 MiB [] 23% 3.0s\u001b[0K\u001b[1G167.7 MiB [] 24% 2.9s\u001b[0K\u001b[1G167.7 MiB [] 24% 2.8s\u001b[0K\u001b[1G167.7 MiB [] 25% 2.8s\u001b[0K\u001b[1G167.7 MiB [] 26% 2.7s\u001b[0K\u001b[1G167.7 MiB [] 27% 2.7s\u001b[0K\u001b[1G167.7 MiB [] 28% 2.6s\u001b[0K\u001b[1G167.7 MiB [] 29% 2.5s\u001b[0K\u001b[1G167.7 MiB [] 31% 2.4s\u001b[0K\u001b[1G167.7 MiB [] 32% 2.4s\u001b[0K\u001b[1G167.7 MiB [] 33% 2.3s\u001b[0K\u001b[1G167.7 MiB [] 34% 2.2s\u001b[0K\u001b[1G167.7 MiB [] 35% 2.2s\u001b[0K\u001b[1G167.7 MiB [] 36% 2.1s\u001b[0K\u001b[1G167.7 MiB [] 37% 2.1s\u001b[0K\u001b[1G167.7 MiB [] 38% 2.0s\u001b[0K\u001b[1G167.7 MiB [] 39% 2.0s\u001b[0K\u001b[1G167.7 MiB [] 40% 2.0s\u001b[0K\u001b[1G167.7 MiB [] 41% 1.9s\u001b[0K\u001b[1G167.7 MiB [] 42% 1.9s\u001b[0K\u001b[1G167.7 MiB [] 43% 1.8s\u001b[0K\u001b[1G167.7 MiB [] 44% 1.8s\u001b[0K\u001b[1G167.7 MiB [] 45% 1.7s\u001b[0K\u001b[1G167.7 MiB [] 46% 1.7s\u001b[0K\u001b[1G167.7 MiB [] 47% 1.7s\u001b[0K\u001b[1G167.7 MiB [] 48% 1.6s\u001b[0K\u001b[1G167.7 MiB [] 49% 1.6s\u001b[0K\u001b[1G167.7 MiB [] 50% 1.5s\u001b[0K\u001b[1G167.7 MiB [] 51% 1.5s\u001b[0K\u001b[1G167.7 MiB [] 52% 1.5s\u001b[0K\u001b[1G167.7 MiB [] 53% 1.4s\u001b[0K\u001b[1G167.7 MiB [] 54% 1.4s\u001b[0K\u001b[1G167.7 MiB [] 55% 1.3s\u001b[0K\u001b[1G167.7 MiB [] 56% 1.3s\u001b[0K\u001b[1G167.7 MiB [] 57% 1.3s\u001b[0K\u001b[1G167.7 MiB [] 58% 1.3s\u001b[0K\u001b[1G167.7 MiB [] 58% 1.2s\u001b[0K\u001b[1G167.7 MiB [] 59% 1.2s\u001b[0K\u001b[1G167.7 MiB [] 60% 1.2s\u001b[0K\u001b[1G167.7 MiB [] 61% 1.1s\u001b[0K\u001b[1G167.7 MiB [] 62% 1.1s\u001b[0K\u001b[1G167.7 MiB [] 63% 1.1s\u001b[0K\u001b[1G167.7 MiB [] 64% 1.0s\u001b[0K\u001b[1G167.7 MiB [] 65% 1.0s\u001b[0K\u001b[1G167.7 MiB [] 66% 1.0s\u001b[0K\u001b[1G167.7 MiB [] 67% 1.0s\u001b[0K\u001b[1G167.7 MiB [] 68% 0.9s\u001b[0K\u001b[1G167.7 MiB [] 69% 0.9s\u001b[0K\u001b[1G167.7 MiB [] 70% 0.9s\u001b[0K\u001b[1G167.7 MiB [] 71% 0.8s\u001b[0K\u001b[1G167.7 MiB [] 72% 0.8s\u001b[0K\u001b[1G167.7 MiB [] 73% 0.8s\u001b[0K\u001b[1G167.7 MiB [] 74% 0.8s\u001b[0K\u001b[1G167.7 MiB [] 75% 0.7s\u001b[0K\u001b[1G167.7 MiB [] 76% 0.7s\u001b[0K\u001b[1G167.7 MiB [] 77% 0.7s\u001b[0K\u001b[1G167.7 MiB [] 78% 0.6s\u001b[0K\u001b[1G167.7 MiB [] 79% 0.6s\u001b[0K\u001b[1G167.7 MiB [] 80% 0.6s\u001b[0K\u001b[1G167.7 MiB [] 81% 0.5s\u001b[0K\u001b[1G167.7 MiB [] 82% 0.5s\u001b[0K\u001b[1G167.7 MiB [] 83% 0.5s\u001b[0K\u001b[1G167.7 MiB [] 84% 0.4s\u001b[0K\u001b[1G167.7 MiB [] 85% 0.4s\u001b[0K\u001b[1G167.7 MiB [] 86% 0.4s\u001b[0K\u001b[1G167.7 MiB [] 87% 0.4s\u001b[0K\u001b[1G167.7 MiB [] 88% 0.3s\u001b[0K\u001b[1G167.7 MiB [] 89% 0.3s\u001b[0K\u001b[1G167.7 MiB [] 90% 0.3s\u001b[0K\u001b[1G167.7 MiB [] 91% 0.3s\u001b[0K\u001b[1G167.7 MiB [] 91% 0.2s\u001b[0K\u001b[1G167.7 MiB [] 92% 0.2s\u001b[0K\u001b[1G167.7 MiB [] 93% 0.2s\u001b[0K\u001b[1G167.7 MiB [] 94% 0.2s\u001b[0K\u001b[1G167.7 MiB [] 94% 0.1s\u001b[0K\u001b[1G167.7 MiB [] 95% 0.1s\u001b[0K\u001b[1G167.7 MiB [] 96% 0.1s\u001b[0K\u001b[1G167.7 MiB [] 97% 0.1s\u001b[0K\u001b[1G167.7 MiB [] 98% 0.0s\u001b[0K\u001b[1G167.7 MiB [] 99% 0.0s\u001b[0K\u001b[1G167.7 MiB [] 100% 0.0s\u001b[0K\n",
            "Chromium 136.0.7103.25 (playwright build v1169) downloaded to /root/.cache/ms-playwright/chromium-1169\n",
            "Downloading Chromium Headless Shell 136.0.7103.25 (playwright build v1169)\u001b[2m from https://cdn.playwright.dev/dbazure/download/playwright/builds/chromium/1169/chromium-headless-shell-linux.zip\u001b[22m\n",
            "\u001b[1G101.4 MiB [] 0% 0.0s\u001b[0K\u001b[1G101.4 MiB [] 0% 182.4s\u001b[0K\u001b[1G101.4 MiB [] 0% 165.9s\u001b[0K\u001b[1G101.4 MiB [] 0% 111.0s\u001b[0K\u001b[1G101.4 MiB [] 0% 103.1s\u001b[0K\u001b[1G101.4 MiB [] 0% 76.3s\u001b[0K\u001b[1G101.4 MiB [] 0% 65.1s\u001b[0K\u001b[1G101.4 MiB [] 0% 50.7s\u001b[0K\u001b[1G101.4 MiB [] 0% 38.7s\u001b[0K\u001b[1G101.4 MiB [] 0% 39.7s\u001b[0K\u001b[1G101.4 MiB [] 0% 30.6s\u001b[0K\u001b[1G101.4 MiB [] 1% 23.8s\u001b[0K\u001b[1G101.4 MiB [] 1% 23.5s\u001b[0K\u001b[1G101.4 MiB [] 1% 18.3s\u001b[0K\u001b[1G101.4 MiB [] 2% 13.7s\u001b[0K\u001b[1G101.4 MiB [] 3% 10.4s\u001b[0K\u001b[1G101.4 MiB [] 4% 7.9s\u001b[0K\u001b[1G101.4 MiB [] 5% 7.7s\u001b[0K\u001b[1G101.4 MiB [] 7% 5.7s\u001b[0K\u001b[1G101.4 MiB [] 8% 4.8s\u001b[0K\u001b[1G101.4 MiB [] 9% 4.8s\u001b[0K\u001b[1G101.4 MiB [] 9% 4.6s\u001b[0K\u001b[1G101.4 MiB [] 11% 3.9s\u001b[0K\u001b[1G101.4 MiB [] 12% 3.6s\u001b[0K\u001b[1G101.4 MiB [] 13% 3.5s\u001b[0K\u001b[1G101.4 MiB [] 15% 3.1s\u001b[0K\u001b[1G101.4 MiB [] 16% 3.1s\u001b[0K\u001b[1G101.4 MiB [] 17% 2.8s\u001b[0K\u001b[1G101.4 MiB [] 19% 2.6s\u001b[0K\u001b[1G101.4 MiB [] 19% 2.7s\u001b[0K\u001b[1G101.4 MiB [] 21% 2.5s\u001b[0K\u001b[1G101.4 MiB [] 22% 2.3s\u001b[0K\u001b[1G101.4 MiB [] 23% 2.3s\u001b[0K\u001b[1G101.4 MiB [] 24% 2.2s\u001b[0K\u001b[1G101.4 MiB [] 25% 2.1s\u001b[0K\u001b[1G101.4 MiB [] 26% 2.1s\u001b[0K\u001b[1G101.4 MiB [] 27% 2.0s\u001b[0K\u001b[1G101.4 MiB [] 29% 1.9s\u001b[0K\u001b[1G101.4 MiB [] 30% 1.8s\u001b[0K\u001b[1G101.4 MiB [] 31% 1.8s\u001b[0K\u001b[1G101.4 MiB [] 33% 1.7s\u001b[0K\u001b[1G101.4 MiB [] 34% 1.7s\u001b[0K\u001b[1G101.4 MiB [] 36% 1.5s\u001b[0K\u001b[1G101.4 MiB [] 37% 1.5s\u001b[0K\u001b[1G101.4 MiB [] 38% 1.5s\u001b[0K\u001b[1G101.4 MiB [] 40% 1.4s\u001b[0K\u001b[1G101.4 MiB [] 42% 1.3s\u001b[0K\u001b[1G101.4 MiB [] 43% 1.3s\u001b[0K\u001b[1G101.4 MiB [] 44% 1.3s\u001b[0K\u001b[1G101.4 MiB [] 45% 1.2s\u001b[0K\u001b[1G101.4 MiB [] 48% 1.2s\u001b[0K\u001b[1G101.4 MiB [] 49% 1.1s\u001b[0K\u001b[1G101.4 MiB [] 50% 1.1s\u001b[0K\u001b[1G101.4 MiB [] 53% 1.0s\u001b[0K\u001b[1G101.4 MiB [] 54% 1.0s\u001b[0K\u001b[1G101.4 MiB [] 56% 0.9s\u001b[0K\u001b[1G101.4 MiB [] 57% 0.9s\u001b[0K\u001b[1G101.4 MiB [] 60% 0.8s\u001b[0K\u001b[1G101.4 MiB [] 61% 0.8s\u001b[0K\u001b[1G101.4 MiB [] 64% 0.7s\u001b[0K\u001b[1G101.4 MiB [] 65% 0.7s\u001b[0K\u001b[1G101.4 MiB [] 67% 0.7s\u001b[0K\u001b[1G101.4 MiB [] 68% 0.6s\u001b[0K\u001b[1G101.4 MiB [] 69% 0.6s\u001b[0K\u001b[1G101.4 MiB [] 71% 0.6s\u001b[0K\u001b[1G101.4 MiB [] 72% 0.6s\u001b[0K\u001b[1G101.4 MiB [] 72% 0.5s\u001b[0K\u001b[1G101.4 MiB [] 74% 0.5s\u001b[0K\u001b[1G101.4 MiB [] 76% 0.5s\u001b[0K\u001b[1G101.4 MiB [] 78% 0.4s\u001b[0K\u001b[1G101.4 MiB [] 79% 0.4s\u001b[0K\u001b[1G101.4 MiB [] 80% 0.4s\u001b[0K\u001b[1G101.4 MiB [] 82% 0.3s\u001b[0K\u001b[1G101.4 MiB [] 83% 0.3s\u001b[0K\u001b[1G101.4 MiB [] 84% 0.3s\u001b[0K\u001b[1G101.4 MiB [] 86% 0.3s\u001b[0K\u001b[1G101.4 MiB [] 86% 0.2s\u001b[0K\u001b[1G101.4 MiB [] 87% 0.2s\u001b[0K\u001b[1G101.4 MiB [] 89% 0.2s\u001b[0K\u001b[1G101.4 MiB [] 90% 0.2s\u001b[0K\u001b[1G101.4 MiB [] 91% 0.2s\u001b[0K\u001b[1G101.4 MiB [] 93% 0.1s\u001b[0K\u001b[1G101.4 MiB [] 94% 0.1s\u001b[0K\u001b[1G101.4 MiB [] 95% 0.1s\u001b[0K\u001b[1G101.4 MiB [] 96% 0.1s\u001b[0K\u001b[1G101.4 MiB [] 98% 0.0s\u001b[0K\u001b[1G101.4 MiB [] 100% 0.0s\u001b[0K\n",
            "Chromium Headless Shell 136.0.7103.25 (playwright build v1169) downloaded to /root/.cache/ms-playwright/chromium_headless_shell-1169\n",
            "Downloading Firefox 137.0 (playwright build v1482)\u001b[2m from https://cdn.playwright.dev/dbazure/download/playwright/builds/firefox/1482/firefox-ubuntu-22.04.zip\u001b[22m\n",
            "\u001b[1G91 MiB [] 0% 0.0s\u001b[0K\u001b[1G91 MiB [] 0% 151.6s\u001b[0K\u001b[1G91 MiB [] 0% 154.4s\u001b[0K\u001b[1G91 MiB [] 0% 101.2s\u001b[0K\u001b[1G91 MiB [] 0% 92.8s\u001b[0K\u001b[1G91 MiB [] 0% 68.7s\u001b[0K\u001b[1G91 MiB [] 0% 56.6s\u001b[0K\u001b[1G91 MiB [] 0% 43.0s\u001b[0K\u001b[1G91 MiB [] 0% 33.1s\u001b[0K\u001b[1G91 MiB [] 0% 34.2s\u001b[0K\u001b[1G91 MiB [] 1% 26.7s\u001b[0K\u001b[1G91 MiB [] 1% 20.6s\u001b[0K\u001b[1G91 MiB [] 1% 20.2s\u001b[0K\u001b[1G91 MiB [] 2% 15.6s\u001b[0K\u001b[1G91 MiB [] 2% 12.1s\u001b[0K\u001b[1G91 MiB [] 3% 11.7s\u001b[0K\u001b[1G91 MiB [] 4% 9.3s\u001b[0K\u001b[1G91 MiB [] 5% 7.1s\u001b[0K\u001b[1G91 MiB [] 6% 6.6s\u001b[0K\u001b[1G91 MiB [] 7% 5.3s\u001b[0K\u001b[1G91 MiB [] 9% 4.6s\u001b[0K\u001b[1G91 MiB [] 10% 4.1s\u001b[0K\u001b[1G91 MiB [] 11% 3.9s\u001b[0K\u001b[1G91 MiB [] 12% 3.5s\u001b[0K\u001b[1G91 MiB [] 13% 3.3s\u001b[0K\u001b[1G91 MiB [] 15% 3.0s\u001b[0K\u001b[1G91 MiB [] 17% 2.8s\u001b[0K\u001b[1G91 MiB [] 17% 2.7s\u001b[0K\u001b[1G91 MiB [] 18% 2.7s\u001b[0K\u001b[1G91 MiB [] 20% 2.4s\u001b[0K\u001b[1G91 MiB [] 21% 2.3s\u001b[0K\u001b[1G91 MiB [] 23% 2.1s\u001b[0K\u001b[1G91 MiB [] 25% 2.0s\u001b[0K\u001b[1G91 MiB [] 25% 2.1s\u001b[0K\u001b[1G91 MiB [] 26% 2.0s\u001b[0K\u001b[1G91 MiB [] 27% 1.9s\u001b[0K\u001b[1G91 MiB [] 29% 1.8s\u001b[0K\u001b[1G91 MiB [] 30% 1.8s\u001b[0K\u001b[1G91 MiB [] 32% 1.7s\u001b[0K\u001b[1G91 MiB [] 34% 1.6s\u001b[0K\u001b[1G91 MiB [] 36% 1.5s\u001b[0K\u001b[1G91 MiB [] 38% 1.4s\u001b[0K\u001b[1G91 MiB [] 40% 1.3s\u001b[0K\u001b[1G91 MiB [] 42% 1.3s\u001b[0K\u001b[1G91 MiB [] 44% 1.2s\u001b[0K\u001b[1G91 MiB [] 46% 1.2s\u001b[0K\u001b[1G91 MiB [] 48% 1.1s\u001b[0K\u001b[1G91 MiB [] 50% 1.0s\u001b[0K\u001b[1G91 MiB [] 52% 1.0s\u001b[0K\u001b[1G91 MiB [] 54% 0.9s\u001b[0K\u001b[1G91 MiB [] 55% 0.9s\u001b[0K\u001b[1G91 MiB [] 57% 0.8s\u001b[0K\u001b[1G91 MiB [] 59% 0.8s\u001b[0K\u001b[1G91 MiB [] 62% 0.7s\u001b[0K\u001b[1G91 MiB [] 63% 0.7s\u001b[0K\u001b[1G91 MiB [] 64% 0.7s\u001b[0K\u001b[1G91 MiB [] 65% 0.7s\u001b[0K\u001b[1G91 MiB [] 67% 0.6s\u001b[0K\u001b[1G91 MiB [] 68% 0.6s\u001b[0K\u001b[1G91 MiB [] 69% 0.6s\u001b[0K\u001b[1G91 MiB [] 71% 0.5s\u001b[0K\u001b[1G91 MiB [] 72% 0.5s\u001b[0K\u001b[1G91 MiB [] 74% 0.5s\u001b[0K\u001b[1G91 MiB [] 75% 0.4s\u001b[0K\u001b[1G91 MiB [] 76% 0.4s\u001b[0K\u001b[1G91 MiB [] 76% 0.5s\u001b[0K\u001b[1G91 MiB [] 77% 0.5s\u001b[0K\u001b[1G91 MiB [] 78% 0.4s\u001b[0K\u001b[1G91 MiB [] 80% 0.4s\u001b[0K\u001b[1G91 MiB [] 82% 0.4s\u001b[0K\u001b[1G91 MiB [] 83% 0.3s\u001b[0K\u001b[1G91 MiB [] 84% 0.3s\u001b[0K\u001b[1G91 MiB [] 86% 0.3s\u001b[0K\u001b[1G91 MiB [] 87% 0.2s\u001b[0K\u001b[1G91 MiB [] 88% 0.2s\u001b[0K\u001b[1G91 MiB [] 89% 0.2s\u001b[0K\u001b[1G91 MiB [] 91% 0.2s\u001b[0K\u001b[1G91 MiB [] 92% 0.1s\u001b[0K\u001b[1G91 MiB [] 93% 0.1s\u001b[0K\u001b[1G91 MiB [] 95% 0.1s\u001b[0K\u001b[1G91 MiB [] 96% 0.1s\u001b[0K\u001b[1G91 MiB [] 97% 0.0s\u001b[0K\u001b[1G91 MiB [] 99% 0.0s\u001b[0K\u001b[1G91 MiB [] 100% 0.0s\u001b[0K\n",
            "Firefox 137.0 (playwright build v1482) downloaded to /root/.cache/ms-playwright/firefox-1482\n",
            "Downloading Webkit 18.4 (playwright build v2158)\u001b[2m from https://cdn.playwright.dev/dbazure/download/playwright/builds/webkit/2158/webkit-ubuntu-22.04.zip\u001b[22m\n",
            "\u001b[1G93.8 MiB [] 0% 0.0s\u001b[0K\u001b[1G93.8 MiB [] 0% 207.5s\u001b[0K\u001b[1G93.8 MiB [] 0% 198.4s\u001b[0K\u001b[1G93.8 MiB [] 0% 131.4s\u001b[0K\u001b[1G93.8 MiB [] 0% 119.3s\u001b[0K\u001b[1G93.8 MiB [] 0% 92.6s\u001b[0K\u001b[1G93.8 MiB [] 0% 73.0s\u001b[0K\u001b[1G93.8 MiB [] 0% 74.6s\u001b[0K\u001b[1G93.8 MiB [] 0% 59.4s\u001b[0K\u001b[1G93.8 MiB [] 0% 47.4s\u001b[0K\u001b[1G93.8 MiB [] 0% 44.2s\u001b[0K\u001b[1G93.8 MiB [] 0% 35.7s\u001b[0K\u001b[1G93.8 MiB [] 1% 29.1s\u001b[0K\u001b[1G93.8 MiB [] 1% 26.3s\u001b[0K\u001b[1G93.8 MiB [] 1% 20.9s\u001b[0K\u001b[1G93.8 MiB [] 2% 16.9s\u001b[0K\u001b[1G93.8 MiB [] 2% 15.1s\u001b[0K\u001b[1G93.8 MiB [] 3% 11.9s\u001b[0K\u001b[1G93.8 MiB [] 4% 9.6s\u001b[0K\u001b[1G93.8 MiB [] 5% 8.4s\u001b[0K\u001b[1G93.8 MiB [] 7% 6.8s\u001b[0K\u001b[1G93.8 MiB [] 8% 5.6s\u001b[0K\u001b[1G93.8 MiB [] 10% 5.3s\u001b[0K\u001b[1G93.8 MiB [] 10% 5.0s\u001b[0K\u001b[1G93.8 MiB [] 12% 4.5s\u001b[0K\u001b[1G93.8 MiB [] 13% 4.2s\u001b[0K\u001b[1G93.8 MiB [] 14% 4.0s\u001b[0K\u001b[1G93.8 MiB [] 15% 3.8s\u001b[0K\u001b[1G93.8 MiB [] 16% 3.4s\u001b[0K\u001b[1G93.8 MiB [] 17% 3.4s\u001b[0K\u001b[1G93.8 MiB [] 19% 3.1s\u001b[0K\u001b[1G93.8 MiB [] 20% 2.9s\u001b[0K\u001b[1G93.8 MiB [] 21% 2.9s\u001b[0K\u001b[1G93.8 MiB [] 22% 2.7s\u001b[0K\u001b[1G93.8 MiB [] 24% 2.5s\u001b[0K\u001b[1G93.8 MiB [] 25% 2.5s\u001b[0K\u001b[1G93.8 MiB [] 27% 2.3s\u001b[0K\u001b[1G93.8 MiB [] 28% 2.2s\u001b[0K\u001b[1G93.8 MiB [] 29% 2.2s\u001b[0K\u001b[1G93.8 MiB [] 30% 2.1s\u001b[0K\u001b[1G93.8 MiB [] 32% 2.0s\u001b[0K\u001b[1G93.8 MiB [] 33% 1.9s\u001b[0K\u001b[1G93.8 MiB [] 35% 1.8s\u001b[0K\u001b[1G93.8 MiB [] 36% 1.7s\u001b[0K\u001b[1G93.8 MiB [] 38% 1.7s\u001b[0K\u001b[1G93.8 MiB [] 39% 1.6s\u001b[0K\u001b[1G93.8 MiB [] 41% 1.5s\u001b[0K\u001b[1G93.8 MiB [] 42% 1.5s\u001b[0K\u001b[1G93.8 MiB [] 43% 1.5s\u001b[0K\u001b[1G93.8 MiB [] 44% 1.4s\u001b[0K\u001b[1G93.8 MiB [] 46% 1.4s\u001b[0K\u001b[1G93.8 MiB [] 47% 1.3s\u001b[0K\u001b[1G93.8 MiB [] 48% 1.3s\u001b[0K\u001b[1G93.8 MiB [] 50% 1.2s\u001b[0K\u001b[1G93.8 MiB [] 51% 1.2s\u001b[0K\u001b[1G93.8 MiB [] 53% 1.1s\u001b[0K\u001b[1G93.8 MiB [] 55% 1.1s\u001b[0K\u001b[1G93.8 MiB [] 57% 1.0s\u001b[0K\u001b[1G93.8 MiB [] 59% 0.9s\u001b[0K\u001b[1G93.8 MiB [] 61% 0.9s\u001b[0K\u001b[1G93.8 MiB [] 63% 0.8s\u001b[0K\u001b[1G93.8 MiB [] 65% 0.8s\u001b[0K\u001b[1G93.8 MiB [] 67% 0.7s\u001b[0K\u001b[1G93.8 MiB [] 69% 0.7s\u001b[0K\u001b[1G93.8 MiB [] 70% 0.7s\u001b[0K\u001b[1G93.8 MiB [] 72% 0.6s\u001b[0K\u001b[1G93.8 MiB [] 73% 0.6s\u001b[0K\u001b[1G93.8 MiB [] 74% 0.6s\u001b[0K\u001b[1G93.8 MiB [] 76% 0.5s\u001b[0K\u001b[1G93.8 MiB [] 77% 0.5s\u001b[0K\u001b[1G93.8 MiB [] 78% 0.5s\u001b[0K\u001b[1G93.8 MiB [] 80% 0.4s\u001b[0K\u001b[1G93.8 MiB [] 81% 0.4s\u001b[0K\u001b[1G93.8 MiB [] 82% 0.4s\u001b[0K\u001b[1G93.8 MiB [] 84% 0.3s\u001b[0K\u001b[1G93.8 MiB [] 85% 0.3s\u001b[0K\u001b[1G93.8 MiB [] 86% 0.3s\u001b[0K\u001b[1G93.8 MiB [] 88% 0.2s\u001b[0K\u001b[1G93.8 MiB [] 90% 0.2s\u001b[0K\u001b[1G93.8 MiB [] 92% 0.2s\u001b[0K\u001b[1G93.8 MiB [] 94% 0.1s\u001b[0K\u001b[1G93.8 MiB [] 95% 0.1s\u001b[0K\u001b[1G93.8 MiB [] 97% 0.1s\u001b[0K\u001b[1G93.8 MiB [] 98% 0.0s\u001b[0K\u001b[1G93.8 MiB [] 100% 0.0s\u001b[0K\n",
            "Webkit 18.4 (playwright build v2158) downloaded to /root/.cache/ms-playwright/webkit-2158\n",
            "Downloading FFMPEG playwright build v1011\u001b[2m from https://cdn.playwright.dev/dbazure/download/playwright/builds/ffmpeg/1011/ffmpeg-linux.zip\u001b[22m\n",
            "\u001b[1G2.3 MiB [] 0% 0.0s\u001b[0K\u001b[1G2.3 MiB [] 1% 3.3s\u001b[0K\u001b[1G2.3 MiB [] 2% 3.5s\u001b[0K\u001b[1G2.3 MiB [] 4% 2.3s\u001b[0K\u001b[1G2.3 MiB [] 6% 2.1s\u001b[0K\u001b[1G2.3 MiB [] 10% 1.5s\u001b[0K\u001b[1G2.3 MiB [] 14% 1.2s\u001b[0K\u001b[1G2.3 MiB [] 20% 0.8s\u001b[0K\u001b[1G2.3 MiB [] 28% 0.6s\u001b[0K\u001b[1G2.3 MiB [] 29% 0.6s\u001b[0K\u001b[1G2.3 MiB [] 40% 0.4s\u001b[0K\u001b[1G2.3 MiB [] 56% 0.2s\u001b[0K\u001b[1G2.3 MiB [] 60% 0.2s\u001b[0K\u001b[1G2.3 MiB [] 83% 0.1s\u001b[0K\u001b[1G2.3 MiB [] 100% 0.0s\u001b[0K\n",
            "FFMPEG playwright build v1011 downloaded to /root/.cache/ms-playwright/ffmpeg-1011\n",
            "Playwright Host validation warning: \n",
            "╔══════════════════════════════════════════════════════╗\n",
            "║ Host system is missing dependencies to run browsers. ║\n",
            "║ Missing libraries:                                   ║\n",
            "║     libwoff2dec.so.1.0.2                             ║\n",
            "║     libgstgl-1.0.so.0                                ║\n",
            "║     libgstcodecparsers-1.0.so.0                      ║\n",
            "║     libavif.so.13                                    ║\n",
            "║     libharfbuzz-icu.so.0                             ║\n",
            "║     libenchant-2.so.2                                ║\n",
            "║     libsecret-1.so.0                                 ║\n",
            "║     libhyphen.so.0                                   ║\n",
            "║     libmanette-0.2.so.0                              ║\n",
            "╚══════════════════════════════════════════════════════╝\n",
            "    at validateDependenciesLinux (/usr/local/lib/python3.11/dist-packages/playwright/driver/package/lib/server/registry/dependencies.js:269:9)\n",
            "\u001b[90m    at process.processTicksAndRejections (node:internal/process/task_queues:105:5)\u001b[39m\n",
            "    at async Registry._validateHostRequirements (/usr/local/lib/python3.11/dist-packages/playwright/driver/package/lib/server/registry/index.js:927:14)\n",
            "    at async Registry._validateHostRequirementsForExecutableIfNeeded (/usr/local/lib/python3.11/dist-packages/playwright/driver/package/lib/server/registry/index.js:1047:7)\n",
            "    at async Registry.validateHostRequirementsForExecutablesIfNeeded (/usr/local/lib/python3.11/dist-packages/playwright/driver/package/lib/server/registry/index.js:1036:7)\n",
            "    at async t.<anonymous> (/usr/local/lib/python3.11/dist-packages/playwright/driver/package/lib/cli/program.js:160:7)\n"
          ]
        }
      ]
    },
    {
      "cell_type": "code",
      "source": [
        "import asyncio\n",
        "from playwright.async_api import async_playwright\n",
        "\n",
        "async def main():\n",
        "    async with async_playwright() as p:\n",
        "        browser = await p.chromium.launch(headless=True)\n",
        "        context = await browser.new_context()\n",
        "        page = await context.new_page()\n",
        "\n",
        "        # Go to Spanish cadastre site\n",
        "        await page.goto(\"https://www1.sedecatastro.gob.es/Cartografia/Visor.aspx\")\n",
        "\n",
        "        # Wait for page to load fully\n",
        "        await page.wait_for_timeout(5000)\n",
        "\n",
        "        print(\"✅ Page loaded successfully\")\n",
        "\n",
        "        await browser.close()\n",
        "\n",
        "# This should run properly now\n",
        "await main()\n"
      ],
      "metadata": {
        "colab": {
          "base_uri": "https://localhost:8080/"
        },
        "id": "-XN9I9R5S5SN",
        "outputId": "180a1364-bdc9-4fe7-f5ca-0f2d266008a9"
      },
      "execution_count": 8,
      "outputs": [
        {
          "output_type": "stream",
          "name": "stdout",
          "text": [
            "✅ Page loaded successfully\n"
          ]
        }
      ]
    },
    {
      "cell_type": "code",
      "source": [
        "import asyncio\n",
        "from playwright.async_api import async_playwright\n",
        "\n",
        "async def main():\n",
        "    refcat = \"9923301YJ2792D0001FP\"\n",
        "    base_url = \"https://www1.sedecatastro.gob.es/OVCFrames.aspx?TIPO=CONSULTA\"\n",
        "\n",
        "    async with async_playwright() as p:\n",
        "        browser = await p.chromium.launch(headless=True)\n",
        "        context = await browser.new_context()\n",
        "        page = await context.new_page()\n",
        "\n",
        "        # Go to search page\n",
        "        await page.goto(base_url)\n",
        "\n",
        "        # Wait for the iframe \"main\" to be attached\n",
        "        await page.wait_for_selector('iframe[name=\"main\"]')\n",
        "\n",
        "        # Get the frame reference\n",
        "        frame = page.frame(name=\"main\")\n",
        "\n",
        "        # Click \"Consulta por referencia catastral\"\n",
        "        await frame.locator('text=Referencia Catastral').click()\n",
        "\n",
        "        # Fill in the refcat field (the input is split in 2 parts: first 14 digits + 5 digits)\n",
        "        await frame.fill('input[name=\"RefC\"]', refcat[:14])\n",
        "        await frame.fill('input[name=\"RCBice2\"]', refcat[14:])\n",
        "\n",
        "        # Submit form\n",
        "        await frame.locator('input[type=\"submit\"]').click()\n",
        "\n",
        "        # Wait for search results to load\n",
        "        await frame.wait_for_selector('text=Datos del inmueble')\n",
        "\n",
        "        # Try to locate facade photo link\n",
        "        photo_link = await frame.locator('text=Foto de fachada').get_attribute('href')\n",
        "        if photo_link:\n",
        "            photo_url = \"https://www1.sedecatastro.gob.es\" + photo_link\n",
        "            print(\"✅ Image URL found:\", photo_url)\n",
        "        else:\n",
        "            print(\"❌ No image available for this parcel.\")\n",
        "\n",
        "        await browser.close()\n",
        "\n",
        "await main()\n",
        "\n"
      ],
      "metadata": {
        "colab": {
          "base_uri": "https://localhost:8080/",
          "height": 373
        },
        "id": "_87umPnSTQP0",
        "outputId": "142c6682-f5df-4d5f-a933-bc3b63fa1032"
      },
      "execution_count": 10,
      "outputs": [
        {
          "output_type": "error",
          "ename": "TimeoutError",
          "evalue": "Page.wait_for_selector: Timeout 30000ms exceeded.\nCall log:\n  - waiting for locator(\"iframe[name=\\\"main\\\"]\") to be visible\n",
          "traceback": [
            "\u001b[0;31m---------------------------------------------------------------------------\u001b[0m",
            "\u001b[0;31mTimeoutError\u001b[0m                              Traceback (most recent call last)",
            "\u001b[0;32m<ipython-input-10-2560928558>\u001b[0m in \u001b[0;36m<cell line: 1>\u001b[0;34m()\u001b[0m\n\u001b[1;32m     43\u001b[0m         \u001b[0;32mawait\u001b[0m \u001b[0mbrowser\u001b[0m\u001b[0;34m.\u001b[0m\u001b[0mclose\u001b[0m\u001b[0;34m(\u001b[0m\u001b[0;34m)\u001b[0m\u001b[0;34m\u001b[0m\u001b[0;34m\u001b[0m\u001b[0m\n\u001b[1;32m     44\u001b[0m \u001b[0;34m\u001b[0m\u001b[0m\n\u001b[0;32m---> 45\u001b[0;31m \u001b[0;32mawait\u001b[0m \u001b[0mmain\u001b[0m\u001b[0;34m(\u001b[0m\u001b[0;34m)\u001b[0m\u001b[0;34m\u001b[0m\u001b[0;34m\u001b[0m\u001b[0m\n\u001b[0m\u001b[1;32m     46\u001b[0m \u001b[0;34m\u001b[0m\u001b[0m\n",
            "\u001b[0;32m<ipython-input-10-2560928558>\u001b[0m in \u001b[0;36mmain\u001b[0;34m()\u001b[0m\n\u001b[1;32m     15\u001b[0m \u001b[0;34m\u001b[0m\u001b[0m\n\u001b[1;32m     16\u001b[0m         \u001b[0;31m# Wait for the iframe \"main\" to be attached\u001b[0m\u001b[0;34m\u001b[0m\u001b[0;34m\u001b[0m\u001b[0m\n\u001b[0;32m---> 17\u001b[0;31m         \u001b[0;32mawait\u001b[0m \u001b[0mpage\u001b[0m\u001b[0;34m.\u001b[0m\u001b[0mwait_for_selector\u001b[0m\u001b[0;34m(\u001b[0m\u001b[0;34m'iframe[name=\"main\"]'\u001b[0m\u001b[0;34m)\u001b[0m\u001b[0;34m\u001b[0m\u001b[0;34m\u001b[0m\u001b[0m\n\u001b[0m\u001b[1;32m     18\u001b[0m \u001b[0;34m\u001b[0m\u001b[0m\n\u001b[1;32m     19\u001b[0m         \u001b[0;31m# Get the frame reference\u001b[0m\u001b[0;34m\u001b[0m\u001b[0;34m\u001b[0m\u001b[0m\n",
            "\u001b[0;32m/usr/local/lib/python3.11/dist-packages/playwright/async_api/_generated.py\u001b[0m in \u001b[0;36mwait_for_selector\u001b[0;34m(self, selector, timeout, state, strict)\u001b[0m\n\u001b[1;32m   8178\u001b[0m \u001b[0;34m\u001b[0m\u001b[0m\n\u001b[1;32m   8179\u001b[0m         return mapping.from_impl_nullable(\n\u001b[0;32m-> 8180\u001b[0;31m             await self._impl_obj.wait_for_selector(\n\u001b[0m\u001b[1;32m   8181\u001b[0m                 \u001b[0mselector\u001b[0m\u001b[0;34m=\u001b[0m\u001b[0mselector\u001b[0m\u001b[0;34m,\u001b[0m \u001b[0mtimeout\u001b[0m\u001b[0;34m=\u001b[0m\u001b[0mtimeout\u001b[0m\u001b[0;34m,\u001b[0m \u001b[0mstate\u001b[0m\u001b[0;34m=\u001b[0m\u001b[0mstate\u001b[0m\u001b[0;34m,\u001b[0m \u001b[0mstrict\u001b[0m\u001b[0;34m=\u001b[0m\u001b[0mstrict\u001b[0m\u001b[0;34m\u001b[0m\u001b[0;34m\u001b[0m\u001b[0m\n\u001b[1;32m   8182\u001b[0m             )\n",
            "\u001b[0;32m/usr/local/lib/python3.11/dist-packages/playwright/_impl/_page.py\u001b[0m in \u001b[0;36mwait_for_selector\u001b[0;34m(self, selector, timeout, state, strict)\u001b[0m\n\u001b[1;32m    423\u001b[0m         \u001b[0mstrict\u001b[0m\u001b[0;34m:\u001b[0m \u001b[0mbool\u001b[0m \u001b[0;34m=\u001b[0m \u001b[0;32mNone\u001b[0m\u001b[0;34m,\u001b[0m\u001b[0;34m\u001b[0m\u001b[0;34m\u001b[0m\u001b[0m\n\u001b[1;32m    424\u001b[0m     ) -> Optional[ElementHandle]:\n\u001b[0;32m--> 425\u001b[0;31m         \u001b[0;32mreturn\u001b[0m \u001b[0;32mawait\u001b[0m \u001b[0mself\u001b[0m\u001b[0;34m.\u001b[0m\u001b[0m_main_frame\u001b[0m\u001b[0;34m.\u001b[0m\u001b[0mwait_for_selector\u001b[0m\u001b[0;34m(\u001b[0m\u001b[0;34m**\u001b[0m\u001b[0mlocals_to_params\u001b[0m\u001b[0;34m(\u001b[0m\u001b[0mlocals\u001b[0m\u001b[0;34m(\u001b[0m\u001b[0;34m)\u001b[0m\u001b[0;34m)\u001b[0m\u001b[0;34m)\u001b[0m\u001b[0;34m\u001b[0m\u001b[0;34m\u001b[0m\u001b[0m\n\u001b[0m\u001b[1;32m    426\u001b[0m \u001b[0;34m\u001b[0m\u001b[0m\n\u001b[1;32m    427\u001b[0m     async def is_checked(\n",
            "\u001b[0;32m/usr/local/lib/python3.11/dist-packages/playwright/_impl/_frame.py\u001b[0m in \u001b[0;36mwait_for_selector\u001b[0;34m(self, selector, strict, timeout, state)\u001b[0m\n\u001b[1;32m    321\u001b[0m     ) -> Optional[ElementHandle]:\n\u001b[1;32m    322\u001b[0m         return from_nullable_channel(\n\u001b[0;32m--> 323\u001b[0;31m             \u001b[0;32mawait\u001b[0m \u001b[0mself\u001b[0m\u001b[0;34m.\u001b[0m\u001b[0m_channel\u001b[0m\u001b[0;34m.\u001b[0m\u001b[0msend\u001b[0m\u001b[0;34m(\u001b[0m\u001b[0;34m\"waitForSelector\"\u001b[0m\u001b[0;34m,\u001b[0m \u001b[0mlocals_to_params\u001b[0m\u001b[0;34m(\u001b[0m\u001b[0mlocals\u001b[0m\u001b[0;34m(\u001b[0m\u001b[0;34m)\u001b[0m\u001b[0;34m)\u001b[0m\u001b[0;34m)\u001b[0m\u001b[0;34m\u001b[0m\u001b[0;34m\u001b[0m\u001b[0m\n\u001b[0m\u001b[1;32m    324\u001b[0m         )\n\u001b[1;32m    325\u001b[0m \u001b[0;34m\u001b[0m\u001b[0m\n",
            "\u001b[0;32m/usr/local/lib/python3.11/dist-packages/playwright/_impl/_connection.py\u001b[0m in \u001b[0;36msend\u001b[0;34m(self, method, params)\u001b[0m\n\u001b[1;32m     59\u001b[0m \u001b[0;34m\u001b[0m\u001b[0m\n\u001b[1;32m     60\u001b[0m     \u001b[0;32masync\u001b[0m \u001b[0;32mdef\u001b[0m \u001b[0msend\u001b[0m\u001b[0;34m(\u001b[0m\u001b[0mself\u001b[0m\u001b[0;34m,\u001b[0m \u001b[0mmethod\u001b[0m\u001b[0;34m:\u001b[0m \u001b[0mstr\u001b[0m\u001b[0;34m,\u001b[0m \u001b[0mparams\u001b[0m\u001b[0;34m:\u001b[0m \u001b[0mDict\u001b[0m \u001b[0;34m=\u001b[0m \u001b[0;32mNone\u001b[0m\u001b[0;34m)\u001b[0m \u001b[0;34m->\u001b[0m \u001b[0mAny\u001b[0m\u001b[0;34m:\u001b[0m\u001b[0;34m\u001b[0m\u001b[0;34m\u001b[0m\u001b[0m\n\u001b[0;32m---> 61\u001b[0;31m         return await self._connection.wrap_api_call(\n\u001b[0m\u001b[1;32m     62\u001b[0m             \u001b[0;32mlambda\u001b[0m\u001b[0;34m:\u001b[0m \u001b[0mself\u001b[0m\u001b[0;34m.\u001b[0m\u001b[0m_inner_send\u001b[0m\u001b[0;34m(\u001b[0m\u001b[0mmethod\u001b[0m\u001b[0;34m,\u001b[0m \u001b[0mparams\u001b[0m\u001b[0;34m,\u001b[0m \u001b[0;32mFalse\u001b[0m\u001b[0;34m)\u001b[0m\u001b[0;34m,\u001b[0m\u001b[0;34m\u001b[0m\u001b[0;34m\u001b[0m\u001b[0m\n\u001b[1;32m     63\u001b[0m             \u001b[0mself\u001b[0m\u001b[0;34m.\u001b[0m\u001b[0m_is_internal_type\u001b[0m\u001b[0;34m,\u001b[0m\u001b[0;34m\u001b[0m\u001b[0;34m\u001b[0m\u001b[0m\n",
            "\u001b[0;32m/usr/local/lib/python3.11/dist-packages/playwright/_impl/_connection.py\u001b[0m in \u001b[0;36mwrap_api_call\u001b[0;34m(self, cb, is_internal)\u001b[0m\n\u001b[1;32m    526\u001b[0m             \u001b[0;32mreturn\u001b[0m \u001b[0;32mawait\u001b[0m \u001b[0mcb\u001b[0m\u001b[0;34m(\u001b[0m\u001b[0;34m)\u001b[0m\u001b[0;34m\u001b[0m\u001b[0;34m\u001b[0m\u001b[0m\n\u001b[1;32m    527\u001b[0m         \u001b[0;32mexcept\u001b[0m \u001b[0mException\u001b[0m \u001b[0;32mas\u001b[0m \u001b[0merror\u001b[0m\u001b[0;34m:\u001b[0m\u001b[0;34m\u001b[0m\u001b[0;34m\u001b[0m\u001b[0m\n\u001b[0;32m--> 528\u001b[0;31m             \u001b[0;32mraise\u001b[0m \u001b[0mrewrite_error\u001b[0m\u001b[0;34m(\u001b[0m\u001b[0merror\u001b[0m\u001b[0;34m,\u001b[0m \u001b[0;34mf\"{parsed_st['apiName']}: {error}\"\u001b[0m\u001b[0;34m)\u001b[0m \u001b[0;32mfrom\u001b[0m \u001b[0;32mNone\u001b[0m\u001b[0;34m\u001b[0m\u001b[0;34m\u001b[0m\u001b[0m\n\u001b[0m\u001b[1;32m    529\u001b[0m         \u001b[0;32mfinally\u001b[0m\u001b[0;34m:\u001b[0m\u001b[0;34m\u001b[0m\u001b[0;34m\u001b[0m\u001b[0m\n\u001b[1;32m    530\u001b[0m             \u001b[0mself\u001b[0m\u001b[0;34m.\u001b[0m\u001b[0m_api_zone\u001b[0m\u001b[0;34m.\u001b[0m\u001b[0mset\u001b[0m\u001b[0;34m(\u001b[0m\u001b[0;32mNone\u001b[0m\u001b[0;34m)\u001b[0m\u001b[0;34m\u001b[0m\u001b[0;34m\u001b[0m\u001b[0m\n",
            "\u001b[0;31mTimeoutError\u001b[0m: Page.wait_for_selector: Timeout 30000ms exceeded.\nCall log:\n  - waiting for locator(\"iframe[name=\\\"main\\\"]\") to be visible\n"
          ]
        }
      ]
    },
    {
      "cell_type": "code",
      "source": [
        "import asyncio\n",
        "from playwright.async_api import async_playwright\n",
        "\n",
        "async def main():\n",
        "    refcat = \"9923301YJ2792D0001FP\"\n",
        "    base_url = \"https://www1.sedecatastro.gob.es/OVCConsultaRC/OVCConsultaRC.aspx\"\n",
        "\n",
        "    async with async_playwright() as p:\n",
        "        # browser = await p.chromium.launch(headless=False)  # headless False helps a LOT\n",
        "        browser = await p.chromium.launch(headless=True) # only for collab\n",
        "\n",
        "        context = await browser.new_context(\n",
        "            user_agent=\"Mozilla/5.0 (Windows NT 10.0; Win64; x64) AppleWebKit/537.36 (KHTML, like Gecko) Chrome/122.0.0.0 Safari/537.36\",\n",
        "            locale=\"es-ES\"\n",
        "        )\n",
        "        page = await context.new_page()\n",
        "\n",
        "        await page.goto(base_url, timeout=60000)\n",
        "        await page.wait_for_selector('input[name=\"tbRC1\"]', timeout=30000)\n",
        "\n",
        "        await page.fill('input[name=\"tbRC1\"]', refcat[:14])\n",
        "        await page.fill('input[name=\"tbRC2\"]', refcat[14:])\n",
        "        await page.click('input[name=\"btBuscar\"]')\n",
        "\n",
        "        await page.wait_for_selector('text=Datos del Inmueble', timeout=30000)\n",
        "\n",
        "        photo_link = await page.locator('a:has-text(\"Foto de Fachada\")').get_attribute('href')\n",
        "        if photo_link:\n",
        "            photo_url = \"https://www1.sedecatastro.gob.es\" + photo_link\n",
        "            print(\"✅ Image URL found:\", photo_url)\n",
        "        else:\n",
        "            print(\"❌ No image available for this parcel.\")\n",
        "\n",
        "        await browser.close()\n",
        "\n",
        "await main()\n"
      ],
      "metadata": {
        "colab": {
          "base_uri": "https://localhost:8080/",
          "height": 810
        },
        "id": "32GCcidyTsg_",
        "outputId": "9556bbde-e3f7-4d93-cf78-229983332026"
      },
      "execution_count": 13,
      "outputs": [
        {
          "output_type": "error",
          "ename": "TargetClosedError",
          "evalue": "BrowserType.launch: Target page, context or browser has been closed\nBrowser logs:\n\n╔════════════════════════════════════════════════════════════════════════════════════════════════╗\n║ Looks like you launched a headed browser without having a XServer running.                     ║\n║ Set either 'headless: true' or use 'xvfb-run <your-playwright-app>' before running Playwright. ║\n║                                                                                                ║\n║ <3 Playwright Team                                                                             ║\n╚════════════════════════════════════════════════════════════════════════════════════════════════╝\nCall log:\n  - <launching> /root/.cache/ms-playwright/chromium-1169/chrome-linux/chrome --disable-field-trial-config --disable-background-networking --disable-background-timer-throttling --disable-backgrounding-occluded-windows --disable-back-forward-cache --disable-breakpad --disable-client-side-phishing-detection --disable-component-extensions-with-background-pages --disable-component-update --no-default-browser-check --disable-default-apps --disable-dev-shm-usage --disable-extensions --disable-features=AcceptCHFrame,AutoExpandDetailsElement,AvoidUnnecessaryBeforeUnloadCheckSync,CertificateTransparencyComponentUpdater,DeferRendererTasksAfterInput,DestroyProfileOnBrowserClose,DialMediaRouteProvider,ExtensionManifestV2Disabled,GlobalMediaControls,HttpsUpgrades,ImprovedCookieControls,LazyFrameLoading,LensOverlay,MediaRouter,PaintHolding,ThirdPartyStoragePartitioning,Translate --allow-pre-commit-input --disable-hang-monitor --disable-ipc-flooding-protection --disable-popup-blocking --disable-prompt-on-repost --disable-renderer-backgrounding --force-color-profile=srgb --metrics-recording-only --no-first-run --enable-automation --password-store=basic --use-mock-keychain --no-service-autorun --export-tagged-pdf --disable-search-engine-choice-screen --unsafely-disable-devtools-self-xss-warnings --no-sandbox --user-data-dir=/tmp/playwright_chromiumdev_profile-4128m9 --remote-debugging-pipe --no-startup-window\n  - <launched> pid=4373\n  - [pid=4373][err] [4373:4392:0616/151851.398780:ERROR:dbus/bus.cc:408] Failed to connect to the bus: Failed to connect to socket /run/dbus/system_bus_socket: No such file or directory\n  - [pid=4373][err] [4373:4373:0616/151851.466054:ERROR:ui/ozone/platform/x11/ozone_platform_x11.cc:249] Missing X server or $DISPLAY\n  - [pid=4373][err] [4373:4373:0616/151851.466102:ERROR:ui/aura/env.cc:257] The platform failed to initialize.  Exiting.\n",
          "traceback": [
            "\u001b[0;31m---------------------------------------------------------------------------\u001b[0m",
            "\u001b[0;31mTargetClosedError\u001b[0m                         Traceback (most recent call last)",
            "\u001b[0;32m<ipython-input-13-4091619455>\u001b[0m in \u001b[0;36m<cell line: 1>\u001b[0;34m()\u001b[0m\n\u001b[1;32m     32\u001b[0m         \u001b[0;32mawait\u001b[0m \u001b[0mbrowser\u001b[0m\u001b[0;34m.\u001b[0m\u001b[0mclose\u001b[0m\u001b[0;34m(\u001b[0m\u001b[0;34m)\u001b[0m\u001b[0;34m\u001b[0m\u001b[0;34m\u001b[0m\u001b[0m\n\u001b[1;32m     33\u001b[0m \u001b[0;34m\u001b[0m\u001b[0m\n\u001b[0;32m---> 34\u001b[0;31m \u001b[0;32mawait\u001b[0m \u001b[0mmain\u001b[0m\u001b[0;34m(\u001b[0m\u001b[0;34m)\u001b[0m\u001b[0;34m\u001b[0m\u001b[0;34m\u001b[0m\u001b[0m\n\u001b[0m",
            "\u001b[0;32m<ipython-input-13-4091619455>\u001b[0m in \u001b[0;36mmain\u001b[0;34m()\u001b[0m\n\u001b[1;32m      7\u001b[0m \u001b[0;34m\u001b[0m\u001b[0m\n\u001b[1;32m      8\u001b[0m     \u001b[0;32masync\u001b[0m \u001b[0;32mwith\u001b[0m \u001b[0masync_playwright\u001b[0m\u001b[0;34m(\u001b[0m\u001b[0;34m)\u001b[0m \u001b[0;32mas\u001b[0m \u001b[0mp\u001b[0m\u001b[0;34m:\u001b[0m\u001b[0;34m\u001b[0m\u001b[0;34m\u001b[0m\u001b[0m\n\u001b[0;32m----> 9\u001b[0;31m         \u001b[0mbrowser\u001b[0m \u001b[0;34m=\u001b[0m \u001b[0;32mawait\u001b[0m \u001b[0mp\u001b[0m\u001b[0;34m.\u001b[0m\u001b[0mchromium\u001b[0m\u001b[0;34m.\u001b[0m\u001b[0mlaunch\u001b[0m\u001b[0;34m(\u001b[0m\u001b[0mheadless\u001b[0m\u001b[0;34m=\u001b[0m\u001b[0;32mFalse\u001b[0m\u001b[0;34m)\u001b[0m  \u001b[0;31m# headless False helps a LOT\u001b[0m\u001b[0;34m\u001b[0m\u001b[0;34m\u001b[0m\u001b[0m\n\u001b[0m\u001b[1;32m     10\u001b[0m         context = await browser.new_context(\n\u001b[1;32m     11\u001b[0m             \u001b[0muser_agent\u001b[0m\u001b[0;34m=\u001b[0m\u001b[0;34m\"Mozilla/5.0 (Windows NT 10.0; Win64; x64) AppleWebKit/537.36 (KHTML, like Gecko) Chrome/122.0.0.0 Safari/537.36\"\u001b[0m\u001b[0;34m,\u001b[0m\u001b[0;34m\u001b[0m\u001b[0;34m\u001b[0m\u001b[0m\n",
            "\u001b[0;32m/usr/local/lib/python3.11/dist-packages/playwright/async_api/_generated.py\u001b[0m in \u001b[0;36mlaunch\u001b[0;34m(self, executable_path, channel, args, ignore_default_args, handle_sigint, handle_sigterm, handle_sighup, timeout, env, headless, devtools, proxy, downloads_path, slow_mo, traces_dir, chromium_sandbox, firefox_user_prefs)\u001b[0m\n\u001b[1;32m  14449\u001b[0m \u001b[0;34m\u001b[0m\u001b[0m\n\u001b[1;32m  14450\u001b[0m         return mapping.from_impl(\n\u001b[0;32m> 14451\u001b[0;31m             await self._impl_obj.launch(\n\u001b[0m\u001b[1;32m  14452\u001b[0m                 \u001b[0mexecutablePath\u001b[0m\u001b[0;34m=\u001b[0m\u001b[0mexecutable_path\u001b[0m\u001b[0;34m,\u001b[0m\u001b[0;34m\u001b[0m\u001b[0;34m\u001b[0m\u001b[0m\n\u001b[1;32m  14453\u001b[0m                 \u001b[0mchannel\u001b[0m\u001b[0;34m=\u001b[0m\u001b[0mchannel\u001b[0m\u001b[0;34m,\u001b[0m\u001b[0;34m\u001b[0m\u001b[0;34m\u001b[0m\u001b[0m\n",
            "\u001b[0;32m/usr/local/lib/python3.11/dist-packages/playwright/_impl/_browser_type.py\u001b[0m in \u001b[0;36mlaunch\u001b[0;34m(self, executablePath, channel, args, ignoreDefaultArgs, handleSIGINT, handleSIGTERM, handleSIGHUP, timeout, env, headless, devtools, proxy, downloadsPath, slowMo, tracesDir, chromiumSandbox, firefoxUserPrefs)\u001b[0m\n\u001b[1;32m     95\u001b[0m         \u001b[0mnormalize_launch_params\u001b[0m\u001b[0;34m(\u001b[0m\u001b[0mparams\u001b[0m\u001b[0;34m)\u001b[0m\u001b[0;34m\u001b[0m\u001b[0;34m\u001b[0m\u001b[0m\n\u001b[1;32m     96\u001b[0m         browser = cast(\n\u001b[0;32m---> 97\u001b[0;31m             \u001b[0mBrowser\u001b[0m\u001b[0;34m,\u001b[0m \u001b[0mfrom_channel\u001b[0m\u001b[0;34m(\u001b[0m\u001b[0;32mawait\u001b[0m \u001b[0mself\u001b[0m\u001b[0;34m.\u001b[0m\u001b[0m_channel\u001b[0m\u001b[0;34m.\u001b[0m\u001b[0msend\u001b[0m\u001b[0;34m(\u001b[0m\u001b[0;34m\"launch\"\u001b[0m\u001b[0;34m,\u001b[0m \u001b[0mparams\u001b[0m\u001b[0;34m)\u001b[0m\u001b[0;34m)\u001b[0m\u001b[0;34m\u001b[0m\u001b[0;34m\u001b[0m\u001b[0m\n\u001b[0m\u001b[1;32m     98\u001b[0m         )\n\u001b[1;32m     99\u001b[0m         \u001b[0mself\u001b[0m\u001b[0;34m.\u001b[0m\u001b[0m_did_launch_browser\u001b[0m\u001b[0;34m(\u001b[0m\u001b[0mbrowser\u001b[0m\u001b[0;34m)\u001b[0m\u001b[0;34m\u001b[0m\u001b[0;34m\u001b[0m\u001b[0m\n",
            "\u001b[0;32m/usr/local/lib/python3.11/dist-packages/playwright/_impl/_connection.py\u001b[0m in \u001b[0;36msend\u001b[0;34m(self, method, params)\u001b[0m\n\u001b[1;32m     59\u001b[0m \u001b[0;34m\u001b[0m\u001b[0m\n\u001b[1;32m     60\u001b[0m     \u001b[0;32masync\u001b[0m \u001b[0;32mdef\u001b[0m \u001b[0msend\u001b[0m\u001b[0;34m(\u001b[0m\u001b[0mself\u001b[0m\u001b[0;34m,\u001b[0m \u001b[0mmethod\u001b[0m\u001b[0;34m:\u001b[0m \u001b[0mstr\u001b[0m\u001b[0;34m,\u001b[0m \u001b[0mparams\u001b[0m\u001b[0;34m:\u001b[0m \u001b[0mDict\u001b[0m \u001b[0;34m=\u001b[0m \u001b[0;32mNone\u001b[0m\u001b[0;34m)\u001b[0m \u001b[0;34m->\u001b[0m \u001b[0mAny\u001b[0m\u001b[0;34m:\u001b[0m\u001b[0;34m\u001b[0m\u001b[0;34m\u001b[0m\u001b[0m\n\u001b[0;32m---> 61\u001b[0;31m         return await self._connection.wrap_api_call(\n\u001b[0m\u001b[1;32m     62\u001b[0m             \u001b[0;32mlambda\u001b[0m\u001b[0;34m:\u001b[0m \u001b[0mself\u001b[0m\u001b[0;34m.\u001b[0m\u001b[0m_inner_send\u001b[0m\u001b[0;34m(\u001b[0m\u001b[0mmethod\u001b[0m\u001b[0;34m,\u001b[0m \u001b[0mparams\u001b[0m\u001b[0;34m,\u001b[0m \u001b[0;32mFalse\u001b[0m\u001b[0;34m)\u001b[0m\u001b[0;34m,\u001b[0m\u001b[0;34m\u001b[0m\u001b[0;34m\u001b[0m\u001b[0m\n\u001b[1;32m     63\u001b[0m             \u001b[0mself\u001b[0m\u001b[0;34m.\u001b[0m\u001b[0m_is_internal_type\u001b[0m\u001b[0;34m,\u001b[0m\u001b[0;34m\u001b[0m\u001b[0;34m\u001b[0m\u001b[0m\n",
            "\u001b[0;32m/usr/local/lib/python3.11/dist-packages/playwright/_impl/_connection.py\u001b[0m in \u001b[0;36mwrap_api_call\u001b[0;34m(self, cb, is_internal)\u001b[0m\n\u001b[1;32m    526\u001b[0m             \u001b[0;32mreturn\u001b[0m \u001b[0;32mawait\u001b[0m \u001b[0mcb\u001b[0m\u001b[0;34m(\u001b[0m\u001b[0;34m)\u001b[0m\u001b[0;34m\u001b[0m\u001b[0;34m\u001b[0m\u001b[0m\n\u001b[1;32m    527\u001b[0m         \u001b[0;32mexcept\u001b[0m \u001b[0mException\u001b[0m \u001b[0;32mas\u001b[0m \u001b[0merror\u001b[0m\u001b[0;34m:\u001b[0m\u001b[0;34m\u001b[0m\u001b[0;34m\u001b[0m\u001b[0m\n\u001b[0;32m--> 528\u001b[0;31m             \u001b[0;32mraise\u001b[0m \u001b[0mrewrite_error\u001b[0m\u001b[0;34m(\u001b[0m\u001b[0merror\u001b[0m\u001b[0;34m,\u001b[0m \u001b[0;34mf\"{parsed_st['apiName']}: {error}\"\u001b[0m\u001b[0;34m)\u001b[0m \u001b[0;32mfrom\u001b[0m \u001b[0;32mNone\u001b[0m\u001b[0;34m\u001b[0m\u001b[0;34m\u001b[0m\u001b[0m\n\u001b[0m\u001b[1;32m    529\u001b[0m         \u001b[0;32mfinally\u001b[0m\u001b[0;34m:\u001b[0m\u001b[0;34m\u001b[0m\u001b[0;34m\u001b[0m\u001b[0m\n\u001b[1;32m    530\u001b[0m             \u001b[0mself\u001b[0m\u001b[0;34m.\u001b[0m\u001b[0m_api_zone\u001b[0m\u001b[0;34m.\u001b[0m\u001b[0mset\u001b[0m\u001b[0;34m(\u001b[0m\u001b[0;32mNone\u001b[0m\u001b[0;34m)\u001b[0m\u001b[0;34m\u001b[0m\u001b[0;34m\u001b[0m\u001b[0m\n",
            "\u001b[0;31mTargetClosedError\u001b[0m: BrowserType.launch: Target page, context or browser has been closed\nBrowser logs:\n\n╔════════════════════════════════════════════════════════════════════════════════════════════════╗\n║ Looks like you launched a headed browser without having a XServer running.                     ║\n║ Set either 'headless: true' or use 'xvfb-run <your-playwright-app>' before running Playwright. ║\n║                                                                                                ║\n║ <3 Playwright Team                                                                             ║\n╚════════════════════════════════════════════════════════════════════════════════════════════════╝\nCall log:\n  - <launching> /root/.cache/ms-playwright/chromium-1169/chrome-linux/chrome --disable-field-trial-config --disable-background-networking --disable-background-timer-throttling --disable-backgrounding-occluded-windows --disable-back-forward-cache --disable-breakpad --disable-client-side-phishing-detection --disable-component-extensions-with-background-pages --disable-component-update --no-default-browser-check --disable-default-apps --disable-dev-shm-usage --disable-extensions --disable-features=AcceptCHFrame,AutoExpandDetailsElement,AvoidUnnecessaryBeforeUnloadCheckSync,CertificateTransparencyComponentUpdater,DeferRendererTasksAfterInput,DestroyProfileOnBrowserClose,DialMediaRouteProvider,ExtensionManifestV2Disabled,GlobalMediaControls,HttpsUpgrades,ImprovedCookieControls,LazyFrameLoading,LensOverlay,MediaRouter,PaintHolding,ThirdPartyStoragePartitioning,Translate --allow-pre-commit-input --disable-hang-monitor --disable-ipc-flooding-protection --disable-popup-blocking --disable-prompt-on-repost --disable-renderer-backgrounding --force-color-profile=srgb --metrics-recording-only --no-first-run --enable-automation --password-store=basic --use-mock-keychain --no-service-autorun --export-tagged-pdf --disable-search-engine-choice-screen --unsafely-disable-devtools-self-xss-warnings --no-sandbox --user-data-dir=/tmp/playwright_chromiumdev_profile-4128m9 --remote-debugging-pipe --no-startup-window\n  - <launched> pid=4373\n  - [pid=4373][err] [4373:4392:0616/151851.398780:ERROR:dbus/bus.cc:408] Failed to connect to the bus: Failed to connect to socket /run/dbus/system_bus_socket: No such file or directory\n  - [pid=4373][err] [4373:4373:0616/151851.466054:ERROR:ui/ozone/platform/x11/ozone_platform_x11.cc:249] Missing X server or $DISPLAY\n  - [pid=4373][err] [4373:4373:0616/151851.466102:ERROR:ui/aura/env.cc:257] The platform failed to initialize.  Exiting.\n"
          ]
        }
      ]
    },
    {
      "cell_type": "code",
      "source": [
        "import asyncio\n",
        "from playwright.async_api import async_playwright\n",
        "\n",
        "async def main():\n",
        "    refcat = \"9923301YJ2792D0001FP\"\n",
        "    base_url = \"https://www1.sedecatastro.gob.es/OVCConsultaRC/OVCConsultaRC.aspx\"\n",
        "\n",
        "    async with async_playwright() as p:\n",
        "        browser = await p.chromium.launch(headless=True)\n",
        "        context = await browser.new_context(\n",
        "            user_agent=\"Mozilla/5.0 (Windows NT 10.0; Win64; x64) AppleWebKit/537.36 (KHTML, like Gecko) Chrome/122.0.0.0 Safari/537.36\",\n",
        "            locale=\"es-ES\"\n",
        "        )\n",
        "        page = await context.new_page()\n",
        "\n",
        "        await page.goto(base_url, timeout=60000)\n",
        "\n",
        "        # Wait a bit longer before looking for fields\n",
        "        await page.wait_for_selector('input[name=\"tbRC1\"]', timeout=60000)\n",
        "\n",
        "        await page.fill('input[name=\"tbRC1\"]', refcat[:14])\n",
        "        await page.fill('input[name=\"tbRC2\"]', refcat[14:])\n",
        "        await page.click('input[name=\"btBuscar\"]')\n",
        "\n",
        "        await page.wait_for_selector('text=Datos del Inmueble', timeout=60000)\n",
        "\n",
        "        photo_link = await page.locator('a:has-text(\"Foto de Fachada\")').get_attribute('href')\n",
        "        if photo_link:\n",
        "            photo_url = \"https://www1.sedecatastro.gob.es\" + photo_link\n",
        "            print(\"✅ Image URL found:\", photo_url)\n",
        "        else:\n",
        "            print(\"❌ No image available for this parcel.\")\n",
        "\n",
        "        await browser.close()\n",
        "\n",
        "await main()\n"
      ],
      "metadata": {
        "colab": {
          "base_uri": "https://localhost:8080/",
          "height": 356
        },
        "id": "s9tl7cg0U48_",
        "outputId": "e7c10d1b-4eec-4b98-bd49-60a454439c06"
      },
      "execution_count": 14,
      "outputs": [
        {
          "output_type": "error",
          "ename": "TimeoutError",
          "evalue": "Page.wait_for_selector: Timeout 60000ms exceeded.\nCall log:\n  - waiting for locator(\"input[name=\\\"tbRC1\\\"]\") to be visible\n",
          "traceback": [
            "\u001b[0;31m---------------------------------------------------------------------------\u001b[0m",
            "\u001b[0;31mTimeoutError\u001b[0m                              Traceback (most recent call last)",
            "\u001b[0;32m<ipython-input-14-785479816>\u001b[0m in \u001b[0;36m<cell line: 1>\u001b[0;34m()\u001b[0m\n\u001b[1;32m     34\u001b[0m         \u001b[0;32mawait\u001b[0m \u001b[0mbrowser\u001b[0m\u001b[0;34m.\u001b[0m\u001b[0mclose\u001b[0m\u001b[0;34m(\u001b[0m\u001b[0;34m)\u001b[0m\u001b[0;34m\u001b[0m\u001b[0;34m\u001b[0m\u001b[0m\n\u001b[1;32m     35\u001b[0m \u001b[0;34m\u001b[0m\u001b[0m\n\u001b[0;32m---> 36\u001b[0;31m \u001b[0;32mawait\u001b[0m \u001b[0mmain\u001b[0m\u001b[0;34m(\u001b[0m\u001b[0;34m)\u001b[0m\u001b[0;34m\u001b[0m\u001b[0;34m\u001b[0m\u001b[0m\n\u001b[0m",
            "\u001b[0;32m<ipython-input-14-785479816>\u001b[0m in \u001b[0;36mmain\u001b[0;34m()\u001b[0m\n\u001b[1;32m     17\u001b[0m \u001b[0;34m\u001b[0m\u001b[0m\n\u001b[1;32m     18\u001b[0m         \u001b[0;31m# Wait a bit longer before looking for fields\u001b[0m\u001b[0;34m\u001b[0m\u001b[0;34m\u001b[0m\u001b[0m\n\u001b[0;32m---> 19\u001b[0;31m         \u001b[0;32mawait\u001b[0m \u001b[0mpage\u001b[0m\u001b[0;34m.\u001b[0m\u001b[0mwait_for_selector\u001b[0m\u001b[0;34m(\u001b[0m\u001b[0;34m'input[name=\"tbRC1\"]'\u001b[0m\u001b[0;34m,\u001b[0m \u001b[0mtimeout\u001b[0m\u001b[0;34m=\u001b[0m\u001b[0;36m60000\u001b[0m\u001b[0;34m)\u001b[0m\u001b[0;34m\u001b[0m\u001b[0;34m\u001b[0m\u001b[0m\n\u001b[0m\u001b[1;32m     20\u001b[0m \u001b[0;34m\u001b[0m\u001b[0m\n\u001b[1;32m     21\u001b[0m         \u001b[0;32mawait\u001b[0m \u001b[0mpage\u001b[0m\u001b[0;34m.\u001b[0m\u001b[0mfill\u001b[0m\u001b[0;34m(\u001b[0m\u001b[0;34m'input[name=\"tbRC1\"]'\u001b[0m\u001b[0;34m,\u001b[0m \u001b[0mrefcat\u001b[0m\u001b[0;34m[\u001b[0m\u001b[0;34m:\u001b[0m\u001b[0;36m14\u001b[0m\u001b[0;34m]\u001b[0m\u001b[0;34m)\u001b[0m\u001b[0;34m\u001b[0m\u001b[0;34m\u001b[0m\u001b[0m\n",
            "\u001b[0;32m/usr/local/lib/python3.11/dist-packages/playwright/async_api/_generated.py\u001b[0m in \u001b[0;36mwait_for_selector\u001b[0;34m(self, selector, timeout, state, strict)\u001b[0m\n\u001b[1;32m   8178\u001b[0m \u001b[0;34m\u001b[0m\u001b[0m\n\u001b[1;32m   8179\u001b[0m         return mapping.from_impl_nullable(\n\u001b[0;32m-> 8180\u001b[0;31m             await self._impl_obj.wait_for_selector(\n\u001b[0m\u001b[1;32m   8181\u001b[0m                 \u001b[0mselector\u001b[0m\u001b[0;34m=\u001b[0m\u001b[0mselector\u001b[0m\u001b[0;34m,\u001b[0m \u001b[0mtimeout\u001b[0m\u001b[0;34m=\u001b[0m\u001b[0mtimeout\u001b[0m\u001b[0;34m,\u001b[0m \u001b[0mstate\u001b[0m\u001b[0;34m=\u001b[0m\u001b[0mstate\u001b[0m\u001b[0;34m,\u001b[0m \u001b[0mstrict\u001b[0m\u001b[0;34m=\u001b[0m\u001b[0mstrict\u001b[0m\u001b[0;34m\u001b[0m\u001b[0;34m\u001b[0m\u001b[0m\n\u001b[1;32m   8182\u001b[0m             )\n",
            "\u001b[0;32m/usr/local/lib/python3.11/dist-packages/playwright/_impl/_page.py\u001b[0m in \u001b[0;36mwait_for_selector\u001b[0;34m(self, selector, timeout, state, strict)\u001b[0m\n\u001b[1;32m    423\u001b[0m         \u001b[0mstrict\u001b[0m\u001b[0;34m:\u001b[0m \u001b[0mbool\u001b[0m \u001b[0;34m=\u001b[0m \u001b[0;32mNone\u001b[0m\u001b[0;34m,\u001b[0m\u001b[0;34m\u001b[0m\u001b[0;34m\u001b[0m\u001b[0m\n\u001b[1;32m    424\u001b[0m     ) -> Optional[ElementHandle]:\n\u001b[0;32m--> 425\u001b[0;31m         \u001b[0;32mreturn\u001b[0m \u001b[0;32mawait\u001b[0m \u001b[0mself\u001b[0m\u001b[0;34m.\u001b[0m\u001b[0m_main_frame\u001b[0m\u001b[0;34m.\u001b[0m\u001b[0mwait_for_selector\u001b[0m\u001b[0;34m(\u001b[0m\u001b[0;34m**\u001b[0m\u001b[0mlocals_to_params\u001b[0m\u001b[0;34m(\u001b[0m\u001b[0mlocals\u001b[0m\u001b[0;34m(\u001b[0m\u001b[0;34m)\u001b[0m\u001b[0;34m)\u001b[0m\u001b[0;34m)\u001b[0m\u001b[0;34m\u001b[0m\u001b[0;34m\u001b[0m\u001b[0m\n\u001b[0m\u001b[1;32m    426\u001b[0m \u001b[0;34m\u001b[0m\u001b[0m\n\u001b[1;32m    427\u001b[0m     async def is_checked(\n",
            "\u001b[0;32m/usr/local/lib/python3.11/dist-packages/playwright/_impl/_frame.py\u001b[0m in \u001b[0;36mwait_for_selector\u001b[0;34m(self, selector, strict, timeout, state)\u001b[0m\n\u001b[1;32m    321\u001b[0m     ) -> Optional[ElementHandle]:\n\u001b[1;32m    322\u001b[0m         return from_nullable_channel(\n\u001b[0;32m--> 323\u001b[0;31m             \u001b[0;32mawait\u001b[0m \u001b[0mself\u001b[0m\u001b[0;34m.\u001b[0m\u001b[0m_channel\u001b[0m\u001b[0;34m.\u001b[0m\u001b[0msend\u001b[0m\u001b[0;34m(\u001b[0m\u001b[0;34m\"waitForSelector\"\u001b[0m\u001b[0;34m,\u001b[0m \u001b[0mlocals_to_params\u001b[0m\u001b[0;34m(\u001b[0m\u001b[0mlocals\u001b[0m\u001b[0;34m(\u001b[0m\u001b[0;34m)\u001b[0m\u001b[0;34m)\u001b[0m\u001b[0;34m)\u001b[0m\u001b[0;34m\u001b[0m\u001b[0;34m\u001b[0m\u001b[0m\n\u001b[0m\u001b[1;32m    324\u001b[0m         )\n\u001b[1;32m    325\u001b[0m \u001b[0;34m\u001b[0m\u001b[0m\n",
            "\u001b[0;32m/usr/local/lib/python3.11/dist-packages/playwright/_impl/_connection.py\u001b[0m in \u001b[0;36msend\u001b[0;34m(self, method, params)\u001b[0m\n\u001b[1;32m     59\u001b[0m \u001b[0;34m\u001b[0m\u001b[0m\n\u001b[1;32m     60\u001b[0m     \u001b[0;32masync\u001b[0m \u001b[0;32mdef\u001b[0m \u001b[0msend\u001b[0m\u001b[0;34m(\u001b[0m\u001b[0mself\u001b[0m\u001b[0;34m,\u001b[0m \u001b[0mmethod\u001b[0m\u001b[0;34m:\u001b[0m \u001b[0mstr\u001b[0m\u001b[0;34m,\u001b[0m \u001b[0mparams\u001b[0m\u001b[0;34m:\u001b[0m \u001b[0mDict\u001b[0m \u001b[0;34m=\u001b[0m \u001b[0;32mNone\u001b[0m\u001b[0;34m)\u001b[0m \u001b[0;34m->\u001b[0m \u001b[0mAny\u001b[0m\u001b[0;34m:\u001b[0m\u001b[0;34m\u001b[0m\u001b[0;34m\u001b[0m\u001b[0m\n\u001b[0;32m---> 61\u001b[0;31m         return await self._connection.wrap_api_call(\n\u001b[0m\u001b[1;32m     62\u001b[0m             \u001b[0;32mlambda\u001b[0m\u001b[0;34m:\u001b[0m \u001b[0mself\u001b[0m\u001b[0;34m.\u001b[0m\u001b[0m_inner_send\u001b[0m\u001b[0;34m(\u001b[0m\u001b[0mmethod\u001b[0m\u001b[0;34m,\u001b[0m \u001b[0mparams\u001b[0m\u001b[0;34m,\u001b[0m \u001b[0;32mFalse\u001b[0m\u001b[0;34m)\u001b[0m\u001b[0;34m,\u001b[0m\u001b[0;34m\u001b[0m\u001b[0;34m\u001b[0m\u001b[0m\n\u001b[1;32m     63\u001b[0m             \u001b[0mself\u001b[0m\u001b[0;34m.\u001b[0m\u001b[0m_is_internal_type\u001b[0m\u001b[0;34m,\u001b[0m\u001b[0;34m\u001b[0m\u001b[0;34m\u001b[0m\u001b[0m\n",
            "\u001b[0;32m/usr/local/lib/python3.11/dist-packages/playwright/_impl/_connection.py\u001b[0m in \u001b[0;36mwrap_api_call\u001b[0;34m(self, cb, is_internal)\u001b[0m\n\u001b[1;32m    526\u001b[0m             \u001b[0;32mreturn\u001b[0m \u001b[0;32mawait\u001b[0m \u001b[0mcb\u001b[0m\u001b[0;34m(\u001b[0m\u001b[0;34m)\u001b[0m\u001b[0;34m\u001b[0m\u001b[0;34m\u001b[0m\u001b[0m\n\u001b[1;32m    527\u001b[0m         \u001b[0;32mexcept\u001b[0m \u001b[0mException\u001b[0m \u001b[0;32mas\u001b[0m \u001b[0merror\u001b[0m\u001b[0;34m:\u001b[0m\u001b[0;34m\u001b[0m\u001b[0;34m\u001b[0m\u001b[0m\n\u001b[0;32m--> 528\u001b[0;31m             \u001b[0;32mraise\u001b[0m \u001b[0mrewrite_error\u001b[0m\u001b[0;34m(\u001b[0m\u001b[0merror\u001b[0m\u001b[0;34m,\u001b[0m \u001b[0;34mf\"{parsed_st['apiName']}: {error}\"\u001b[0m\u001b[0;34m)\u001b[0m \u001b[0;32mfrom\u001b[0m \u001b[0;32mNone\u001b[0m\u001b[0;34m\u001b[0m\u001b[0;34m\u001b[0m\u001b[0m\n\u001b[0m\u001b[1;32m    529\u001b[0m         \u001b[0;32mfinally\u001b[0m\u001b[0;34m:\u001b[0m\u001b[0;34m\u001b[0m\u001b[0;34m\u001b[0m\u001b[0m\n\u001b[1;32m    530\u001b[0m             \u001b[0mself\u001b[0m\u001b[0;34m.\u001b[0m\u001b[0m_api_zone\u001b[0m\u001b[0;34m.\u001b[0m\u001b[0mset\u001b[0m\u001b[0;34m(\u001b[0m\u001b[0;32mNone\u001b[0m\u001b[0;34m)\u001b[0m\u001b[0;34m\u001b[0m\u001b[0;34m\u001b[0m\u001b[0m\n",
            "\u001b[0;31mTimeoutError\u001b[0m: Page.wait_for_selector: Timeout 60000ms exceeded.\nCall log:\n  - waiting for locator(\"input[name=\\\"tbRC1\\\"]\") to be visible\n"
          ]
        }
      ]
    }
  ]
}