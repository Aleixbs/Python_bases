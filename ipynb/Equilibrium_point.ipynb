{
 "cells": [
  {
   "cell_type": "markdown",
   "id": "1eee3aaa",
   "metadata": {},
   "source": [
    "# Equilibrium Point\n",
    "\n",
    "Given an array A of n positive numbers. The task is to find the first Equilibrium Point in an array. \n",
    "\n",
    "Equilibrium Point in an array is a position such that the sum of elements before it is equal to the sum of elements after it."
   ]
  },
  {
   "cell_type": "markdown",
   "id": "3177a064",
   "metadata": {},
   "source": [
    "## Posibles problemas\n",
    "\n",
    "N = número de posiciones que tiene la lista \n",
    "\n",
    "1: La lista no tiene numeros \n",
    "2: La lista sólo tiene 2 números \n",
    "3: La lista no tiene equilibrium point = -1\n",
    "4: La lista tiene que tener un indice basado en 1 ( el 0 es tratado cómo 1)"
   ]
  },
  {
   "cell_type": "markdown",
   "id": "b31c3b90",
   "metadata": {},
   "source": [
    "## Brute force solucion \n",
    "\n",
    "Aquí vamos a intentar definir una solución\n",
    "````python\n",
    "A = [1,3,2,2,1,4,5]\n",
    "N = 7\n",
    "\n",
    "def equilibriumPoint(A,N):\n",
    "    if N == 1:\n",
    "        return 1\n",
    "    elif N == 2:\n",
    "        return -1\n",
    "    else:\n",
    "        list1 = []\n",
    "        list2 = []\n",
    "        for position in range(N):\n",
    "            pivot = A[position]\n",
    "            list1 = A[:(position-1)]\n",
    "            list2 = A[position:]\n",
    "            print([list1,pivot,list2])     \n",
    "equilibriumPoint(A,N)        \n",
    "```            \n"
   ]
  },
  {
   "cell_type": "markdown",
   "id": "d2163999",
   "metadata": {},
   "source": [
    "## Brute force solution 2"
   ]
  },
  {
   "cell_type": "code",
   "execution_count": 1,
   "id": "cffacf62",
   "metadata": {},
   "outputs": [
    {
     "name": "stdout",
     "output_type": "stream",
     "text": [
      "9\n",
      "3\n",
      "13\n",
      "4\n",
      "4\n"
     ]
    }
   ],
   "source": [
    "N = 5\n",
    "A = [3,1,5,2,2]\n",
    "def equilibriumPoint(A, N):\n",
    "    for i in A: \n",
    "        print(sum(A[:i]))\n",
    "        sumbefore = sum([i])\n",
    "\n",
    "equilibriumPoint([3,1,5,2,2], 5)\n",
    "    \n",
    "    \n",
    "    "
   ]
  },
  {
   "cell_type": "markdown",
   "id": "dfe68fff",
   "metadata": {},
   "source": [
    "### F1 Buscar el número en la mitad\n",
    "\n",
    "N = 5\n",
    "A = {3,1,5,2,2}\n",
    "\n",
    "postion = len(A)//2 = i\n",
    "print(position)\n",
    "\n",
    "output = i {2} == 5 "
   ]
  },
  {
   "cell_type": "code",
   "execution_count": 2,
   "id": "e78f7526",
   "metadata": {},
   "outputs": [
    {
     "data": {
      "text/plain": [
       "2"
      ]
     },
     "execution_count": 2,
     "metadata": {},
     "output_type": "execute_result"
    }
   ],
   "source": [
    "N = 5\n",
    "A = [3,1,5,2,2]\n",
    "\n",
    "def punto_medio(A):\n",
    "    position = len(A) // 2\n",
    "    return position \n",
    "    \n",
    "    \n",
    "punto_medio(A)"
   ]
  },
  {
   "cell_type": "markdown",
   "id": "0cb725a7",
   "metadata": {},
   "source": [
    "### F2 Sumar los números anteriores\n",
    "N = 5\n",
    "A = {3,1,5,2,2}\n",
    "\n",
    "puntomedio = i \n",
    "sum :i \n",
    "\n",
    "sum(A{:i})"
   ]
  },
  {
   "cell_type": "code",
   "execution_count": 3,
   "id": "16014809",
   "metadata": {},
   "outputs": [
    {
     "data": {
      "text/plain": [
       "(4, 4)"
      ]
     },
     "execution_count": 3,
     "metadata": {},
     "output_type": "execute_result"
    }
   ],
   "source": [
    "N = 5\n",
    "A = [3,1,5,2,2]\n",
    "i = 2\n",
    "\n",
    "def suma_num(A,i):\n",
    "    suma_a = sum(A[:i])\n",
    "    suma_b = sum(A[i + 1:])\n",
    "\n",
    "    return suma_a,suma_b\n",
    "\n",
    "\n",
    "\n",
    "suma_num(A,i)\n"
   ]
  },
  {
   "cell_type": "markdown",
   "id": "0c42e81b",
   "metadata": {},
   "source": [
    "### F3 Comparar los prouctos de las sumas \n",
    "\n",
    "N = 5\n",
    "A = {3,1,5,2,2]\n",
    "i = 2\n",
    "suma_a = 4\n",
    "suma_b = 4\n",
    "\n",
    "suma_a == suma_b ---- expected output = 0 \n",
    "suma_a > suma_b ----- expected output = i - 1\n",
    "suma_a < suma_b ----- expected output = i + 1 \n",
    "\n",
    "En el caso que los productos de las sumas no coincidan, entonces se tendrá que ejectuar un loop \n",
    "decreciendo el indice cuándo los números anteriores sean mayores\n",
    "aumentando cuándo los números posteriores sean menores"
   ]
  },
  {
   "cell_type": "code",
   "execution_count": 4,
   "id": "938653fd",
   "metadata": {},
   "outputs": [
    {
     "name": "stdout",
     "output_type": "stream",
     "text": [
      "[3, 1, 5]\n",
      "[3]\n",
      "[3, 1, 5, 2, 2]\n",
      "[3, 1]\n",
      "[3, 1]\n"
     ]
    }
   ],
   "source": [
    "N = 5\n",
    "A = [3,1,5,2,2]\n",
    "i = 2\n",
    "suma_a = 5\n",
    "suma_b = 4\n",
    "\n",
    "def compare(A,i,suma_a,suma_b):\n",
    "    if suma_a == suma_b: \n",
    "        print(i+1)\n",
    "    elif suma_a > suma_b: \n",
    "        for i in A: \n",
    "            print(A[0:i])\n",
    "            \n",
    "    else:\n",
    "        pass\n",
    "    \n",
    "compare(A,i, suma_a,suma_b)\n",
    "        "
   ]
  },
  {
   "cell_type": "markdown",
   "id": "265a7bfc",
   "metadata": {},
   "source": [
    "## Solucio Sara"
   ]
  },
  {
   "cell_type": "code",
   "execution_count": 23,
   "id": "d0aacea1",
   "metadata": {},
   "outputs": [
    {
     "data": {
      "text/plain": [
       "3"
      ]
     },
     "execution_count": 23,
     "metadata": {},
     "output_type": "execute_result"
    }
   ],
   "source": [
    "N = 5\n",
    "A = [3,1,5,2,2]\n",
    "\n",
    "def compare(A,N):\n",
    "    if N == 1: \n",
    "        return 1\n",
    "    for i in A: \n",
    "        if sum(A[:i]) == sum(A[i + 1:]): \n",
    "            return(i+1)\n",
    "        if A == 0: \n",
    "            return 1\n",
    "    else: \n",
    "        return -1\n",
    "\n",
    "\n",
    "    \n",
    "compare(A,N)\n",
    "\n",
    "\n",
    "# 1 --- output = 1 not -1\n",
    "# N = 34 A = [7 29 9 10 42 10 5 10 8 37 33 1 19 19 2 35 24 37 ,9, 11 20 12 33 36 33 30 28 33 26 6 32 28 5 4] \n",
    "# output = 19\n",
    "        "
   ]
  },
  {
   "cell_type": "markdown",
   "id": "2cb4ba4c",
   "metadata": {},
   "source": [
    "## Solucion online"
   ]
  },
  {
   "cell_type": "code",
   "execution_count": null,
   "id": "5ae069c9",
   "metadata": {},
   "outputs": [],
   "source": [
    "def equilibriumPoint(A, N):\n",
    "    if N==1:\n",
    "        return 1\n",
    "        \n",
    "    sum1, sum2 = 0, sum(A)\n",
    "        \n",
    "    for i in range(N):\n",
    "        sum2-=A[i]\n",
    "\n",
    "        if sum1==sum2:\n",
    "            return i+1\n",
    "            \n",
    "        sum1+=A[i]\n",
    "        \n",
    "    return -1"
   ]
  },
  {
   "cell_type": "markdown",
   "id": "8da37851",
   "metadata": {},
   "source": [
    "## Solucion intentar comprenderla"
   ]
  },
  {
   "cell_type": "code",
   "execution_count": 33,
   "id": "de4a20aa",
   "metadata": {},
   "outputs": [
    {
     "data": {
      "text/plain": [
       "19"
      ]
     },
     "execution_count": 33,
     "metadata": {},
     "output_type": "execute_result"
    }
   ],
   "source": [
    "N = 34\n",
    "A = [7,29,9,10,42,10,5,10,8,37,33,1,19,19,2,35,24,37,9,11,20,12,33,36,33,30,28,33,26,6,32,28,5,4]\n",
    "\n",
    "def equilibriumPoint( A, N):    \n",
    "    if N==1:\n",
    "        return 1\n",
    "    #sum1 , sum2 = 0, sum(A)    \n",
    "    sum1= 0 \n",
    "    sum2= sum(A) \n",
    "    #print(sum(A))\n",
    "    #print(N)\n",
    "    #print(sum2)\n",
    "    #print(sum1)\n",
    "        \n",
    "    for i in range(N):\n",
    "        #sum1+=A[i]\n",
    "        sum2-=A[i]\n",
    "        #print(sum2)\n",
    "        if sum1==sum2:\n",
    "            return i+1\n",
    "        else:   \n",
    "            sum1+=A[i]\n",
    "        #print(sum1)\n",
    "        \n",
    "    return -1\n",
    "\n",
    "equilibriumPoint(A,N)"
   ]
  }
 ],
 "metadata": {
  "kernelspec": {
   "display_name": "Python 3",
   "language": "python",
   "name": "python3"
  },
  "language_info": {
   "codemirror_mode": {
    "name": "ipython",
    "version": 3
   },
   "file_extension": ".py",
   "mimetype": "text/x-python",
   "name": "python",
   "nbconvert_exporter": "python",
   "pygments_lexer": "ipython3",
   "version": "3.7.11"
  }
 },
 "nbformat": 4,
 "nbformat_minor": 5
}
