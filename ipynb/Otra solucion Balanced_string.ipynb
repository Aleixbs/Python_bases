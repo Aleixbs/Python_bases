{
 "cells": [
  {
   "cell_type": "code",
   "execution_count": null,
   "id": "cec314bf",
   "metadata": {},
   "outputs": [],
   "source": [
    "#User function Template for python3\n",
    "\n",
    "class Solution:\n",
    "    def BalancedString(self,N):\n",
    "        temp = ''\n",
    "        s = 'abcdefghijklmnopqrstuvwxyz'\n",
    "        if N % 2 == 0:\n",
    "            while N > 0:\n",
    "                if N <= 26:\n",
    "                    temp += s[:N//2]\n",
    "                    temp += s[26-N//2:]\n",
    "                if N > 26:\n",
    "                    temp += s\n",
    "                N -= 26\n",
    "\n",
    "        else:\n",
    "            n = 0\n",
    "            K = N\n",
    "            while K:\n",
    "                i = K % 10\n",
    "                K = K//10\n",
    "                n += i\n",
    "\n",
    "            if n % 2 == 0:\n",
    "                while N > 0:\n",
    "                    if N <= 26:\n",
    "\n",
    "                        temp += s[:(N+1)//2]\n",
    "                        temp += s[26-((N-1)//2):]\n",
    "                    if N > 26:\n",
    "                        temp += s\n",
    "                    N -= 26\n",
    "\n",
    "            else:\n",
    "                k = True\n",
    "                while N > 0:\n",
    "                \n",
    "                    if N <= 26:\n",
    "                        temp += s[:(N-1)//2]\n",
    "                        temp += s[26-((N+1)//2):]\n",
    "                    if N > 26:\n",
    "                        temp += s\n",
    "                    N -= 26\n",
    "\n",
    "        return temp\n",
    "\n",
    "\n"
   ]
  }
 ],
 "metadata": {
  "kernelspec": {
   "display_name": "Python 3",
   "language": "python",
   "name": "python3"
  },
  "language_info": {
   "codemirror_mode": {
    "name": "ipython",
    "version": 3
   },
   "file_extension": ".py",
   "mimetype": "text/x-python",
   "name": "python",
   "nbconvert_exporter": "python",
   "pygments_lexer": "ipython3",
   "version": "3.7.11"
  }
 },
 "nbformat": 4,
 "nbformat_minor": 5
}
