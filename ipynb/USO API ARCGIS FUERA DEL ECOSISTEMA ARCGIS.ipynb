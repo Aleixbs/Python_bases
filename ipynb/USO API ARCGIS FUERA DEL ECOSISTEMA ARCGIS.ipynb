{
 "cells": [
  {
   "attachments": {
    "logo.png": {
     "image/png": "[encoded data removed]"
    }
   },
   "cell_type": "markdown",
   "id": "929e404a",
   "metadata": {},
   "source": [
    "# USO LIBRERÍA ARCGIS\n",
    "\n",
    "DATOS mundiales extraidos de: https://www.efrainmaps.es/english-version/free-downloads/world/\n",
    "\n",
    "<img src= attachment:logo.png width = 50/> \n",
    "\n",
    "#### Objetivo\n",
    "\n",
    "Una aproximación al workflow con el Api de ArcGIS en local con jupyter notebooks  \n",
    "\n",
    "- Se trabja con pandas\n",
    "- Se usan datos en local\n",
    "- Luego se pintan en un mapa\n",
    "- Finalmente se intenta exportar y publicar el mapa en arcgis Online\n"
   ]
  },
  {
   "cell_type": "code",
   "execution_count": 2,
   "id": "c3850443",
   "metadata": {},
   "outputs": [
    {
     "name": "stdout",
     "output_type": "stream",
     "text": [
      "Enter password: ········\n"
     ]
    }
   ],
   "source": [
    "from arcgis.gis import GIS\n",
    "gis = GIS(\"https://esrimastergis.maps.arcgis.com/\",\"abatlle.esrimg\")"
   ]
  },
  {
   "cell_type": "code",
   "execution_count": 3,
   "id": "81221480",
   "metadata": {},
   "outputs": [],
   "source": [
    "import pandas as pd"
   ]
  },
  {
   "cell_type": "code",
   "execution_count": 6,
   "id": "91e02389",
   "metadata": {},
   "outputs": [],
   "source": [
    "hist = pd.read_csv('C:\\EsriTraining\\LearnArcGIS\\RiverFloods\\RiverFloods\\global_flood_risk.csv')   "
   ]
  },
  {
   "cell_type": "code",
   "execution_count": 7,
   "id": "0bcd0a02",
   "metadata": {},
   "outputs": [
    {
     "data": {
      "text/html": [
       "<div>\n",
       "<style scoped>\n",
       "    .dataframe tbody tr th:only-of-type {\n",
       "        vertical-align: middle;\n",
       "    }\n",
       "\n",
       "    .dataframe tbody tr th {\n",
       "        vertical-align: top;\n",
       "    }\n",
       "\n",
       "    .dataframe thead th {\n",
       "        text-align: right;\n",
       "    }\n",
       "</style>\n",
       "<table border=\"1\" class=\"dataframe\">\n",
       "  <thead>\n",
       "    <tr style=\"text-align: right;\">\n",
       "      <th></th>\n",
       "      <th>Rank</th>\n",
       "      <th>Country</th>\n",
       "      <th>Current annual average population affected by river floods</th>\n",
       "    </tr>\n",
       "  </thead>\n",
       "  <tbody>\n",
       "    <tr>\n",
       "      <th>0</th>\n",
       "      <td>1</td>\n",
       "      <td>India</td>\n",
       "      <td>4,835,259</td>\n",
       "    </tr>\n",
       "    <tr>\n",
       "      <th>1</th>\n",
       "      <td>2</td>\n",
       "      <td>Bangladesh</td>\n",
       "      <td>3,477,315</td>\n",
       "    </tr>\n",
       "    <tr>\n",
       "      <th>2</th>\n",
       "      <td>3</td>\n",
       "      <td>China</td>\n",
       "      <td>3,279,455</td>\n",
       "    </tr>\n",
       "    <tr>\n",
       "      <th>3</th>\n",
       "      <td>4</td>\n",
       "      <td>Vietnam</td>\n",
       "      <td>929,635</td>\n",
       "    </tr>\n",
       "    <tr>\n",
       "      <th>4</th>\n",
       "      <td>5</td>\n",
       "      <td>Pakistan</td>\n",
       "      <td>714,822</td>\n",
       "    </tr>\n",
       "    <tr>\n",
       "      <th>...</th>\n",
       "      <td>...</td>\n",
       "      <td>...</td>\n",
       "      <td>...</td>\n",
       "    </tr>\n",
       "    <tr>\n",
       "      <th>158</th>\n",
       "      <td>159</td>\n",
       "      <td>Jamaica</td>\n",
       "      <td>52</td>\n",
       "    </tr>\n",
       "    <tr>\n",
       "      <th>159</th>\n",
       "      <td>160</td>\n",
       "      <td>Djibouti</td>\n",
       "      <td>49</td>\n",
       "    </tr>\n",
       "    <tr>\n",
       "      <th>160</th>\n",
       "      <td>161</td>\n",
       "      <td>Cyprus</td>\n",
       "      <td>42</td>\n",
       "    </tr>\n",
       "    <tr>\n",
       "      <th>161</th>\n",
       "      <td>162</td>\n",
       "      <td>Iceland</td>\n",
       "      <td>23</td>\n",
       "    </tr>\n",
       "    <tr>\n",
       "      <th>162</th>\n",
       "      <td>163</td>\n",
       "      <td>Liechtenstein</td>\n",
       "      <td>18</td>\n",
       "    </tr>\n",
       "  </tbody>\n",
       "</table>\n",
       "<p>163 rows × 3 columns</p>\n",
       "</div>"
      ],
      "text/plain": [
       "     Rank        Country  \\\n",
       "0       1          India   \n",
       "1       2     Bangladesh   \n",
       "2       3          China   \n",
       "3       4        Vietnam   \n",
       "4       5       Pakistan   \n",
       "..    ...            ...   \n",
       "158   159        Jamaica   \n",
       "159   160       Djibouti   \n",
       "160   161         Cyprus   \n",
       "161   162        Iceland   \n",
       "162   163  Liechtenstein   \n",
       "\n",
       "    Current annual average population affected by river floods  \n",
       "0                                            4,835,259          \n",
       "1                                            3,477,315          \n",
       "2                                            3,279,455          \n",
       "3                                              929,635          \n",
       "4                                              714,822          \n",
       "..                                                 ...          \n",
       "158                                                 52          \n",
       "159                                                 49          \n",
       "160                                                 42          \n",
       "161                                                 23          \n",
       "162                                                 18          \n",
       "\n",
       "[163 rows x 3 columns]"
      ]
     },
     "execution_count": 7,
     "metadata": {},
     "output_type": "execute_result"
    }
   ],
   "source": [
    "hist"
   ]
  },
  {
   "cell_type": "code",
   "execution_count": 10,
   "id": "88a6f954",
   "metadata": {},
   "outputs": [
    {
     "data": {
      "text/html": [
       "<div>\n",
       "<style scoped>\n",
       "    .dataframe tbody tr th:only-of-type {\n",
       "        vertical-align: middle;\n",
       "    }\n",
       "\n",
       "    .dataframe tbody tr th {\n",
       "        vertical-align: top;\n",
       "    }\n",
       "\n",
       "    .dataframe thead th {\n",
       "        text-align: right;\n",
       "    }\n",
       "</style>\n",
       "<table border=\"1\" class=\"dataframe\">\n",
       "  <thead>\n",
       "    <tr style=\"text-align: right;\">\n",
       "      <th></th>\n",
       "      <th>Rank</th>\n",
       "      <th>Country</th>\n",
       "      <th>Current annual average population affected by river floods</th>\n",
       "    </tr>\n",
       "  </thead>\n",
       "  <tbody>\n",
       "    <tr>\n",
       "      <th>0</th>\n",
       "      <td>1</td>\n",
       "      <td>India</td>\n",
       "      <td>4,835,259</td>\n",
       "    </tr>\n",
       "    <tr>\n",
       "      <th>1</th>\n",
       "      <td>2</td>\n",
       "      <td>Bangladesh</td>\n",
       "      <td>3,477,315</td>\n",
       "    </tr>\n",
       "    <tr>\n",
       "      <th>2</th>\n",
       "      <td>3</td>\n",
       "      <td>China</td>\n",
       "      <td>3,279,455</td>\n",
       "    </tr>\n",
       "    <tr>\n",
       "      <th>3</th>\n",
       "      <td>4</td>\n",
       "      <td>Vietnam</td>\n",
       "      <td>929,635</td>\n",
       "    </tr>\n",
       "    <tr>\n",
       "      <th>4</th>\n",
       "      <td>5</td>\n",
       "      <td>Pakistan</td>\n",
       "      <td>714,822</td>\n",
       "    </tr>\n",
       "    <tr>\n",
       "      <th>...</th>\n",
       "      <td>...</td>\n",
       "      <td>...</td>\n",
       "      <td>...</td>\n",
       "    </tr>\n",
       "    <tr>\n",
       "      <th>158</th>\n",
       "      <td>159</td>\n",
       "      <td>Jamaica</td>\n",
       "      <td>52</td>\n",
       "    </tr>\n",
       "    <tr>\n",
       "      <th>159</th>\n",
       "      <td>160</td>\n",
       "      <td>Djibouti</td>\n",
       "      <td>49</td>\n",
       "    </tr>\n",
       "    <tr>\n",
       "      <th>160</th>\n",
       "      <td>161</td>\n",
       "      <td>Cyprus</td>\n",
       "      <td>42</td>\n",
       "    </tr>\n",
       "    <tr>\n",
       "      <th>161</th>\n",
       "      <td>162</td>\n",
       "      <td>Iceland</td>\n",
       "      <td>23</td>\n",
       "    </tr>\n",
       "    <tr>\n",
       "      <th>162</th>\n",
       "      <td>163</td>\n",
       "      <td>Liechtenstein</td>\n",
       "      <td>18</td>\n",
       "    </tr>\n",
       "  </tbody>\n",
       "</table>\n",
       "<p>163 rows × 3 columns</p>\n",
       "</div>"
      ],
      "text/plain": [
       "     Rank        Country  \\\n",
       "0       1          India   \n",
       "1       2     Bangladesh   \n",
       "2       3          China   \n",
       "3       4        Vietnam   \n",
       "4       5       Pakistan   \n",
       "..    ...            ...   \n",
       "158   159        Jamaica   \n",
       "159   160       Djibouti   \n",
       "160   161         Cyprus   \n",
       "161   162        Iceland   \n",
       "162   163  Liechtenstein   \n",
       "\n",
       "    Current annual average population affected by river floods  \n",
       "0                                            4,835,259          \n",
       "1                                            3,477,315          \n",
       "2                                            3,279,455          \n",
       "3                                              929,635          \n",
       "4                                              714,822          \n",
       "..                                                 ...          \n",
       "158                                                 52          \n",
       "159                                                 49          \n",
       "160                                                 42          \n",
       "161                                                 23          \n",
       "162                                                 18          \n",
       "\n",
       "[163 rows x 3 columns]"
      ]
     },
     "execution_count": 10,
     "metadata": {},
     "output_type": "execute_result"
    }
   ],
   "source": [
    "datos = pd.DataFrame(hist)\n",
    "datos"
   ]
  },
  {
   "cell_type": "code",
   "execution_count": 13,
   "id": "8a21bd21",
   "metadata": {},
   "outputs": [
    {
     "data": {
      "application/vnd.jupyter.widget-view+json": {
       "model_id": "ddde6269d9904c8ba9ef4d32f546c8d9",
       "version_major": 2,
       "version_minor": 0
      },
      "text/plain": [
       "MapView(layout=Layout(height='400px', width='100%'))"
      ]
     },
     "metadata": {},
     "output_type": "display_data"
    },
    {
     "data": {
      "text/html": [
       "<div class=\"map-static-img-preview-c3a855ee-f69e-4a2d-8a67-13c5ecbe64a9\"><img src=\"\"></img></div>"
      ],
      "text/plain": [
       "<IPython.core.display.HTML object>"
      ]
     },
     "metadata": {},
     "output_type": "display_data"
    },
    {
     "data": {
      "text/html": [
       "<div class=\"map-html-embed-preview-c3a855ee-f69e-4a2d-8a67-13c5ecbe64a9\"></div>"
      ],
      "text/plain": [
       "<IPython.core.display.HTML object>"
      ]
     },
     "metadata": {},
     "output_type": "display_data"
    }
   ],
   "source": [
    "mapa = gis.map()\n",
    "mapa"
   ]
  },
  {
   "cell_type": "code",
   "execution_count": 24,
   "id": "1672ba55",
   "metadata": {},
   "outputs": [
    {
     "data": {
      "text/html": [
       "<div>\n",
       "<style scoped>\n",
       "    .dataframe tbody tr th:only-of-type {\n",
       "        vertical-align: middle;\n",
       "    }\n",
       "\n",
       "    .dataframe tbody tr th {\n",
       "        vertical-align: top;\n",
       "    }\n",
       "\n",
       "    .dataframe thead th {\n",
       "        text-align: right;\n",
       "    }\n",
       "</style>\n",
       "<table border=\"1\" class=\"dataframe\">\n",
       "  <thead>\n",
       "    <tr style=\"text-align: right;\">\n",
       "      <th></th>\n",
       "      <th>\u0003r\f",
       "\u001e",
       "�</th>\n",
       "    </tr>\n",
       "  </thead>\n",
       "  <tbody>\n",
       "    <tr>\n",
       "      <th>0</th>\n",
       "      <td>\u0003r\f",
       "\u001e",
       "�</td>\n",
       "    </tr>\n",
       "    <tr>\n",
       "      <th>1</th>\n",
       "      <td>Aruba (Netherlands)                          ...</td>\n",
       "    </tr>\n",
       "  </tbody>\n",
       "</table>\n",
       "</div>"
      ],
      "text/plain": [
       "                                               \u0003r\n",
       "\n",
       "�\n",
       "0                                              \u0003r\n",
       "\n",
       "�\n",
       "1   Aruba (Netherlands)                          ..."
      ]
     },
     "execution_count": 24,
     "metadata": {},
     "output_type": "execute_result"
    }
   ],
   "source": [
    "dbfpaisos = pd.read_csv(\"C:\\IndieProjects\\DatosMundo\\World_Countries\\World_Countries.dbf\")\n",
    "dbfpaisos"
   ]
  },
  {
   "cell_type": "code",
   "execution_count": 25,
   "id": "ea2ed6de",
   "metadata": {},
   "outputs": [
    {
     "data": {
      "text/html": [
       "<div>\n",
       "<style scoped>\n",
       "    .dataframe tbody tr th:only-of-type {\n",
       "        vertical-align: middle;\n",
       "    }\n",
       "\n",
       "    .dataframe tbody tr th {\n",
       "        vertical-align: top;\n",
       "    }\n",
       "\n",
       "    .dataframe thead th {\n",
       "        text-align: right;\n",
       "    }\n",
       "</style>\n",
       "<table border=\"1\" class=\"dataframe\">\n",
       "  <thead>\n",
       "    <tr style=\"text-align: right;\">\n",
       "      <th></th>\n",
       "      <th>\u0003r\f",
       "\u001e",
       "�</th>\n",
       "    </tr>\n",
       "  </thead>\n",
       "  <tbody>\n",
       "    <tr>\n",
       "      <th>0</th>\n",
       "      <td>\u0003r\f",
       "\u001e",
       "�</td>\n",
       "    </tr>\n",
       "    <tr>\n",
       "      <th>1</th>\n",
       "      <td>Aruba (Netherlands)                          ...</td>\n",
       "    </tr>\n",
       "  </tbody>\n",
       "</table>\n",
       "</div>"
      ],
      "text/plain": [
       "                                               \u0003r\n",
       "\n",
       "�\n",
       "0                                              \u0003r\n",
       "\n",
       "�\n",
       "1   Aruba (Netherlands)                          ..."
      ]
     },
     "execution_count": 25,
     "metadata": {},
     "output_type": "execute_result"
    }
   ],
   "source": [
    "capaPaisos = pd.DataFrame(dbfpaisos)\n",
    "capaPaisos"
   ]
  },
  {
   "cell_type": "code",
   "execution_count": 87,
   "id": "fefc15b7",
   "metadata": {},
   "outputs": [
    {
     "data": {
      "text/html": [
       "<div>\n",
       "<style scoped>\n",
       "    .dataframe tbody tr th:only-of-type {\n",
       "        vertical-align: middle;\n",
       "    }\n",
       "\n",
       "    .dataframe tbody tr th {\n",
       "        vertical-align: top;\n",
       "    }\n",
       "\n",
       "    .dataframe thead th {\n",
       "        text-align: right;\n",
       "    }\n",
       "</style>\n",
       "<table border=\"1\" class=\"dataframe\">\n",
       "  <thead>\n",
       "    <tr style=\"text-align: right;\">\n",
       "      <th></th>\n",
       "      <th>\u0003r\f",
       "\u001e",
       "�</th>\n",
       "    </tr>\n",
       "  </thead>\n",
       "  <tbody>\n",
       "    <tr>\n",
       "      <th>0</th>\n",
       "      <td>\u0003r\f",
       "\u001e",
       "�</td>\n",
       "    </tr>\n",
       "    <tr>\n",
       "      <th>1</th>\n",
       "      <td>Aruba (Netherlands)                          ...</td>\n",
       "    </tr>\n",
       "  </tbody>\n",
       "</table>\n",
       "</div>"
      ],
      "text/plain": [
       "                                               \u0003r\n",
       "\n",
       "�\n",
       "0                                              \u0003r\n",
       "\n",
       "�\n",
       "1   Aruba (Netherlands)                          ..."
      ]
     },
     "execution_count": 87,
     "metadata": {},
     "output_type": "execute_result"
    }
   ],
   "source": [
    "shapePaisos = pd.read_table(\"C:\\IndieProjects\\DatosMundo\\World_Countries\\World_Countries.dbf\")\n",
    "shapePaisos"
   ]
  },
  {
   "cell_type": "code",
   "execution_count": 97,
   "id": "10d57dcb",
   "metadata": {},
   "outputs": [
    {
     "data": {
      "text/plain": [
       "',\\x03r\\x0c\\x1e�\\r\\n0,\\x03r\\x0c\\x1e�\\r\\n1, Aruba (Netherlands)                                                                                  Antigua and Barbuda                                                                                  Afghanistan                                                                                          Algeria                                                                                              Azerbaijan                                                                                           Albania                                                                                              Armenia                                                                                              Andorra                                                                                              Angola                                                                                               American Samoa (US)                                                                                  Argentina                                                                                            Australia                                                                                            Austria                                                                                              Anguilla (UK)                                                                                        Antarctica                                                                                           Bahrain                                                                                              Barbados                                                                                             Botswana                                                                                             Bermuda (UK)                                                                                         Belgium                                                                                              Bahamas                                                                                              Bangladesh                                                                                           Belize                                                                                               Bosnia and Herzegovina                                                                               Bolivia                                                                                              Myanmar                                                                                              Benin                                                                                                Belarus                                                                                              Solomon Islands                                                                                      Brazil                                                                                               Bhutan                                                                                               Bulgaria                                                                                             Bouvet Island (Norway)                                                                               Brunei                                                                                               Burundi                                                                                              Canada                                                                                               Cambodia                                                                                             Chad                                                                                                 Sri Lanka                                                                                            Congo                                                                                                Democratic Republic of the Congo                                                                     China                                                                                                Chile                                                                                                Cayman Islands (UK)                                                                                  Cocos (Keeling) Islands (Australia)                                                                  Cameroon                                                                                             Comoros                                                                                              Colombia                                                                                             Northern Mariana Islands (US)                                                                        Costa Rica                                                                                           Central African Republic                                                                             Cuba                                                                                                 Cape Verde                                                                                           Cook Islands (New Zealand)                                                                           Cyprus                                                                                               Denmark                                                                                              Djibouti                                                                                             Dominica                                                                                             Jarvis Island (US)                                                                                   Dominican Republic                                                                                   Ecuador                                                                                              Egypt                                                                                                Ireland                                                                                              Equatorial Guinea                                                                                    Estonia                                                                                              Eritrea                                                                                              El Salvador                                                                                          Ethiopia                                                                                             Czech Republic                                                                                       French Guiana (France)                                                                               Finland                                                                                              Fiji                                                                                                 Falkland Islands (UK)                                                                                Federated States of Micronesia                                                                       Faroe Islands (Denmark)                                                                              French Polynesia (France)                                                                            Baker Island (US)                                                                                    France                                                                                               French Southern & Antarctic Lands (France)                                                           Gambia                                                                                               Gabon                                                                                                Georgia                                                                                              Ghana                                                                                                Gibraltar (UK)                                                                                       Grenada                                                                                              Guernsey (UK)                                                                                        Greenland (Denmark)                                                                                  Germany                                                                                              Glorioso Islands (France)                                                                            Guadeloupe (France)                                                                                  Guam (US)                                                                                            Greece                                                                                               Guatemala                                                                                            Guinea                                                                                               Guyana                                                                                               Palestine                                                                                            Haiti                                                                                                Heard Island & McDonald Islands (Australia)                                                          Honduras                                                                                             Howland Island (US)                                                                                  Croatia                                                                                              Hungary                                                                                              Iceland                                                                                              Isle of Man (UK)                                                                                     India                                                                                                British Indian Ocean Territory (UK)                                                                  Iran                                                                                                 Israel                                                                                               Italy                                                                                                Ivory Coast                                                                                          Iraq                                                                                                 Japan                                                                                                Jersey (UK)                                                                                          Jamaica                                                                                              Jan Mayen (Norway)                                                                                   Jordan                                                                                               Johnston Atoll (US)                                                                                  Juan De Nova Island (France)                                                                         Kenya                                                                                                Kyrgyzstan                                                                                           North Korea                                                                                          Kiribati                                                                                             South Korea                                                                                          Christmas Island (Australia)                                                                         Kuwait                                                                                               Kazakhstan                                                                                           Laos                                                                                                 Lebanon                                                                                              Latvia                                                                                               Lithuania                                                                                            Liberia                                                                                              Slovakia                                                                                             Liechtenstein                                                                                        Lesotho                                                                                              Luxembourg                                                                                           Libya                                                                                                Madagascar                                                                                           Martinique (France)                                                                                  Moldova                                                                                              Mayotte (France)                                                                                     Mongolia                                                                                             Montserrat (UK)                                                                                      Malawi                                                                                               Macedonia                                                                                            Mali                                                                                                 Monaco                                                                                               Morocco                                                                                              Mauritius                                                                                            Midway Islands (US)                                                                                  Mauritania                                                                                           Malta                                                                                                Oman                                                                                                 Maldives                                                                                             Montenegro                                                                                           Mexico                                                                                               Malaysia                                                                                             Mozambique                                                                                           New Caledonia (France)                                                                               Niue (New Zealand)                                                                                   Norfolk Island (Australia)                                                                           Niger                                                                                                Vanuatu                                                                                              Nigeria                                                                                              Netherlands                                                                                          Norway                                                                                               Nepal                                                                                                Nauru                                                                                                Suriname                                                                                             Nicaragua                                                                                            New Zealand                                                                                          Paraguay                                                                                             Pitcairn Islands (UK)                                                                                Peru                                                                                                 Paracel Islands (China)                                                                              Spratly Islands (Disputed)                                                                           Pakistan                                                                                             Poland                                                                                               Panama                                                                                               Portugal                                                                                             Papua New Guinea                                                                                     Palau (US)                                                                                           Guinea-Bissau                                                                                        Qatar                                                                                                Reunion (France)                                                                                     Marshall Islands                                                                                     Romania                                                                                              Philippines                                                                                          Puerto Rico (US)                                                                                     Russia                                                                                               Rwanda                                                                                               Saudi Arabia                                                                                         St. Pierre and Miquelon (France)                                                                     St. Kitts and Nevis                                                                                  Seychelles                                                                                           South Africa                                                                                         Senegal                                                                                              St. Helena (UK)                                                                                      Slovenia                                                                                             Sierra Leone                                                                                         San Marino                                                                                           Singapore                                                                                            Somalia                                                                                              Spain                                                                                                Serbia                                                                                               St. Lucia                                                                                            Sudan                                                                                                Svalbard (Norway)                                                                                    Sweden                                                                                               South Georgia and the South Sandwich Is (UK)                                                         Syria                                                                                                Switzerland                                                                                          United Arab Emirates                                                                                 Trinidad and Tobago                                                                                  Thailand                                                                                             Tajikistan                                                                                           Turks and Caicos Islands (UK)                                                                        Tokelau (New Zealand)                                                                                Tonga                                                                                                Togo                                                                                                 Sao Tome and Principe                                                                                Tunisia                                                                                              Turkey                                                                                               Tuvalu                                                                                               Taiwan                                                                                               Turkmenistan                                                                                         Tanzania                                                                                             Uganda                                                                                               United Kingdom                                                                                       Ukraine                                                                                              United States                                                                                        Burkina Faso                                                                                         Uruguay                                                                                              Uzbekistan                                                                                           St. Vincent and the Grenadines                                                                       Venezuela                                                                                            British Virgin Islands(UK)                                                                           Vietnam                                                                                              American Virgin Islands (US)                                                                         Namibia                                                                                              Wallis and Futuna (France)                                                                           Western Sahara                                                                                       Wake Island (US)                                                                                     Western Samoa                                                                                        Swaziland                                                                                            Yemen                                                                                                Zambia                                                                                               Zimbabwe                                                                                             South Sudan                                                                                          Indonesia                                                                                            East Timor                                                                                           Curacao (Netherlands)                                                                                Bonaire (Netherlands)                                                                               \\x1a\\r\\n'"
      ]
     },
     "execution_count": 97,
     "metadata": {},
     "output_type": "execute_result"
    }
   ],
   "source": [
    "shpXL = shapePaisos.to_csv(sep = ',')\n",
    "shpXL"
   ]
  },
  {
   "cell_type": "code",
   "execution_count": 98,
   "id": "dbcdc142",
   "metadata": {},
   "outputs": [
    {
     "data": {
      "text/html": [
       "<div>\n",
       "<style scoped>\n",
       "    .dataframe tbody tr th:only-of-type {\n",
       "        vertical-align: middle;\n",
       "    }\n",
       "\n",
       "    .dataframe tbody tr th {\n",
       "        vertical-align: top;\n",
       "    }\n",
       "\n",
       "    .dataframe thead th {\n",
       "        text-align: right;\n",
       "    }\n",
       "</style>\n",
       "<table border=\"1\" class=\"dataframe\">\n",
       "  <thead>\n",
       "    <tr style=\"text-align: right;\">\n",
       "      <th></th>\n",
       "      <th>0</th>\n",
       "    </tr>\n",
       "  </thead>\n",
       "  <tbody>\n",
       "    <tr>\n",
       "      <th>0</th>\n",
       "      <td>,</td>\n",
       "    </tr>\n",
       "    <tr>\n",
       "      <th>1</th>\n",
       "      <td>\u0003</td>\n",
       "    </tr>\n",
       "    <tr>\n",
       "      <th>2</th>\n",
       "      <td>r</td>\n",
       "    </tr>\n",
       "    <tr>\n",
       "      <th>3</th>\n",
       "      <td></td>\n",
       "    </tr>\n",
       "    <tr>\n",
       "      <th>4</th>\n",
       "      <td></td>\n",
       "    </tr>\n",
       "    <tr>\n",
       "      <th>...</th>\n",
       "      <td>...</td>\n",
       "    </tr>\n",
       "    <tr>\n",
       "      <th>25469</th>\n",
       "      <td></td>\n",
       "    </tr>\n",
       "    <tr>\n",
       "      <th>25470</th>\n",
       "      <td></td>\n",
       "    </tr>\n",
       "    <tr>\n",
       "      <th>25471</th>\n",
       "      <td>\u001a</td>\n",
       "    </tr>\n",
       "    <tr>\n",
       "      <th>25472</th>\n",
       "      <td>\\r</td>\n",
       "    </tr>\n",
       "    <tr>\n",
       "      <th>25473</th>\n",
       "      <td>\\n</td>\n",
       "    </tr>\n",
       "  </tbody>\n",
       "</table>\n",
       "<p>25474 rows × 1 columns</p>\n",
       "</div>"
      ],
      "text/plain": [
       "        0\n",
       "0       ,\n",
       "1       \u0003\n",
       "2       r\n",
       "3       \n",
       "\n",
       "4       \n",
       "\n",
       "...    ..\n",
       "25469    \n",
       "25470    \n",
       "25471   \u001a\n",
       "25472  \\r\n",
       "25473  \\n\n",
       "\n",
       "[25474 rows x 1 columns]"
      ]
     },
     "execution_count": 98,
     "metadata": {},
     "output_type": "execute_result"
    }
   ],
   "source": [
    "shpDF = pd.DataFrame(list(shpXL))\n",
    "shpDF"
   ]
  },
  {
   "cell_type": "code",
   "execution_count": 99,
   "id": "04e42040",
   "metadata": {},
   "outputs": [
    {
     "data": {
      "text/plain": [
       "True"
      ]
     },
     "execution_count": 99,
     "metadata": {},
     "output_type": "execute_result"
    }
   ],
   "source": [
    "mapa.remove_layers()"
   ]
  },
  {
   "cell_type": "code",
   "execution_count": 45,
   "id": "aac28ac1",
   "metadata": {},
   "outputs": [
    {
     "data": {
      "text/plain": [
       "[<Item title:\"World Country Boundaries 2019\" type:Feature Layer Collection owner:esri_dm>,\n",
       " <Item title:\"World Time Zones\" type:Feature Layer Collection owner:esri_dm>,\n",
       " <Item title:\"World Countries\" type:Feature Layer Collection owner:esri_dm>,\n",
       " <Item title:\"World Countries (Generalized)\" type:Feature Layer Collection owner:esri_dm>,\n",
       " <Item title:\"World Countries (Generalized)\" type:Feature Layer Collection owner:esri_dm>,\n",
       " <Item title:\"World First Order Administrative Boundaries\" type:Feature Layer Collection owner:esri_dm>,\n",
       " <Item title:\"World Region Boundaries\" type:Feature Layer Collection owner:esri_dm>,\n",
       " <Item title:\"World Cities\" type:Feature Layer Collection owner:esri_dm>,\n",
       " <Item title:\"World Regions\" type:Feature Layer Collection owner:esri_dm>,\n",
       " <Item title:\"World Country Boundaries\" type:Feature Layer Collection owner:esri_dm>,\n",
       " <Item title:\"World Boundaries\" type:Feature Layer Collection owner:esri_dm>,\n",
       " <Item title:\"World Boundaries 2019\" type:Feature Layer Collection owner:esri_dm>,\n",
       " <Item title:\"World First Order Administrative Boundaries 2019\" type:Feature Layer Collection owner:esri_dm>,\n",
       " <Item title:\"World Region Boundaries 2019\" type:Feature Layer Collection owner:esri_dm>]"
      ]
     },
     "execution_count": 45,
     "metadata": {},
     "output_type": "execute_result"
    }
   ],
   "source": [
    "search = gis.content.search(query = 'World countries and owner:esri_dm',outside_org=True,max_items=50, item_type= \"Feature Layer\")\n",
    "search"
   ]
  },
  {
   "cell_type": "code",
   "execution_count": 76,
   "id": "c4acc619",
   "metadata": {},
   "outputs": [
    {
     "data": {
      "text/html": [
       "<div class=\"item_container\" style=\"height: auto; overflow: hidden; border: 1px solid #cfcfcf; border-radius: 2px; background: #f6fafa; line-height: 1.21429em; padding: 10px;\">\n",
       "                    <div class=\"item_left\" style=\"width: 210px; float: left;\">\n",
       "                       <a href='https://esrimastergis.maps.arcgis.com/home/item.html?id=ac80670eb213440ea5899bbf92a04998' target='_blank'>\n",
       "                        <img src='data:image/png;base64,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' width='200' height='133' class=\"itemThumbnail\">\n",
       "                       </a>\n",
       "                    </div>\n",
       "\n",
       "                    <div class=\"item_right\"     style=\"float: none; width: auto; overflow: hidden;\">\n",
       "                        <a href='https://esrimastergis.maps.arcgis.com/home/item.html?id=ac80670eb213440ea5899bbf92a04998' target='_blank'><b>World Countries</b>\n",
       "                        </a>\n",
       "                        <br/>World Countries represents detailed boundaries for the countries of the world.<img src='https://esrimastergis.maps.arcgis.com/home/js/jsapi/esri/css/images/item_type_icons/featureshosted16.png' style=\"vertical-align:middle;\">Feature Layer Collection by esri_dm\n",
       "                        <br/>Last Modified: enero 26, 2023\n",
       "                        <br/>1 comments, 3.526.059 views\n",
       "                    </div>\n",
       "                </div>\n",
       "                "
      ],
      "text/plain": [
       "<Item title:\"World Countries\" type:Feature Layer Collection owner:esri_dm>"
      ]
     },
     "execution_count": 76,
     "metadata": {},
     "output_type": "execute_result"
    }
   ],
   "source": [
    "capa = search[2]\n",
    "capa"
   ]
  },
  {
   "cell_type": "code",
   "execution_count": 100,
   "id": "72bd2531",
   "metadata": {},
   "outputs": [],
   "source": [
    "mapa.add_layer(capa)"
   ]
  },
  {
   "cell_type": "code",
   "execution_count": 73,
   "id": "4a15ac5d",
   "metadata": {
    "scrolled": true
   },
   "outputs": [
    {
     "data": {
      "application/vnd.jupyter.widget-view+json": {
       "model_id": "ddde6269d9904c8ba9ef4d32f546c8d9",
       "version_major": 2,
       "version_minor": 0
      },
      "text/plain": [
       "MapView(jupyter_target='notebook', layout=Layout(height='400px', width='100%'), ready=True)"
      ]
     },
     "metadata": {},
     "output_type": "display_data"
    },
    {
     "data": {
      "text/html": [
       "<div class=\"map-static-img-preview-c3a855ee-f69e-4a2d-8a67-13c5ecbe64a9\"><img src=\"\"></img></div>"
      ],
      "text/plain": [
       "<IPython.core.display.HTML object>"
      ]
     },
     "metadata": {},
     "output_type": "display_data"
    },
    {
     "data": {
      "text/html": [
       "<div class=\"map-html-embed-preview-c3a855ee-f69e-4a2d-8a67-13c5ecbe64a9\"></div>"
      ],
      "text/plain": [
       "<IPython.core.display.HTML object>"
      ]
     },
     "metadata": {},
     "output_type": "display_data"
    }
   ],
   "source": [
    "mapa"
   ]
  },
  {
   "cell_type": "code",
   "execution_count": 78,
   "id": "648e8785",
   "metadata": {},
   "outputs": [
    {
     "name": "stdout",
     "output_type": "stream",
     "text": [
      "     Rank        Country  \\\n",
      "0       1          India   \n",
      "1       2     Bangladesh   \n",
      "2       3          China   \n",
      "3       4        Vietnam   \n",
      "4       5       Pakistan   \n",
      "..    ...            ...   \n",
      "158   159        Jamaica   \n",
      "159   160       Djibouti   \n",
      "160   161         Cyprus   \n",
      "161   162        Iceland   \n",
      "162   163  Liechtenstein   \n",
      "\n",
      "    Current annual average population affected by river floods  \n",
      "0                                            4,835,259          \n",
      "1                                            3,477,315          \n",
      "2                                            3,279,455          \n",
      "3                                              929,635          \n",
      "4                                              714,822          \n",
      "..                                                 ...          \n",
      "158                                                 52          \n",
      "159                                                 49          \n",
      "160                                                 42          \n",
      "161                                                 23          \n",
      "162                                                 18          \n",
      "\n",
      "[163 rows x 3 columns]\n"
     ]
    }
   ],
   "source": [
    "# Intentar agregar los datos de afectados por riverfloods a los datos de polígonos de los países\n",
    "\n",
    "print(datos)"
   ]
  },
  {
   "cell_type": "code",
   "execution_count": 79,
   "id": "ef73ec96",
   "metadata": {},
   "outputs": [
    {
     "name": "stdout",
     "output_type": "stream",
     "text": [
      "<Item title:\"World Countries\" type:Feature Layer Collection owner:esri_dm>\n"
     ]
    }
   ],
   "source": [
    "print(capa)"
   ]
  },
  {
   "cell_type": "code",
   "execution_count": 80,
   "id": "1ba41b99",
   "metadata": {},
   "outputs": [
    {
     "data": {
      "text/plain": [
       "[<FeatureLayer url:\"https://services.arcgis.com/P3ePLMYs2RVChkJx/arcgis/rest/services/World_Countries/FeatureServer/0\">]"
      ]
     },
     "execution_count": 80,
     "metadata": {},
     "output_type": "execute_result"
    }
   ],
   "source": [
    "capa.layers"
   ]
  },
  {
   "cell_type": "code",
   "execution_count": 82,
   "id": "ba88f140",
   "metadata": {},
   "outputs": [
    {
     "data": {
      "text/plain": [
       "<FeatureLayer url:\"https://services.arcgis.com/P3ePLMYs2RVChkJx/arcgis/rest/services/World_Countries/FeatureServer/0\">"
      ]
     },
     "execution_count": 82,
     "metadata": {},
     "output_type": "execute_result"
    }
   ],
   "source": [
    "capaPaisos = capa.layers[0]\n",
    "capaPaisos"
   ]
  },
  {
   "cell_type": "code",
   "execution_count": 85,
   "id": "8828e35a",
   "metadata": {},
   "outputs": [
    {
     "ename": "ValueError",
     "evalue": "DataFrame constructor not properly called!",
     "output_type": "error",
     "traceback": [
      "\u001b[1;31m---------------------------------------------------------------------------\u001b[0m",
      "\u001b[1;31mValueError\u001b[0m                                Traceback (most recent call last)",
      "\u001b[1;32m<ipython-input-85-8081f5517b47>\u001b[0m in \u001b[0;36m<module>\u001b[1;34m\u001b[0m\n\u001b[1;32m----> 1\u001b[1;33m \u001b[0mpaisosDf\u001b[0m \u001b[1;33m=\u001b[0m \u001b[0mpd\u001b[0m\u001b[1;33m.\u001b[0m\u001b[0mDataFrame\u001b[0m\u001b[1;33m(\u001b[0m\u001b[0mcapaPaisos\u001b[0m\u001b[1;33m)\u001b[0m\u001b[1;33m\u001b[0m\u001b[1;33m\u001b[0m\u001b[0m\n\u001b[0m",
      "\u001b[1;32mC:\\Program Files\\ArcGIS\\Pro\\bin\\Python\\envs\\arcgispro-py3\\lib\\site-packages\\pandas\\core\\frame.py\u001b[0m in \u001b[0;36m__init__\u001b[1;34m(self, data, index, columns, dtype, copy)\u001b[0m\n\u001b[0;32m    588\u001b[0m         \u001b[1;32melse\u001b[0m\u001b[1;33m:\u001b[0m\u001b[1;33m\u001b[0m\u001b[1;33m\u001b[0m\u001b[0m\n\u001b[0;32m    589\u001b[0m             \u001b[1;32mif\u001b[0m \u001b[0mindex\u001b[0m \u001b[1;32mis\u001b[0m \u001b[1;32mNone\u001b[0m \u001b[1;32mor\u001b[0m \u001b[0mcolumns\u001b[0m \u001b[1;32mis\u001b[0m \u001b[1;32mNone\u001b[0m\u001b[1;33m:\u001b[0m\u001b[1;33m\u001b[0m\u001b[1;33m\u001b[0m\u001b[0m\n\u001b[1;32m--> 590\u001b[1;33m                 \u001b[1;32mraise\u001b[0m \u001b[0mValueError\u001b[0m\u001b[1;33m(\u001b[0m\u001b[1;34m\"DataFrame constructor not properly called!\"\u001b[0m\u001b[1;33m)\u001b[0m\u001b[1;33m\u001b[0m\u001b[1;33m\u001b[0m\u001b[0m\n\u001b[0m\u001b[0;32m    591\u001b[0m \u001b[1;33m\u001b[0m\u001b[0m\n\u001b[0;32m    592\u001b[0m             \u001b[1;32mif\u001b[0m \u001b[1;32mnot\u001b[0m \u001b[0mdtype\u001b[0m\u001b[1;33m:\u001b[0m\u001b[1;33m\u001b[0m\u001b[1;33m\u001b[0m\u001b[0m\n",
      "\u001b[1;31mValueError\u001b[0m: DataFrame constructor not properly called!"
     ]
    }
   ],
   "source": [
    "paisosDf = pd.DataFrame(capaPaisos)"
   ]
  },
  {
   "cell_type": "code",
   "execution_count": null,
   "id": "e86f08ad",
   "metadata": {},
   "outputs": [],
   "source": [
    "layerMap = pd.merge(capa,datos)"
   ]
  },
  {
   "cell_type": "markdown",
   "id": "4909cbff",
   "metadata": {},
   "source": [
    "# Parte del código que no funciona\n",
    "\n",
    "No funciona la generación de una variable que almacena la url del servicio de esri_dm y luego trata de pintarla en el mapa\n",
    "\n",
    "Por lo que parece no coge bien el servicio o no reconoce el campo shape (ni intentando agregar su geometria con el método (set_geomtery)"
   ]
  },
  {
   "cell_type": "code",
   "execution_count": 69,
   "id": "0eb2a7ca",
   "metadata": {},
   "outputs": [],
   "source": [
    "worldmap = 'https://services.arcgis.com/P3ePLMYs2RVChkJx/arcgis/rest/services/WOR_Boundaries_2022/FeatureServer'"
   ]
  },
  {
   "cell_type": "code",
   "execution_count": 70,
   "id": "a4776c47",
   "metadata": {},
   "outputs": [
    {
     "ename": "RuntimeError",
     "evalue": "Cannot infer layer: will not be added to map",
     "output_type": "error",
     "traceback": [
      "\u001b[1;31m---------------------------------------------------------------------------\u001b[0m",
      "\u001b[1;31mRuntimeError\u001b[0m                              Traceback (most recent call last)",
      "\u001b[1;32m<ipython-input-70-c2a4478b1b3a>\u001b[0m in \u001b[0;36m<module>\u001b[1;34m\u001b[0m\n\u001b[1;32m----> 1\u001b[1;33m \u001b[0mmapa\u001b[0m\u001b[1;33m.\u001b[0m\u001b[0madd_layer\u001b[0m\u001b[1;33m(\u001b[0m\u001b[0mworldmap\u001b[0m\u001b[1;33m)\u001b[0m\u001b[1;33m\u001b[0m\u001b[1;33m\u001b[0m\u001b[0m\n\u001b[0m",
      "\u001b[1;32mC:\\Program Files\\ArcGIS\\Pro\\bin\\Python\\envs\\arcgispro-py3\\lib\\site-packages\\arcgis\\widgets\\_mapview\\_mapview.py\u001b[0m in \u001b[0;36madd_layer\u001b[1;34m(self, item, options)\u001b[0m\n\u001b[0;32m   1407\u001b[0m         ):\n\u001b[0;32m   1408\u001b[0m             \u001b[0mitem\u001b[0m \u001b[1;33m=\u001b[0m \u001b[0mitem\u001b[0m\u001b[1;33m.\u001b[0m\u001b[0mspatial\u001b[0m\u001b[1;33m.\u001b[0m\u001b[0mto_feature_collection\u001b[0m\u001b[1;33m(\u001b[0m\u001b[1;33m)\u001b[0m\u001b[1;33m\u001b[0m\u001b[1;33m\u001b[0m\u001b[0m\n\u001b[1;32m-> 1409\u001b[1;33m         \u001b[0mself\u001b[0m\u001b[1;33m.\u001b[0m\u001b[0m_add_layer_to_widget\u001b[0m\u001b[1;33m(\u001b[0m\u001b[0mitem\u001b[0m\u001b[1;33m,\u001b[0m \u001b[0moptions\u001b[0m\u001b[1;33m)\u001b[0m\u001b[1;33m\u001b[0m\u001b[1;33m\u001b[0m\u001b[0m\n\u001b[0m\u001b[0;32m   1410\u001b[0m \u001b[1;33m\u001b[0m\u001b[0m\n\u001b[0;32m   1411\u001b[0m     \u001b[1;32mdef\u001b[0m \u001b[0m_add_layer_to_webmap\u001b[0m\u001b[1;33m(\u001b[0m\u001b[0mself\u001b[0m\u001b[1;33m,\u001b[0m \u001b[0mitem\u001b[0m\u001b[1;33m,\u001b[0m \u001b[0moptions\u001b[0m\u001b[1;33m)\u001b[0m\u001b[1;33m:\u001b[0m\u001b[1;33m\u001b[0m\u001b[1;33m\u001b[0m\u001b[0m\n",
      "\u001b[1;32mC:\\Program Files\\ArcGIS\\Pro\\bin\\Python\\envs\\arcgispro-py3\\lib\\site-packages\\arcgis\\widgets\\_mapview\\_mapview.py\u001b[0m in \u001b[0;36m_add_layer_to_widget\u001b[1;34m(self, item, options)\u001b[0m\n\u001b[0;32m   1521\u001b[0m                     \u001b[0mself\u001b[0m\u001b[1;33m.\u001b[0m\u001b[0m_add_layer_to_widget\u001b[0m\u001b[1;33m(\u001b[0m\u001b[0mitem_\u001b[0m\u001b[1;33m,\u001b[0m \u001b[0moptions\u001b[0m\u001b[1;33m)\u001b[0m\u001b[1;33m\u001b[0m\u001b[1;33m\u001b[0m\u001b[0m\n\u001b[0;32m   1522\u001b[0m         \u001b[1;32melse\u001b[0m\u001b[1;33m:\u001b[0m\u001b[1;33m\u001b[0m\u001b[1;33m\u001b[0m\u001b[0m\n\u001b[1;32m-> 1523\u001b[1;33m             \u001b[1;32mraise\u001b[0m \u001b[0mRuntimeError\u001b[0m\u001b[1;33m(\u001b[0m\u001b[1;34m\"Cannot infer layer: will not be added to map\"\u001b[0m\u001b[1;33m)\u001b[0m\u001b[1;33m\u001b[0m\u001b[1;33m\u001b[0m\u001b[0m\n\u001b[0m\u001b[0;32m   1524\u001b[0m \u001b[1;33m\u001b[0m\u001b[0m\n\u001b[0;32m   1525\u001b[0m     \u001b[1;32mdef\u001b[0m \u001b[0m_add_notype_layer\u001b[0m\u001b[1;33m(\u001b[0m\u001b[0mself\u001b[0m\u001b[1;33m,\u001b[0m \u001b[0mitem\u001b[0m\u001b[1;33m,\u001b[0m \u001b[0mlyr_json\u001b[0m\u001b[1;33m)\u001b[0m\u001b[1;33m:\u001b[0m\u001b[1;33m\u001b[0m\u001b[1;33m\u001b[0m\u001b[0m\n",
      "\u001b[1;31mRuntimeError\u001b[0m: Cannot infer layer: will not be added to map"
     ]
    }
   ],
   "source": [
    "mapa.add_layer(worldmap)"
   ]
  },
  {
   "cell_type": "code",
   "execution_count": null,
   "id": "d89a3016",
   "metadata": {},
   "outputs": [],
   "source": []
  }
 ],
 "metadata": {
  "kernelspec": {
   "display_name": "Python 3",
   "language": "python",
   "name": "python3"
  },
  "language_info": {
   "codemirror_mode": {
    "name": "ipython",
    "version": 3
   },
   "file_extension": ".py",
   "mimetype": "text/x-python",
   "name": "python",
   "nbconvert_exporter": "python",
   "pygments_lexer": "ipython3",
   "version": "3.7.11"
  }
 },
 "nbformat": 4,
 "nbformat_minor": 5
}
