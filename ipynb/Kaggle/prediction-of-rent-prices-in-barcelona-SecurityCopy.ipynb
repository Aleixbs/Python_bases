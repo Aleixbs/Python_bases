{
 "cells": [
  {
   "cell_type": "markdown",
   "id": "cad5c928",
   "metadata": {
    "_cell_guid": "b1076dfc-b9ad-4769-8c92-a6c4dae69d19",
    "_uuid": "8f2839f25d086af736a60e9eeb907d3b93b6e0e5",
    "papermill": {
     "duration": 0.010007,
     "end_time": "2022-11-28T18:40:12.888154",
     "exception": false,
     "start_time": "2022-11-28T18:40:12.878147",
     "status": "completed"
    },
    "tags": []
   },
   "source": [
    "# Rent price in Barcelona 2014 - 2022\n",
    "### A compilation of prices for rent in Barcelona Spain\n",
    "\n",
    "# About Dataset\n",
    "This dataset includes data on price for rent in Barcelona, Spain. The data was collected for a period of 2014 - 2022 years, divided into trimesters.The prices go by neighbourhoods and districts.This dataset includes both prices per month and prices per square meter, so that you can easier compare them.\n",
    "\n",
    "https://www.kaggle.com/datasets/marshuu/rent-price-in-barcelona-2014-2022"
   ]
  },
  {
   "cell_type": "code",
   "execution_count": 1,
   "id": "72d877b3",
   "metadata": {
    "execution": {
     "iopub.execute_input": "2022-11-28T18:40:12.909018Z",
     "iopub.status.busy": "2022-11-28T18:40:12.908387Z",
     "iopub.status.idle": "2022-11-28T18:40:12.923856Z",
     "shell.execute_reply": "2022-11-28T18:40:12.922263Z"
    },
    "papermill": {
     "duration": 0.028333,
     "end_time": "2022-11-28T18:40:12.927201",
     "exception": false,
     "start_time": "2022-11-28T18:40:12.898868",
     "status": "completed"
    },
    "tags": []
   },
   "outputs": [],
   "source": [
    "# Importing the relevant Libraries \n",
    "import pandas as pd\n",
    "import numpy as np \n",
    "import matplotlib.pyplot as plt\n",
    "\n",
    "# The below code removes all the warnings during execution\n",
    "import warnings\n",
    "warnings.filterwarnings('ignore')"
   ]
  },
  {
   "cell_type": "code",
   "execution_count": 2,
   "id": "700e04f4",
   "metadata": {
    "execution": {
     "iopub.execute_input": "2022-11-28T18:40:12.945957Z",
     "iopub.status.busy": "2022-11-28T18:40:12.945087Z",
     "iopub.status.idle": "2022-11-28T18:40:12.982803Z",
     "shell.execute_reply": "2022-11-28T18:40:12.981221Z"
    },
    "papermill": {
     "duration": 0.050211,
     "end_time": "2022-11-28T18:40:12.985759",
     "exception": false,
     "start_time": "2022-11-28T18:40:12.935548",
     "status": "completed"
    },
    "tags": []
   },
   "outputs": [],
   "source": [
    "# Importing the data from Kaggle \n",
    "df = pd.read_csv(\"/kaggle/input/rent-price-in-barcelona-2014-2022/Barcelona_rent_price.csv\")"
   ]
  },
  {
   "cell_type": "code",
   "execution_count": 3,
   "id": "ffa02d0a",
   "metadata": {
    "execution": {
     "iopub.execute_input": "2022-11-28T18:40:13.004434Z",
     "iopub.status.busy": "2022-11-28T18:40:13.003803Z",
     "iopub.status.idle": "2022-11-28T18:40:13.040516Z",
     "shell.execute_reply": "2022-11-28T18:40:13.039157Z"
    },
    "papermill": {
     "duration": 0.050285,
     "end_time": "2022-11-28T18:40:13.043694",
     "exception": false,
     "start_time": "2022-11-28T18:40:12.993409",
     "status": "completed"
    },
    "tags": []
   },
   "outputs": [
    {
     "data": {
      "text/html": [
       "<div>\n",
       "<style scoped>\n",
       "    .dataframe tbody tr th:only-of-type {\n",
       "        vertical-align: middle;\n",
       "    }\n",
       "\n",
       "    .dataframe tbody tr th {\n",
       "        vertical-align: top;\n",
       "    }\n",
       "\n",
       "    .dataframe thead th {\n",
       "        text-align: right;\n",
       "    }\n",
       "</style>\n",
       "<table border=\"1\" class=\"dataframe\">\n",
       "  <thead>\n",
       "    <tr style=\"text-align: right;\">\n",
       "      <th></th>\n",
       "      <th>Year</th>\n",
       "      <th>Trimester</th>\n",
       "      <th>District</th>\n",
       "      <th>Neighbourhood</th>\n",
       "      <th>Average _rent</th>\n",
       "      <th>Price</th>\n",
       "    </tr>\n",
       "  </thead>\n",
       "  <tbody>\n",
       "    <tr>\n",
       "      <th>0</th>\n",
       "      <td>2014</td>\n",
       "      <td>1</td>\n",
       "      <td>Ciutat Vella</td>\n",
       "      <td>el Raval</td>\n",
       "      <td>average rent (euro/month)</td>\n",
       "      <td>589.55</td>\n",
       "    </tr>\n",
       "    <tr>\n",
       "      <th>1</th>\n",
       "      <td>2014</td>\n",
       "      <td>1</td>\n",
       "      <td>Ciutat Vella</td>\n",
       "      <td>Gothic Quarter</td>\n",
       "      <td>average rent (euro/month)</td>\n",
       "      <td>712.79</td>\n",
       "    </tr>\n",
       "    <tr>\n",
       "      <th>2</th>\n",
       "      <td>2014</td>\n",
       "      <td>1</td>\n",
       "      <td>Ciutat Vella</td>\n",
       "      <td>la Barceloneta</td>\n",
       "      <td>average rent (euro/month)</td>\n",
       "      <td>540.71</td>\n",
       "    </tr>\n",
       "    <tr>\n",
       "      <th>3</th>\n",
       "      <td>2014</td>\n",
       "      <td>1</td>\n",
       "      <td>Ciutat Vella</td>\n",
       "      <td>Sant Pere, Santa Caterina i la Ribera</td>\n",
       "      <td>average rent (euro/month)</td>\n",
       "      <td>673.44</td>\n",
       "    </tr>\n",
       "    <tr>\n",
       "      <th>4</th>\n",
       "      <td>2014</td>\n",
       "      <td>1</td>\n",
       "      <td>Eixample</td>\n",
       "      <td>Fort Pienc</td>\n",
       "      <td>average rent (euro/month)</td>\n",
       "      <td>736.09</td>\n",
       "    </tr>\n",
       "  </tbody>\n",
       "</table>\n",
       "</div>"
      ],
      "text/plain": [
       "   Year  Trimester      District                          Neighbourhood  \\\n",
       "0  2014          1  Ciutat Vella                               el Raval   \n",
       "1  2014          1  Ciutat Vella                         Gothic Quarter   \n",
       "2  2014          1  Ciutat Vella                         la Barceloneta   \n",
       "3  2014          1  Ciutat Vella  Sant Pere, Santa Caterina i la Ribera   \n",
       "4  2014          1      Eixample                             Fort Pienc   \n",
       "\n",
       "               Average _rent   Price  \n",
       "0  average rent (euro/month)  589.55  \n",
       "1  average rent (euro/month)  712.79  \n",
       "2  average rent (euro/month)  540.71  \n",
       "3  average rent (euro/month)  673.44  \n",
       "4  average rent (euro/month)  736.09  "
      ]
     },
     "execution_count": 3,
     "metadata": {},
     "output_type": "execute_result"
    }
   ],
   "source": [
    "# Checking out the data \n",
    "df.head()"
   ]
  },
  {
   "cell_type": "code",
   "execution_count": 4,
   "id": "22e71ad5",
   "metadata": {
    "execution": {
     "iopub.execute_input": "2022-11-28T18:40:13.062297Z",
     "iopub.status.busy": "2022-11-28T18:40:13.061381Z",
     "iopub.status.idle": "2022-11-28T18:40:13.077750Z",
     "shell.execute_reply": "2022-11-28T18:40:13.076537Z"
    },
    "papermill": {
     "duration": 0.028744,
     "end_time": "2022-11-28T18:40:13.080419",
     "exception": false,
     "start_time": "2022-11-28T18:40:13.051675",
     "status": "completed"
    },
    "tags": []
   },
   "outputs": [
    {
     "data": {
      "text/plain": [
       "array([2014, 2015, 2016, 2017, 2018, 2019, 2020, 2021, 2022])"
      ]
     },
     "execution_count": 4,
     "metadata": {},
     "output_type": "execute_result"
    }
   ],
   "source": [
    "# Checking the categorical unique values in \"Year\"\n",
    "df[\"Year\"].unique()"
   ]
  },
  {
   "cell_type": "code",
   "execution_count": 5,
   "id": "14c7ad81",
   "metadata": {
    "execution": {
     "iopub.execute_input": "2022-11-28T18:40:13.101375Z",
     "iopub.status.busy": "2022-11-28T18:40:13.100663Z",
     "iopub.status.idle": "2022-11-28T18:40:13.108989Z",
     "shell.execute_reply": "2022-11-28T18:40:13.107626Z"
    },
    "papermill": {
     "duration": 0.022874,
     "end_time": "2022-11-28T18:40:13.111567",
     "exception": false,
     "start_time": "2022-11-28T18:40:13.088693",
     "status": "completed"
    },
    "tags": []
   },
   "outputs": [
    {
     "data": {
      "text/plain": [
       "array([1, 2, 3, 4])"
      ]
     },
     "execution_count": 5,
     "metadata": {},
     "output_type": "execute_result"
    }
   ],
   "source": [
    "# Checking the categorical unique values in \"Trimester\"\n",
    "df[\"Trimester\"].unique()"
   ]
  },
  {
   "cell_type": "code",
   "execution_count": 6,
   "id": "61389e03",
   "metadata": {
    "execution": {
     "iopub.execute_input": "2022-11-28T18:40:13.129843Z",
     "iopub.status.busy": "2022-11-28T18:40:13.129297Z",
     "iopub.status.idle": "2022-11-28T18:40:13.138821Z",
     "shell.execute_reply": "2022-11-28T18:40:13.137482Z"
    },
    "papermill": {
     "duration": 0.021759,
     "end_time": "2022-11-28T18:40:13.141374",
     "exception": false,
     "start_time": "2022-11-28T18:40:13.119615",
     "status": "completed"
    },
    "tags": []
   },
   "outputs": [
    {
     "data": {
      "text/plain": [
       "array(['Ciutat Vella', 'Eixample', 'Sants-Montjuic', 'Les Corts',\n",
       "       'Sarria-Sant Gervasi', 'Gracia', 'Horta-Guinardo', 'Nou Barris',\n",
       "       'Sant Andreu', 'Sant Marti'], dtype=object)"
      ]
     },
     "execution_count": 6,
     "metadata": {},
     "output_type": "execute_result"
    }
   ],
   "source": [
    "# Checking the categorical unique values in \"District\"\n",
    "df[\"District\"].unique()"
   ]
  },
  {
   "cell_type": "code",
   "execution_count": 7,
   "id": "6b6fe779",
   "metadata": {
    "execution": {
     "iopub.execute_input": "2022-11-28T18:40:13.160384Z",
     "iopub.status.busy": "2022-11-28T18:40:13.159937Z",
     "iopub.status.idle": "2022-11-28T18:40:13.169062Z",
     "shell.execute_reply": "2022-11-28T18:40:13.167691Z"
    },
    "papermill": {
     "duration": 0.022006,
     "end_time": "2022-11-28T18:40:13.171952",
     "exception": false,
     "start_time": "2022-11-28T18:40:13.149946",
     "status": "completed"
    },
    "tags": []
   },
   "outputs": [
    {
     "data": {
      "text/plain": [
       "array(['average rent (euro/month)', 'average rent per surface (euro/m2)'],\n",
       "      dtype=object)"
      ]
     },
     "execution_count": 7,
     "metadata": {},
     "output_type": "execute_result"
    }
   ],
   "source": [
    "# Checking the categorical unique values in \"Average _rent\"\n",
    "df[\"Average _rent\"].unique()"
   ]
  },
  {
   "cell_type": "code",
   "execution_count": 8,
   "id": "8cebf158",
   "metadata": {
    "execution": {
     "iopub.execute_input": "2022-11-28T18:40:13.192730Z",
     "iopub.status.busy": "2022-11-28T18:40:13.191937Z",
     "iopub.status.idle": "2022-11-28T18:40:13.200390Z",
     "shell.execute_reply": "2022-11-28T18:40:13.199437Z"
    },
    "papermill": {
     "duration": 0.021831,
     "end_time": "2022-11-28T18:40:13.203041",
     "exception": false,
     "start_time": "2022-11-28T18:40:13.181210",
     "status": "completed"
    },
    "tags": []
   },
   "outputs": [
    {
     "data": {
      "text/plain": [
       "array(['el Raval', 'Gothic Quarter', 'la Barceloneta',\n",
       "       'Sant Pere, Santa Caterina i la Ribera', 'Fort Pienc',\n",
       "       'Sagrada Familia', \"la Dreta de l'Eixample\",\n",
       "       \"l'Antiga Esquerra de l'Eixample\",\n",
       "       \"la Nova Esquerra de l'Eixample\", 'Sant Antoni', 'el Poble Sec',\n",
       "       'la Marina de Port', 'la Font de la Guatlla', 'Hostafrancs',\n",
       "       'la Bordeta', 'Sants - Badal', 'Sants', 'les Corts',\n",
       "       'la Maternitat i Sant Ramon', 'Pedralbes',\n",
       "       'Vallvidrera, el Tibidabo i les Planes', 'Sarria',\n",
       "       'les Tres Torres', 'Sant Gervasi - la Bonanova',\n",
       "       'Sant Gervasi - Galvany', 'el Putxet i el Farro',\n",
       "       'Vallcarca i els Penitents', 'el Coll', 'la Salut',\n",
       "       'la Vila de Gracia', \"el Camp d'en Grassot i Gracia Nova\",\n",
       "       'el Baix Guinardo', 'Can Baro', 'el Guinardo',\n",
       "       \"la Font d'en Fargues\", 'el Carmel', 'la Teixonera',\n",
       "       'Sant Genis dels Agudells', 'Montbau', \"la Vall d'Hebron\", 'Horta',\n",
       "       'Vilapicina i la Torre Llobeta', 'Porta', 'el Turo de la Peira',\n",
       "       'Can Peguera', 'la Guineueta', 'Canyelles', 'les Roquetes',\n",
       "       'Verdun', 'la Prosperitat', 'la Trinitat Nova', 'Ciutat Meridiana',\n",
       "       'la Trinitat Vella', 'el Bon Pastor', 'Sant Andreu', 'la Sagrera',\n",
       "       'el Congres i els Indians', 'Navas', \"el Camp de l'Arpa del Clot\",\n",
       "       'el Clot', 'el Parc i la Llacuna del Poblenou',\n",
       "       'la Vila Olimpica del Poblenou', 'el Poblenou',\n",
       "       'Diagonal Mar i el Front Maritim del Poblenou',\n",
       "       'el Besos i el Maresme', 'Provencals del Poblenou',\n",
       "       'Sant Marti de Provencals', 'la Verneda i la Pau', 'Torre Baro',\n",
       "       'Baro de Viver', 'la Marina del Prat Vermell', 'Vallbona',\n",
       "       'la Clota', 'la Sagrada Familia', 'Sant Martíide Provencals'],\n",
       "      dtype=object)"
      ]
     },
     "execution_count": 8,
     "metadata": {},
     "output_type": "execute_result"
    }
   ],
   "source": [
    "# Checking the categorical unique values in \"Neighbourhood\"\n",
    "df[\"Neighbourhood\"].unique()"
   ]
  },
  {
   "cell_type": "code",
   "execution_count": 9,
   "id": "25dcd214",
   "metadata": {
    "execution": {
     "iopub.execute_input": "2022-11-28T18:40:13.224681Z",
     "iopub.status.busy": "2022-11-28T18:40:13.223920Z",
     "iopub.status.idle": "2022-11-28T18:40:13.235426Z",
     "shell.execute_reply": "2022-11-28T18:40:13.233960Z"
    },
    "papermill": {
     "duration": 0.025306,
     "end_time": "2022-11-28T18:40:13.237755",
     "exception": false,
     "start_time": "2022-11-28T18:40:13.212449",
     "status": "completed"
    },
    "tags": []
   },
   "outputs": [
    {
     "data": {
      "text/plain": [
       "Year             0\n",
       "Trimester        0\n",
       "District         0\n",
       "Neighbourhood    0\n",
       "Average _rent    0\n",
       "Price            0\n",
       "dtype: int64"
      ]
     },
     "execution_count": 9,
     "metadata": {},
     "output_type": "execute_result"
    }
   ],
   "source": [
    "# Checking if there are any null values \n",
    "# None are found!\n",
    "df.isnull().sum()"
   ]
  },
  {
   "cell_type": "code",
   "execution_count": 10,
   "id": "657c8005",
   "metadata": {
    "execution": {
     "iopub.execute_input": "2022-11-28T18:40:13.258221Z",
     "iopub.status.busy": "2022-11-28T18:40:13.257258Z",
     "iopub.status.idle": "2022-11-28T18:40:13.289939Z",
     "shell.execute_reply": "2022-11-28T18:40:13.288551Z"
    },
    "papermill": {
     "duration": 0.046067,
     "end_time": "2022-11-28T18:40:13.292650",
     "exception": false,
     "start_time": "2022-11-28T18:40:13.246583",
     "status": "completed"
    },
    "tags": []
   },
   "outputs": [
    {
     "data": {
      "text/html": [
       "<div>\n",
       "<style scoped>\n",
       "    .dataframe tbody tr th:only-of-type {\n",
       "        vertical-align: middle;\n",
       "    }\n",
       "\n",
       "    .dataframe tbody tr th {\n",
       "        vertical-align: top;\n",
       "    }\n",
       "\n",
       "    .dataframe thead th {\n",
       "        text-align: right;\n",
       "    }\n",
       "</style>\n",
       "<table border=\"1\" class=\"dataframe\">\n",
       "  <thead>\n",
       "    <tr style=\"text-align: right;\">\n",
       "      <th></th>\n",
       "      <th>Year</th>\n",
       "      <th>Trimester</th>\n",
       "      <th>Price</th>\n",
       "    </tr>\n",
       "  </thead>\n",
       "  <tbody>\n",
       "    <tr>\n",
       "      <th>count</th>\n",
       "      <td>4622.000000</td>\n",
       "      <td>4622.000000</td>\n",
       "      <td>4622.000000</td>\n",
       "    </tr>\n",
       "    <tr>\n",
       "      <th>mean</th>\n",
       "      <td>2017.745565</td>\n",
       "      <td>2.440502</td>\n",
       "      <td>416.457594</td>\n",
       "    </tr>\n",
       "    <tr>\n",
       "      <th>std</th>\n",
       "      <td>2.462828</td>\n",
       "      <td>1.116377</td>\n",
       "      <td>442.872305</td>\n",
       "    </tr>\n",
       "    <tr>\n",
       "      <th>min</th>\n",
       "      <td>2014.000000</td>\n",
       "      <td>1.000000</td>\n",
       "      <td>3.180000</td>\n",
       "    </tr>\n",
       "    <tr>\n",
       "      <th>25%</th>\n",
       "      <td>2016.000000</td>\n",
       "      <td>1.000000</td>\n",
       "      <td>12.100000</td>\n",
       "    </tr>\n",
       "    <tr>\n",
       "      <th>50%</th>\n",
       "      <td>2018.000000</td>\n",
       "      <td>2.000000</td>\n",
       "      <td>81.820000</td>\n",
       "    </tr>\n",
       "    <tr>\n",
       "      <th>75%</th>\n",
       "      <td>2020.000000</td>\n",
       "      <td>3.000000</td>\n",
       "      <td>777.207500</td>\n",
       "    </tr>\n",
       "    <tr>\n",
       "      <th>max</th>\n",
       "      <td>2022.000000</td>\n",
       "      <td>4.000000</td>\n",
       "      <td>2034.000000</td>\n",
       "    </tr>\n",
       "  </tbody>\n",
       "</table>\n",
       "</div>"
      ],
      "text/plain": [
       "              Year    Trimester        Price\n",
       "count  4622.000000  4622.000000  4622.000000\n",
       "mean   2017.745565     2.440502   416.457594\n",
       "std       2.462828     1.116377   442.872305\n",
       "min    2014.000000     1.000000     3.180000\n",
       "25%    2016.000000     1.000000    12.100000\n",
       "50%    2018.000000     2.000000    81.820000\n",
       "75%    2020.000000     3.000000   777.207500\n",
       "max    2022.000000     4.000000  2034.000000"
      ]
     },
     "execution_count": 10,
     "metadata": {},
     "output_type": "execute_result"
    }
   ],
   "source": [
    "df.describe()"
   ]
  },
  {
   "cell_type": "code",
   "execution_count": 11,
   "id": "35e4858f",
   "metadata": {
    "execution": {
     "iopub.execute_input": "2022-11-28T18:40:13.313894Z",
     "iopub.status.busy": "2022-11-28T18:40:13.313438Z",
     "iopub.status.idle": "2022-11-28T18:40:13.328988Z",
     "shell.execute_reply": "2022-11-28T18:40:13.327753Z"
    },
    "papermill": {
     "duration": 0.029857,
     "end_time": "2022-11-28T18:40:13.331845",
     "exception": false,
     "start_time": "2022-11-28T18:40:13.301988",
     "status": "completed"
    },
    "tags": []
   },
   "outputs": [],
   "source": [
    "# Categorical values must be encoded to some constant numerical value \n",
    "## Simple technique is to use the map function \n",
    "\n",
    "## list(df[\"District\"].unique()) -> gives the list of unique values \n",
    "## A list has index and element when enumerated. \n",
    "## The index itself is used as the numerical encoding. \n",
    "\n",
    "## Sorting helps it easier to find the code that corresponds to an element. \n",
    "## Consider using that for custom inputs \n",
    "\n",
    "# Encoding District \n",
    "df[\"District\"] = df[\"District\"].map({ele: index for index, ele in enumerate(list(df[\"District\"].unique()))})\n",
    "\n",
    "# Encoding Neighbourhood\n",
    "df[\"Neighbourhood\"] = df[\"Neighbourhood\"].map({ele: index for index, ele in enumerate(list(df[\"Neighbourhood\"].unique()))})\n",
    "\n",
    "# Average _rent\n",
    "df[\"Average _rent\"] = df[\"Average _rent\"].map({ele: index for index, ele in enumerate(list(df[\"Average _rent\"].unique()))})"
   ]
  },
  {
   "cell_type": "code",
   "execution_count": 12,
   "id": "3a5913f7",
   "metadata": {
    "execution": {
     "iopub.execute_input": "2022-11-28T18:40:13.353244Z",
     "iopub.status.busy": "2022-11-28T18:40:13.352768Z",
     "iopub.status.idle": "2022-11-28T18:40:13.365375Z",
     "shell.execute_reply": "2022-11-28T18:40:13.364280Z"
    },
    "papermill": {
     "duration": 0.026779,
     "end_time": "2022-11-28T18:40:13.367991",
     "exception": false,
     "start_time": "2022-11-28T18:40:13.341212",
     "status": "completed"
    },
    "tags": []
   },
   "outputs": [
    {
     "data": {
      "text/html": [
       "<div>\n",
       "<style scoped>\n",
       "    .dataframe tbody tr th:only-of-type {\n",
       "        vertical-align: middle;\n",
       "    }\n",
       "\n",
       "    .dataframe tbody tr th {\n",
       "        vertical-align: top;\n",
       "    }\n",
       "\n",
       "    .dataframe thead th {\n",
       "        text-align: right;\n",
       "    }\n",
       "</style>\n",
       "<table border=\"1\" class=\"dataframe\">\n",
       "  <thead>\n",
       "    <tr style=\"text-align: right;\">\n",
       "      <th></th>\n",
       "      <th>Year</th>\n",
       "      <th>Trimester</th>\n",
       "      <th>District</th>\n",
       "      <th>Neighbourhood</th>\n",
       "      <th>Average _rent</th>\n",
       "      <th>Price</th>\n",
       "    </tr>\n",
       "  </thead>\n",
       "  <tbody>\n",
       "    <tr>\n",
       "      <th>0</th>\n",
       "      <td>2014</td>\n",
       "      <td>1</td>\n",
       "      <td>0</td>\n",
       "      <td>0</td>\n",
       "      <td>0</td>\n",
       "      <td>589.55</td>\n",
       "    </tr>\n",
       "    <tr>\n",
       "      <th>1</th>\n",
       "      <td>2014</td>\n",
       "      <td>1</td>\n",
       "      <td>0</td>\n",
       "      <td>1</td>\n",
       "      <td>0</td>\n",
       "      <td>712.79</td>\n",
       "    </tr>\n",
       "    <tr>\n",
       "      <th>2</th>\n",
       "      <td>2014</td>\n",
       "      <td>1</td>\n",
       "      <td>0</td>\n",
       "      <td>2</td>\n",
       "      <td>0</td>\n",
       "      <td>540.71</td>\n",
       "    </tr>\n",
       "    <tr>\n",
       "      <th>3</th>\n",
       "      <td>2014</td>\n",
       "      <td>1</td>\n",
       "      <td>0</td>\n",
       "      <td>3</td>\n",
       "      <td>0</td>\n",
       "      <td>673.44</td>\n",
       "    </tr>\n",
       "    <tr>\n",
       "      <th>4</th>\n",
       "      <td>2014</td>\n",
       "      <td>1</td>\n",
       "      <td>1</td>\n",
       "      <td>4</td>\n",
       "      <td>0</td>\n",
       "      <td>736.09</td>\n",
       "    </tr>\n",
       "  </tbody>\n",
       "</table>\n",
       "</div>"
      ],
      "text/plain": [
       "   Year  Trimester  District  Neighbourhood  Average _rent   Price\n",
       "0  2014          1         0              0              0  589.55\n",
       "1  2014          1         0              1              0  712.79\n",
       "2  2014          1         0              2              0  540.71\n",
       "3  2014          1         0              3              0  673.44\n",
       "4  2014          1         1              4              0  736.09"
      ]
     },
     "execution_count": 12,
     "metadata": {},
     "output_type": "execute_result"
    }
   ],
   "source": [
    "# Checking the dataframe after encoding \n",
    "df.head()"
   ]
  },
  {
   "cell_type": "code",
   "execution_count": 13,
   "id": "c06abf87",
   "metadata": {
    "execution": {
     "iopub.execute_input": "2022-11-28T18:40:13.388549Z",
     "iopub.status.busy": "2022-11-28T18:40:13.388084Z",
     "iopub.status.idle": "2022-11-28T18:40:13.399378Z",
     "shell.execute_reply": "2022-11-28T18:40:13.398039Z"
    },
    "papermill": {
     "duration": 0.025753,
     "end_time": "2022-11-28T18:40:13.402793",
     "exception": false,
     "start_time": "2022-11-28T18:40:13.377040",
     "status": "completed"
    },
    "tags": []
   },
   "outputs": [
    {
     "data": {
      "text/plain": [
       "Year             0\n",
       "Trimester        0\n",
       "District         0\n",
       "Neighbourhood    0\n",
       "Average _rent    0\n",
       "Price            0\n",
       "dtype: int64"
      ]
     },
     "execution_count": 13,
     "metadata": {},
     "output_type": "execute_result"
    }
   ],
   "source": [
    "# Cross - verifying \n",
    "df.isnull().sum()"
   ]
  },
  {
   "cell_type": "code",
   "execution_count": 14,
   "id": "8a885d1e",
   "metadata": {
    "execution": {
     "iopub.execute_input": "2022-11-28T18:40:13.423475Z",
     "iopub.status.busy": "2022-11-28T18:40:13.423029Z",
     "iopub.status.idle": "2022-11-28T18:40:13.443999Z",
     "shell.execute_reply": "2022-11-28T18:40:13.442011Z"
    },
    "papermill": {
     "duration": 0.035196,
     "end_time": "2022-11-28T18:40:13.447599",
     "exception": false,
     "start_time": "2022-11-28T18:40:13.412403",
     "status": "completed"
    },
    "tags": []
   },
   "outputs": [
    {
     "name": "stdout",
     "output_type": "stream",
     "text": [
      "<class 'pandas.core.frame.DataFrame'>\n",
      "RangeIndex: 4622 entries, 0 to 4621\n",
      "Data columns (total 6 columns):\n",
      " #   Column         Non-Null Count  Dtype  \n",
      "---  ------         --------------  -----  \n",
      " 0   Year           4622 non-null   int64  \n",
      " 1   Trimester      4622 non-null   int64  \n",
      " 2   District       4622 non-null   int64  \n",
      " 3   Neighbourhood  4622 non-null   int64  \n",
      " 4   Average _rent  4622 non-null   int64  \n",
      " 5   Price          4622 non-null   float64\n",
      "dtypes: float64(1), int64(5)\n",
      "memory usage: 216.8 KB\n"
     ]
    }
   ],
   "source": [
    "# Checking if the encoded values are numerical \n",
    "df.info()"
   ]
  },
  {
   "cell_type": "code",
   "execution_count": 15,
   "id": "b8f95778",
   "metadata": {
    "execution": {
     "iopub.execute_input": "2022-11-28T18:40:13.469087Z",
     "iopub.status.busy": "2022-11-28T18:40:13.468643Z",
     "iopub.status.idle": "2022-11-28T18:40:14.890248Z",
     "shell.execute_reply": "2022-11-28T18:40:14.888584Z"
    },
    "papermill": {
     "duration": 1.436592,
     "end_time": "2022-11-28T18:40:14.893631",
     "exception": false,
     "start_time": "2022-11-28T18:40:13.457039",
     "status": "completed"
    },
    "tags": []
   },
   "outputs": [],
   "source": [
    "# Creating the train test split \n",
    "# Usual rule: 80-20\n",
    "\n",
    "# Importing the relevant library \n",
    "from sklearn.model_selection import train_test_split\n",
    "\n",
    "# Features (x) and Label (y)\n",
    "x = df.drop(columns = \"Price\", axis = 1)\n",
    "y = df[\"Price\"]\n",
    "\n",
    "# The split (train - test )\n",
    "X_train, X_test, y_train, y_test = train_test_split(x, y, test_size=0.2)"
   ]
  },
  {
   "cell_type": "markdown",
   "id": "489e9284",
   "metadata": {
    "papermill": {
     "duration": 0.010199,
     "end_time": "2022-11-28T18:40:14.913083",
     "exception": false,
     "start_time": "2022-11-28T18:40:14.902884",
     "status": "completed"
    },
    "tags": []
   },
   "source": [
    "# Evaluation Metrics - Preprepared "
   ]
  },
  {
   "cell_type": "code",
   "execution_count": 16,
   "id": "708c2972",
   "metadata": {
    "execution": {
     "iopub.execute_input": "2022-11-28T18:40:14.933805Z",
     "iopub.status.busy": "2022-11-28T18:40:14.933398Z",
     "iopub.status.idle": "2022-11-28T18:40:14.941739Z",
     "shell.execute_reply": "2022-11-28T18:40:14.940111Z"
    },
    "papermill": {
     "duration": 0.022276,
     "end_time": "2022-11-28T18:40:14.944743",
     "exception": false,
     "start_time": "2022-11-28T18:40:14.922467",
     "status": "completed"
    },
    "tags": []
   },
   "outputs": [],
   "source": [
    "# Create evaluation function (the competition uses Root Mean Square Log Error)\n",
    "from sklearn.metrics import mean_squared_log_error, mean_absolute_error\n",
    "\n",
    "def rmsle(y_test, y_preds):\n",
    "    return np.sqrt(mean_squared_log_error(y_test, y_preds))\n",
    "\n",
    "# Create function to evaluate our model\n",
    "def show_scores(model):\n",
    "    train_preds = model.predict(X_train)\n",
    "    test_preds = model.predict(X_test)\n",
    "    scores = {\"Training MAE\": mean_absolute_error(y_train, train_preds),\n",
    "              \"Valid MAE\": mean_absolute_error(y_test, test_preds),\n",
    "              \"Training RMSLE\": rmsle(y_train, train_preds),\n",
    "              \"Valid RMSLE\": rmsle(y_test, test_preds),\n",
    "              \"Training R^2\": model.score(X_train, y_train),\n",
    "              \"Valid R^2\": model.score(X_test, y_test)}\n",
    "    return scores"
   ]
  },
  {
   "cell_type": "markdown",
   "id": "ce561c35",
   "metadata": {
    "execution": {
     "iopub.execute_input": "2022-11-28T17:57:10.038692Z",
     "iopub.status.busy": "2022-11-28T17:57:10.038143Z",
     "iopub.status.idle": "2022-11-28T17:57:10.045300Z",
     "shell.execute_reply": "2022-11-28T17:57:10.043797Z",
     "shell.execute_reply.started": "2022-11-28T17:57:10.038654Z"
    },
    "papermill": {
     "duration": 0.008779,
     "end_time": "2022-11-28T18:40:14.962972",
     "exception": false,
     "start_time": "2022-11-28T18:40:14.954193",
     "status": "completed"
    },
    "tags": []
   },
   "source": [
    "# About Random Forest Regressor \n",
    "\n",
    "## Documentation Link \n",
    "https://scikit-learn.org/stable/modules/generated/sklearn.ensemble.RandomForestRegressor.html"
   ]
  },
  {
   "cell_type": "markdown",
   "id": "051ef605",
   "metadata": {
    "papermill": {
     "duration": 0.008955,
     "end_time": "2022-11-28T18:40:14.982253",
     "exception": false,
     "start_time": "2022-11-28T18:40:14.973298",
     "status": "completed"
    },
    "tags": []
   },
   "source": [
    "# ML Model - Random Forest Regressor \n",
    "\n",
    "Created and tested 3 models with different criterion. They are \n",
    "1. absolute error \n",
    "2. poisson \n",
    "3. squared error "
   ]
  },
  {
   "cell_type": "code",
   "execution_count": 17,
   "id": "4caa925f",
   "metadata": {
    "execution": {
     "iopub.execute_input": "2022-11-28T18:40:15.003473Z",
     "iopub.status.busy": "2022-11-28T18:40:15.003030Z",
     "iopub.status.idle": "2022-11-28T18:40:15.298246Z",
     "shell.execute_reply": "2022-11-28T18:40:15.295921Z"
    },
    "papermill": {
     "duration": 0.310096,
     "end_time": "2022-11-28T18:40:15.302136",
     "exception": false,
     "start_time": "2022-11-28T18:40:14.992040",
     "status": "completed"
    },
    "tags": []
   },
   "outputs": [],
   "source": [
    "from sklearn.ensemble import RandomForestRegressor"
   ]
  },
  {
   "cell_type": "code",
   "execution_count": 18,
   "id": "85aec758",
   "metadata": {
    "execution": {
     "iopub.execute_input": "2022-11-28T18:40:15.324253Z",
     "iopub.status.busy": "2022-11-28T18:40:15.323785Z",
     "iopub.status.idle": "2022-11-28T18:40:31.284193Z",
     "shell.execute_reply": "2022-11-28T18:40:31.282553Z"
    },
    "papermill": {
     "duration": 15.974514,
     "end_time": "2022-11-28T18:40:31.287152",
     "exception": false,
     "start_time": "2022-11-28T18:40:15.312638",
     "status": "completed"
    },
    "tags": []
   },
   "outputs": [
    {
     "data": {
      "text/plain": [
       "RandomForestRegressor(criterion='absolute_error', max_samples=3000,\n",
       "                      n_estimators=500, n_jobs=-1)"
      ]
     },
     "execution_count": 18,
     "metadata": {},
     "output_type": "execute_result"
    }
   ],
   "source": [
    "model = RandomForestRegressor(\n",
    "                    n_jobs=-1,\n",
    "                    n_estimators = 500, \n",
    "                    criterion = \"absolute_error\", \n",
    "                    max_samples = 3000\n",
    "                    )\n",
    "model.fit(X_train, y_train)"
   ]
  },
  {
   "cell_type": "code",
   "execution_count": 19,
   "id": "fdc54acc",
   "metadata": {
    "execution": {
     "iopub.execute_input": "2022-11-28T18:40:31.309464Z",
     "iopub.status.busy": "2022-11-28T18:40:31.308760Z",
     "iopub.status.idle": "2022-11-28T18:40:32.443864Z",
     "shell.execute_reply": "2022-11-28T18:40:32.442172Z"
    },
    "papermill": {
     "duration": 1.149325,
     "end_time": "2022-11-28T18:40:32.446707",
     "exception": false,
     "start_time": "2022-11-28T18:40:31.297382",
     "status": "completed"
    },
    "tags": []
   },
   "outputs": [
    {
     "data": {
      "text/plain": [
       "{'Training MAE': 9.428838052474987,\n",
       " 'Valid MAE': 19.926830735135137,\n",
       " 'Training RMSLE': 0.03888717457739731,\n",
       " 'Valid RMSLE': 0.0690294827749472,\n",
       " 'Training R^2': 0.9974122269956601,\n",
       " 'Valid R^2': 0.9897522963358572}"
      ]
     },
     "execution_count": 19,
     "metadata": {},
     "output_type": "execute_result"
    }
   ],
   "source": [
    "show_scores(model)"
   ]
  },
  {
   "cell_type": "code",
   "execution_count": 20,
   "id": "c6a3e024",
   "metadata": {
    "execution": {
     "iopub.execute_input": "2022-11-28T18:40:32.468242Z",
     "iopub.status.busy": "2022-11-28T18:40:32.467783Z",
     "iopub.status.idle": "2022-11-28T18:40:34.994947Z",
     "shell.execute_reply": "2022-11-28T18:40:34.993424Z"
    },
    "papermill": {
     "duration": 2.542082,
     "end_time": "2022-11-28T18:40:34.998741",
     "exception": false,
     "start_time": "2022-11-28T18:40:32.456659",
     "status": "completed"
    },
    "tags": []
   },
   "outputs": [
    {
     "data": {
      "text/plain": [
       "RandomForestRegressor(criterion='poisson', max_samples=3000, n_estimators=500,\n",
       "                      n_jobs=-1)"
      ]
     },
     "execution_count": 20,
     "metadata": {},
     "output_type": "execute_result"
    }
   ],
   "source": [
    "model = RandomForestRegressor(\n",
    "                    n_jobs=-1,\n",
    "                    n_estimators = 500, \n",
    "                    criterion = \"poisson\", \n",
    "                    max_samples = 3000\n",
    "                    )\n",
    "model.fit(X_train, y_train)"
   ]
  },
  {
   "cell_type": "code",
   "execution_count": 21,
   "id": "14439aa9",
   "metadata": {
    "execution": {
     "iopub.execute_input": "2022-11-28T18:40:35.019811Z",
     "iopub.status.busy": "2022-11-28T18:40:35.019388Z",
     "iopub.status.idle": "2022-11-28T18:40:36.155817Z",
     "shell.execute_reply": "2022-11-28T18:40:36.154207Z"
    },
    "papermill": {
     "duration": 1.150328,
     "end_time": "2022-11-28T18:40:36.158822",
     "exception": false,
     "start_time": "2022-11-28T18:40:35.008494",
     "status": "completed"
    },
    "tags": []
   },
   "outputs": [
    {
     "data": {
      "text/plain": [
       "{'Training MAE': 17.138021260481448,\n",
       " 'Valid MAE': 36.38791219459453,\n",
       " 'Training RMSLE': 0.36706696502513764,\n",
       " 'Valid RMSLE': 0.5147138545418666,\n",
       " 'Training R^2': 0.9947103193049512,\n",
       " 'Valid R^2': 0.9767367296560588}"
      ]
     },
     "execution_count": 21,
     "metadata": {},
     "output_type": "execute_result"
    }
   ],
   "source": [
    "show_scores(model)"
   ]
  },
  {
   "cell_type": "code",
   "execution_count": 22,
   "id": "36516eb9",
   "metadata": {
    "execution": {
     "iopub.execute_input": "2022-11-28T18:40:36.181883Z",
     "iopub.status.busy": "2022-11-28T18:40:36.181465Z",
     "iopub.status.idle": "2022-11-28T18:40:38.325564Z",
     "shell.execute_reply": "2022-11-28T18:40:38.324309Z"
    },
    "papermill": {
     "duration": 2.159577,
     "end_time": "2022-11-28T18:40:38.328353",
     "exception": false,
     "start_time": "2022-11-28T18:40:36.168776",
     "status": "completed"
    },
    "tags": []
   },
   "outputs": [
    {
     "data": {
      "text/plain": [
       "RandomForestRegressor(max_samples=3000, n_estimators=500, n_jobs=-1)"
      ]
     },
     "execution_count": 22,
     "metadata": {},
     "output_type": "execute_result"
    }
   ],
   "source": [
    "model = RandomForestRegressor(\n",
    "                    n_jobs=-1,\n",
    "                    n_estimators = 500, \n",
    "                    criterion = \"squared_error\", # Is the best for the current scenario\n",
    "                    max_samples = 3000\n",
    "                    )\n",
    "model.fit(X_train, y_train)"
   ]
  },
  {
   "cell_type": "code",
   "execution_count": 23,
   "id": "d65810de",
   "metadata": {
    "execution": {
     "iopub.execute_input": "2022-11-28T18:40:38.350218Z",
     "iopub.status.busy": "2022-11-28T18:40:38.349756Z",
     "iopub.status.idle": "2022-11-28T18:40:39.380139Z",
     "shell.execute_reply": "2022-11-28T18:40:39.378913Z"
    },
    "papermill": {
     "duration": 1.044769,
     "end_time": "2022-11-28T18:40:39.382787",
     "exception": false,
     "start_time": "2022-11-28T18:40:38.338018",
     "status": "completed"
    },
    "tags": []
   },
   "outputs": [
    {
     "data": {
      "text/plain": [
       "{'Training MAE': 8.480722932107136,\n",
       " 'Valid MAE': 19.232378789189156,\n",
       " 'Training RMSLE': 0.03415838376572677,\n",
       " 'Valid RMSLE': 0.06781779321604868,\n",
       " 'Training R^2': 0.9978638565196257,\n",
       " 'Valid R^2': 0.9902211276606808}"
      ]
     },
     "execution_count": 23,
     "metadata": {},
     "output_type": "execute_result"
    }
   ],
   "source": [
    "show_scores(model)"
   ]
  },
  {
   "cell_type": "markdown",
   "id": "edd1d10d",
   "metadata": {
    "papermill": {
     "duration": 0.010149,
     "end_time": "2022-11-28T18:40:39.404187",
     "exception": false,
     "start_time": "2022-11-28T18:40:39.394038",
     "status": "completed"
    },
    "tags": []
   },
   "source": [
    "# About Randomized Search CV \n",
    "\n",
    "## Documentation Link \n",
    "https://scikit-learn.org/stable/modules/generated/sklearn.model_selection.RandomizedSearchCV.html"
   ]
  },
  {
   "cell_type": "markdown",
   "id": "fb9e7a8e",
   "metadata": {
    "papermill": {
     "duration": 0.009565,
     "end_time": "2022-11-28T18:40:39.423630",
     "exception": false,
     "start_time": "2022-11-28T18:40:39.414065",
     "status": "completed"
    },
    "tags": []
   },
   "source": [
    "# ML Model - Randomized Search CV "
   ]
  },
  {
   "cell_type": "code",
   "execution_count": 24,
   "id": "d8a073e8",
   "metadata": {
    "execution": {
     "iopub.execute_input": "2022-11-28T18:40:39.446590Z",
     "iopub.status.busy": "2022-11-28T18:40:39.445579Z",
     "iopub.status.idle": "2022-11-28T18:40:40.039376Z",
     "shell.execute_reply": "2022-11-28T18:40:40.038007Z"
    },
    "papermill": {
     "duration": 0.607814,
     "end_time": "2022-11-28T18:40:40.041998",
     "exception": false,
     "start_time": "2022-11-28T18:40:39.434184",
     "status": "completed"
    },
    "tags": []
   },
   "outputs": [
    {
     "data": {
      "text/plain": [
       "RandomizedSearchCV(estimator=RandomForestRegressor(), n_iter=1000,\n",
       "                   param_distributions={'max_samples': [3000]})"
      ]
     },
     "execution_count": 24,
     "metadata": {},
     "output_type": "execute_result"
    }
   ],
   "source": [
    "from sklearn.model_selection import RandomizedSearchCV\n",
    "\n",
    "rf_grid = {\"max_samples\": [3000]}\n",
    "\n",
    "rs_model = RandomizedSearchCV(RandomForestRegressor(),\n",
    "                              param_distributions=rf_grid,\n",
    "                              n_iter=1000)\n",
    "\n",
    "rs_model.fit(X_train, y_train)"
   ]
  },
  {
   "cell_type": "code",
   "execution_count": 25,
   "id": "61ce0f49",
   "metadata": {
    "execution": {
     "iopub.execute_input": "2022-11-28T18:40:40.064461Z",
     "iopub.status.busy": "2022-11-28T18:40:40.064018Z",
     "iopub.status.idle": "2022-11-28T18:40:40.328994Z",
     "shell.execute_reply": "2022-11-28T18:40:40.327578Z"
    },
    "papermill": {
     "duration": 0.279617,
     "end_time": "2022-11-28T18:40:40.331527",
     "exception": false,
     "start_time": "2022-11-28T18:40:40.051910",
     "status": "completed"
    },
    "tags": []
   },
   "outputs": [
    {
     "data": {
      "text/plain": [
       "{'Training MAE': 8.578185934541516,\n",
       " 'Valid MAE': 19.064639135135142,\n",
       " 'Training RMSLE': 0.03415100649322729,\n",
       " 'Valid RMSLE': 0.06702746787423244,\n",
       " 'Training R^2': 0.9977963144074533,\n",
       " 'Valid R^2': 0.9903626284260296}"
      ]
     },
     "execution_count": 25,
     "metadata": {},
     "output_type": "execute_result"
    }
   ],
   "source": [
    "show_scores(rs_model)"
   ]
  },
  {
   "cell_type": "markdown",
   "id": "b2781dce",
   "metadata": {
    "execution": {
     "iopub.execute_input": "2022-11-28T18:05:13.576411Z",
     "iopub.status.busy": "2022-11-28T18:05:13.576016Z",
     "iopub.status.idle": "2022-11-28T18:05:13.581751Z",
     "shell.execute_reply": "2022-11-28T18:05:13.580357Z",
     "shell.execute_reply.started": "2022-11-28T18:05:13.576380Z"
    },
    "papermill": {
     "duration": 0.009844,
     "end_time": "2022-11-28T18:40:40.351267",
     "exception": false,
     "start_time": "2022-11-28T18:40:40.341423",
     "status": "completed"
    },
    "tags": []
   },
   "source": [
    "# Model Successfully Created ✨\n",
    "\n",
    "# Upvote this if you find useful!"
   ]
  }
 ],
 "metadata": {
  "kernelspec": {
   "display_name": "Python 3",
   "language": "python",
   "name": "python3"
  },
  "language_info": {
   "codemirror_mode": {
    "name": "ipython",
    "version": 3
   },
   "file_extension": ".py",
   "mimetype": "text/x-python",
   "name": "python",
   "nbconvert_exporter": "python",
   "pygments_lexer": "ipython3",
   "version": "3.7.11"
  },
  "papermill": {
   "default_parameters": {},
   "duration": 41.393578,
   "end_time": "2022-11-28T18:40:41.286620",
   "environment_variables": {},
   "exception": null,
   "input_path": "__notebook__.ipynb",
   "output_path": "__notebook__.ipynb",
   "parameters": {},
   "start_time": "2022-11-28T18:39:59.893042",
   "version": "2.3.4"
  }
 },
 "nbformat": 4,
 "nbformat_minor": 5
}
