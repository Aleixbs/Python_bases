{
 "cells": [
  {
   "cell_type": "markdown",
   "id": "9ea18d5b",
   "metadata": {},
   "source": [
    "## Break Number \n"
   ]
  },
  {
   "cell_type": "markdown",
   "id": "b23cb275",
   "metadata": {},
   "source": [
    "```\n",
    "\n",
    "Given a really large number N, break it into 3 whole numbers such that they sum up to the original number and find the number of ways to do so. Since this number can be very large, return it modulo 109+7. \n",
    "\n",
    " \n",
    "\n",
    "Example 1:\n",
    "\n",
    "Input:\n",
    "N = 2\n",
    "Output:\n",
    "6\n",
    "Explanation:\n",
    "Possible ways to break the number:\n",
    "0 + 0 + 2 = 2 \n",
    "0 + 2 + 0 = 2\n",
    "2 + 0 + 0 = 2\n",
    "0 + 1 + 1 = 2\n",
    "1 + 1 + 0 = 2\n",
    "1 + 0 + 1 = 2\n",
    " \n",
    "\n",
    " \n",
    "\n",
    "Example 2:\n",
    "\n",
    "Input:\n",
    "N = 3\n",
    "Output:\n",
    "10\n",
    "Explanation:\n",
    "Possible ways to break the number:\n",
    "0+0+3 = 3\n",
    "0+3+0 = 3\n",
    "3+0+0 = 3\n",
    "0+1+2 = 3\n",
    "0+2+1 = 3\n",
    "1+0+2 = 3\n",
    "1+2+0 = 3\n",
    "2+0+1 = 3\n",
    "2+1+0 = 3\n",
    "1+1+1 = 3\n",
    " \n",
    "\n",
    " \n",
    "\n",
    "Your Task:\n",
    "\n",
    "You don't need to read input or print anything. Your task is to complete the function waysToBreakNumber() which takes an integer N and returns the possible ways to break the number in 3 parts.\n",
    "\n",
    " \n",
    "\n",
    "Expected Time Complexity: O(1)\n",
    "Expected Auxiliary Space: O(1)\n",
    "\n",
    " \n",
    "\n",
    "Constraints:\n",
    "1 <= N <= 109\n",
    "\n",
    "```"
   ]
  },
  {
   "cell_type": "markdown",
   "id": "dbb2204e",
   "metadata": {},
   "source": [
    " solucion 1 "
   ]
  },
  {
   "cell_type": "code",
   "execution_count": null,
   "id": "140215bb",
   "metadata": {},
   "outputs": [],
   "source": [
    "    def waysToBreakNumber(self, n):\n",
    "        mod=10**9+7\n",
    "        return((n+1)*(n+2)//2%mod)\n",
    "        #code here"
   ]
  },
  {
   "cell_type": "markdown",
   "id": "3c475b31",
   "metadata": {},
   "source": [
    "solucion 2"
   ]
  },
  {
   "cell_type": "code",
   "execution_count": null,
   "id": "63e6501c",
   "metadata": {},
   "outputs": [],
   "source": [
    "    def waysToBreakNumber (self,N):\n",
    "        # code here \n",
    "        N = int(N)\n",
    "        return ((N+1)*(N+2))//2"
   ]
  }
 ],
 "metadata": {
  "kernelspec": {
   "display_name": "Python 3",
   "language": "python",
   "name": "python3"
  },
  "language_info": {
   "codemirror_mode": {
    "name": "ipython",
    "version": 3
   },
   "file_extension": ".py",
   "mimetype": "text/x-python",
   "name": "python",
   "nbconvert_exporter": "python",
   "pygments_lexer": "ipython3",
   "version": "3.7.11"
  }
 },
 "nbformat": 4,
 "nbformat_minor": 5
}
