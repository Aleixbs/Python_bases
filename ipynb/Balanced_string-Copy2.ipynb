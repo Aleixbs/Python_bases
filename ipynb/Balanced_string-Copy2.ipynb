{
 "cells": [
  {
   "cell_type": "markdown",
   "id": "35af7ceb",
   "metadata": {},
   "source": [
    "# **Balanced String**\n",
    "\n",
    "Given an integer N.Create a string using only lowercase characters from a to z that follows the given rules.\n",
    "\n",
    "*When N is even:*\n",
    "\n",
    "Use **N/2 characters from the beginning of a-z and N/2 characters from the ending of a-z**.\n",
    "\n",
    "When **N is greater than 26**==,continue repeating the instructions until length of string becomes N.\n",
    "\n",
    "*When N is odd:*\n",
    "\n",
    "Case 1: If the sum of digits of N is even, Select (N+1)/2 characters from the beginning of a-z and (N-1)/2 characters from the ending of a-z.\n",
    "\n",
    "Case 2: If the sum of digits of N is odd, Select (N-1)/2 characters from the beginning of a-z and (N+1)/2 characters from the ending of a-z.\n",
    "\n",
    "When N is greater than 26,continue repeating the instructions until length of string becomes N.\n"
   ]
  },
  {
   "cell_type": "markdown",
   "id": "832b9f74",
   "metadata": {},
   "source": [
    "Input: Integer\n",
    "Output: string"
   ]
  },
  {
   "cell_type": "markdown",
   "id": "1459c154",
   "metadata": {},
   "source": [
    "### ¿Es mayor o menor de 26? F1"
   ]
  },
  {
   "cell_type": "code",
   "execution_count": 7,
   "id": "e411211a",
   "metadata": {},
   "outputs": [
    {
     "data": {
      "text/plain": [
       "[53, 2, 1]"
      ]
     },
     "execution_count": 7,
     "metadata": {},
     "output_type": "execute_result"
    }
   ],
   "source": [
    "def mayor_o_menor(numero):            # En esta funcion evaluamos si es mayor o menor a 26\n",
    "    salida = [numero]                       # lista vacia que luego rellenarmos con los argumentos tratados\n",
    "    if numero < 26:                   # if statement para evaluar la condicion menor a 26\n",
    "        salida.append(0)              # Añadimos a la lista \"salida\" el número 0 ya que imprimirá 0 veces el abecedario completo\n",
    "        salida.append(numero)         # Añadimos a la lista el número de entrada\n",
    "        return salida                 # Retornamos la lista \"salida\" con los valores indicados\n",
    "    else:                             # else statement para la condicion mayor a 26\n",
    "        division = (numero // 26)     # Dividimos (floor division) entre el número de entrada y 26 (los números del abecedario)\n",
    "        resto = numero % 26           # El operador % nos retornará los números equivalentes al decimal que crearia la división\n",
    "        salida.append(division)       # Añadimos a la lista \"salida\" el resultado de la (floor division - //)\n",
    "        salida.append(resto)          # Anñadimos a la lista \"salida\" el resultado del resto (modulo - %)\n",
    "        return salida\n",
    "\n",
    "mayor_o_menor(53)"
   ]
  },
  {
   "cell_type": "markdown",
   "id": "68a64108",
   "metadata": {},
   "source": [
    "## ¿Es par o impar? F2"
   ]
  },
  {
   "cell_type": "code",
   "execution_count": 2,
   "id": "642f69bf",
   "metadata": {},
   "outputs": [
    {
     "data": {
      "text/plain": [
       "'impar'"
      ]
     },
     "execution_count": 2,
     "metadata": {},
     "output_type": "execute_result"
    }
   ],
   "source": [
    "def par_o_impar(numero): # En esta funcion evaluamos si el número introducido es para o impar\n",
    "    if numero % 2 == 0:  # Condición si el resto de aplicar el módulo 2 es 0 significa que es múltiplo de 2 por lo tanto par\n",
    "        return (\"par\")   # Devolverá la string \"par\" si el número es múltiple de 2\n",
    "    else:                # Si queda un resto al aplicar el módulo 2 es impar ya que no es múltiple\n",
    "        return(\"impar\")  # Devolverá la string \"impar\" si el número es múltiple de 2\n",
    "    \n",
    "par_o_impar(53)"
   ]
  },
  {
   "cell_type": "markdown",
   "id": "271736fe",
   "metadata": {},
   "source": [
    "## Si es par F3\n",
    "\n",
    "N = 8 and <26\n",
    "N/2 = 4\n",
    "Output: abcdwxyz\n",
    "    \n",
    "N = 10 and <26\n",
    "N/2 = 5\n",
    "Output: abcdevwxyz\n",
    "\n",
    "N = 30 and >26\n",
    "30-26= 4 \n",
    "4/2 = 2\n",
    "Output: abcdefghijklmnopqrstuvwxyzabyz\n"
   ]
  },
  {
   "cell_type": "code",
   "execution_count": 3,
   "id": "b7ea7951",
   "metadata": {},
   "outputs": [],
   "source": [
    "def es_par(numero,abecedario):\n",
    "    division = int(numero / 2)\n",
    "    if division == 0: \n",
    "        return ''\n",
    "    else:\n",
    "        salida = abecedario[:division]+abecedario[-division:]\n",
    "        return (salida)"
   ]
  },
  {
   "cell_type": "markdown",
   "id": "3553295c",
   "metadata": {},
   "source": [
    "## Si es impar F4\n",
    "\n",
    "Sumamos los digitos del número N \n",
    "\n",
    "Si la suma de los digitos de N són pares = caso 1\n",
    "\n",
    "Si la suma de los digitos de N són impares = caso 2\n",
    "\n",
    "### Caso 1: F5\n",
    "\n",
    "N = 11 and <26\n",
    "N + 1 / 2 = 6 inicio\n",
    "N - 1 / 2 = 5 final\n",
    "\n",
    "Output: abcdefvwxyz\n",
    "    \n",
    "N = 31 and >26\n",
    "N // 26 = 1\n",
    "N % 26 = 5\n",
    "N + 1 / 2 = 3 inicio\n",
    "N - 1 / 2 = 2 final\n",
    "\n",
    "Output: abcdefghijklmnopqrstuvwxyzabcyz\n",
    "\n",
    "### Caso 2: F6\n",
    "\n",
    "N = 21 and <26\n",
    "N - 1 / 2 = 10 inicio\n",
    "N + 1 / 2 = 11 final\n",
    "\n",
    "Output: abcdefghijpqrstuvwxyz\n",
    "\n",
    "N = 41 and >26\n",
    "N // 26 = 1\n",
    "N % 26 = 15\n",
    "N - 1 / 2 = 7 inicio\n",
    "N + 1 / 2 = 8 final\n",
    "\n",
    "Output: abcdefghijklmnopqrstuvwxyzabcdefgstuvwxyz\n"
   ]
  },
  {
   "cell_type": "code",
   "execution_count": 4,
   "id": "648867d0",
   "metadata": {},
   "outputs": [
    {
     "data": {
      "text/plain": [
       "8"
      ]
     },
     "execution_count": 4,
     "metadata": {},
     "output_type": "execute_result"
    }
   ],
   "source": [
    "def suma_numero(numero):                 # Definimos una función que evaluará si la suma de los digitos de N es par o impar\n",
    "    solucion = []                        # Creamos una lista vacía \"solucion\" para llenarla con la suma de los digitos\n",
    "    for caracter in str(numero):         # Decretamos un loop \"for\", cada caracter de N lo convierte en la string('n','n')\n",
    "        solucion.append(int(caracter))   # Para cada caracter string de N lo añade a la lista \"solucion\" cómo integer (n,n)\n",
    "    return sum(solucion)                 # Se hace una suma de los numeros (n,n) de la lista \"solucion\"\n",
    "\n",
    "suma_numero(53)"
   ]
  },
  {
   "cell_type": "code",
   "execution_count": 5,
   "id": "8edc2d57",
   "metadata": {},
   "outputs": [
    {
     "data": {
      "text/plain": [
       "'z'"
      ]
     },
     "execution_count": 5,
     "metadata": {},
     "output_type": "execute_result"
    }
   ],
   "source": [
    "abecedario = 'abcdefghijklmnopqrstuvwxyz'\n",
    "\n",
    "def es_impar(N,numero,abecedario):       \n",
    "    suma = suma_numero(N)\n",
    "    if par_o_impar(suma) == 'par': #La suma es par\n",
    "        inicio = int((numero + 1) / 2)\n",
    "        final = int((numero - 1) / 2)\n",
    "        if inicio == 1: \n",
    "            return 'a'\n",
    "        else:\n",
    "            salida = abecedario[:inicio]+abecedario[-final:] # EL ERROR ES QUE [-0:] TE PRINTEA TODO EL STRING DE NUEVO \n",
    "            return salida\n",
    "    else:\n",
    "        inicio = int((numero + 1) / 2)\n",
    "        final = int((numero - 1) / 2)\n",
    "        salida = abecedario[:final]+abecedario[-inicio:]\n",
    "        return salida\n",
    "    \n",
    "es_impar(53,1,abecedario)\n",
    "        "
   ]
  },
  {
   "cell_type": "markdown",
   "id": "8d75e399",
   "metadata": {},
   "source": [
    "# Solución F0"
   ]
  },
  {
   "cell_type": "code",
   "execution_count": 6,
   "id": "1b6deef0",
   "metadata": {},
   "outputs": [
    {
     "name": "stdout",
     "output_type": "stream",
     "text": [
      "abcdwxyz\n",
      "abcdefghijklmnopqrstuvwxyzabcdefghijklmnopqrstuvwxyzz\n"
     ]
    }
   ],
   "source": [
    "def BalancedString(N):  # Función con un argumento N que será el input\n",
    "    \n",
    "    Abc = 'abcdefghijklmnopqrstuvwxyz'   # variable abecedario\n",
    "    \n",
    "    mom_salida = mayor_o_menor(N)        # variable que almacena la funcion mayor o menor que crea una lista [veces > 26, resto]\n",
    "    if mom_salida[0] == 0: # Es <26      # Condicion si [veces mayor] equivale a 0 es < 26 - else > 26\n",
    "        \n",
    "        if par_o_impar(N) == 'par': # Es par y <26\n",
    "            \n",
    "            return es_par(N,Abc)         # Devuelve de Abc N/2 y -Abc N/2\n",
    "        \n",
    "        else: #Es impar y <26\n",
    "            \n",
    "            return es_impar(N,N,Abc)      # Devuelve N, N/2 y -N/2\n",
    "    else:\n",
    "        \n",
    "        if par_o_impar(N) == 'par': # Es par y >26\n",
    "            \n",
    "            multiplicador = mom_salida[0]\n",
    "            \n",
    "            return (multiplicador * Abc) + es_par(mom_salida[1],Abc) \n",
    "        \n",
    "        else: #Es impar y >26\n",
    "            \n",
    "            multiplicador = mom_salida[0]\n",
    "            \n",
    "            return (multiplicador * Abc) + es_impar(N,mom_salida[1],Abc) \n",
    "\n",
    "#print(BalancedString(0))\n",
    "print(BalancedString(8))\n",
    "#print(BalancedString(9))\n",
    "#print(BalancedString(15))\n",
    "print(BalancedString(53)) #output esperado abcdefghijklmnopqrstuvwxyzabcdefghijklmnopqrstuvwxyza\n",
    "#print(BalancedString(53))#output rsultado abcdefghijklmnopqrstuvwxyzabcdefghijklmnopqrstuvwxyzz\n",
    "#print(BalancedString(43))"
   ]
  },
  {
   "cell_type": "code",
   "execution_count": null,
   "id": "35bcebe0",
   "metadata": {},
   "outputs": [],
   "source": []
  }
 ],
 "metadata": {
  "kernelspec": {
   "display_name": "Python 3",
   "language": "python",
   "name": "python3"
  },
  "language_info": {
   "codemirror_mode": {
    "name": "ipython",
    "version": 3
   },
   "file_extension": ".py",
   "mimetype": "text/x-python",
   "name": "python",
   "nbconvert_exporter": "python",
   "pygments_lexer": "ipython3",
   "version": "3.7.11"
  }
 },
 "nbformat": 4,
 "nbformat_minor": 5
}
