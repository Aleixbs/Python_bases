{
 "cells": [
  {
   "cell_type": "markdown",
   "id": "ea9590c0",
   "metadata": {},
   "source": [
    "# Maximum Weight Node\n",
    "\n",
    "Given a maze with N cells. Each cell may have multiple entry points but not more than one exit (i.e entry/exit points are unidirectional doors like valves).\n",
    "You are given an array Edge[] of N integers, where Edge[i] contains the cell index that can be reached from cell i in one step. Edge[i] is -1 if the ith cell doesn't have an exit. \n",
    "The task is to find the cell with maximum weight (The weight of a cell is the sum of cell indexes of all cells pointing to that cell). If there are multiple cells with the maximum weight return the cell with highest index.\n",
    "\n",
    "Note: The cells are indexed with an integer value from 0 to N-1. If there is no cell pointing to the ith cell then the weight of the i'th cell is zero\n",
    "\n",
    "Example 1:\n",
    "\n",
    "Input:\n",
    "\n",
    "N = 4\n",
    "\n",
    "Edge[] = {2, 0, -1, 2}\n",
    "\n",
    "Output: 2\n",
    "\n",
    "Explanation: \n",
    "\n",
    "1 -> 0 -> 2 <- 3\n",
    "\n",
    "weight of 0th cell = 1\n",
    "\n",
    "weight of 1st cell = 0 \n",
    "\n",
    "(because there is no cell pointing to the 1st cell)\n",
    "\n",
    "weight of 2nd cell = 0+3 = 3\n",
    "\n",
    "weight of 3rd cell = 0\n",
    "\n",
    "There is only one cell which has maximum weight\n",
    "(i.e 2) So, cell 2 is the output.\n",
    "\n",
    "Example 2:\n",
    "\n",
    "Input:\n",
    "N = 1\n",
    "\n",
    "Edge[] = {-1}\n",
    "\n",
    "Output: 0\n",
    "\n",
    "Explanation:\n",
    "\n",
    "weight of 0th cell is 0.\n",
    "There is only one cell so \n",
    "cell 0 has maximum weight.\n",
    "\n",
    "Your task:\n",
    "\n",
    "You dont need to read input or print anything. Your task is to complete the function maxWeightCell() which takes the integer N denoting the number of cells and the array Edge[] as input parameters and returns the cell which has maximum weight. If there are multiple answers then return the cell with highest index."
   ]
  },
  {
   "cell_type": "code",
   "execution_count": null,
   "id": "67ff82cc",
   "metadata": {},
   "outputs": [],
   "source": [
    "Input:\n",
    "\n",
    "N = 4\n",
    "\n",
    "Edge[] = {2, 0, -1, 2}\n",
    "\n",
    "Output: 2\n",
    "\n",
    "Explanation: \n",
    "\n",
    "1 -> 0 -> 2 <- 3\n",
    "\n",
    "weight of 0th cell = 1\n",
    "\n",
    "weight of 1st cell = 0 \n",
    "\n",
    "(because there is no cell pointing to the 1st cell)\n",
    "\n",
    "weight of 2nd cell = 0+3 = 3\n",
    "\n",
    "weight of 3rd cell = 0\n",
    "\n",
    "There is only one cell which has maximum weight\n",
    "(i.e 2) So, cell 2 is the output."
   ]
  },
  {
   "cell_type": "markdown",
   "id": "02a63b46",
   "metadata": {},
   "source": [
    "# Prova 1"
   ]
  },
  {
   "cell_type": "code",
   "execution_count": 19,
   "id": "c5c51449",
   "metadata": {},
   "outputs": [
    {
     "ename": "SyntaxError",
     "evalue": "keyword can't be an expression (<ipython-input-19-b59e0e489df9>, line 9)",
     "output_type": "error",
     "traceback": [
      "\u001b[1;36m  File \u001b[1;32m\"<ipython-input-19-b59e0e489df9>\"\u001b[1;36m, line \u001b[1;32m9\u001b[0m\n\u001b[1;33m    print(weight(Edge[i]) =+ i)\u001b[0m\n\u001b[1;37m         ^\u001b[0m\n\u001b[1;31mSyntaxError\u001b[0m\u001b[1;31m:\u001b[0m keyword can't be an expression\n"
     ]
    }
   ],
   "source": [
    "n = 4\n",
    "\n",
    "Edge = [2,0,-1,2]\n",
    "\n",
    "for cell in range(n): \n",
    "    \n",
    "    if cell != -1: \n",
    "        \n",
    "        print(weight(Edge[i]) =+ i)\n",
    "        \n",
    "\n",
    "# Output = 2\n",
    "\n",
    "\n"
   ]
  },
  {
   "cell_type": "code",
   "execution_count": 17,
   "id": "ffe6fbc3",
   "metadata": {
    "scrolled": false
   },
   "outputs": [],
   "source": [
    "def max(f,a):\n",
    "\n",
    "    N = 4\n",
    "    Edge = [2,0,-1,2]\n",
    "    weight = [0] * N\n",
    "\n",
    "    for i in range(N):\n",
    "\n",
    "            if Edge[i] != -1: \n",
    "\n",
    "                weight[Edge[i]] += i\n",
    "\n",
    "            return max(range(N), key=weight.__getitem__)"
   ]
  },
  {
   "cell_type": "code",
   "execution_count": null,
   "id": "dcb93822",
   "metadata": {},
   "outputs": [],
   "source": []
  }
 ],
 "metadata": {
  "kernelspec": {
   "display_name": "Python 3",
   "language": "python",
   "name": "python3"
  },
  "language_info": {
   "codemirror_mode": {
    "name": "ipython",
    "version": 3
   },
   "file_extension": ".py",
   "mimetype": "text/x-python",
   "name": "python",
   "nbconvert_exporter": "python",
   "pygments_lexer": "ipython3",
   "version": "3.7.11"
  }
 },
 "nbformat": 4,
 "nbformat_minor": 5
}
