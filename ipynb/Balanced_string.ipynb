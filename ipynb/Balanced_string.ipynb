{
 "cells": [
  {
   "cell_type": "markdown",
   "id": "6ccc95da",
   "metadata": {},
   "source": [
    "# **Balanced String**\n",
    "\n",
    "Given an integer N.Create a string using only lowercase characters from a to z that follows the given rules.\n",
    "\n",
    "*When N is even:*\n",
    "\n",
    "Use **N/2 characters from the beginning of a-z and N/2 characters from the ending of a-z**.\n",
    "\n",
    "When **N is greater than 26**==,continue repeating the instructions until length of string becomes N.\n",
    "\n",
    "*When N is odd:*\n",
    "\n",
    "Case 1: If the sum of digits of N is even, Select (N+1)/2 characters from the beginning of a-z and (N-1)/2 characters from the ending of a-z.\n",
    "\n",
    "Case 2: If the sum of digits of N is odd, Select (N-1)/2 characters from the beginning of a-z and (N+1)/2 characters from the ending of a-z.\n",
    "\n",
    "When N is greater than 26,continue repeating the instructions until length of string becomes N.\n"
   ]
  },
  {
   "cell_type": "markdown",
   "id": "d96290ba",
   "metadata": {},
   "source": [
    "Input: Integer\n",
    "Output: string"
   ]
  },
  {
   "cell_type": "markdown",
   "id": "433e12b3",
   "metadata": {},
   "source": [
    "### ¿Es mayor o menor de 26? F1"
   ]
  },
  {
   "cell_type": "code",
   "execution_count": 1,
   "id": "5c36821d",
   "metadata": {},
   "outputs": [
    {
     "data": {
      "text/plain": [
       "[2, 1]"
      ]
     },
     "execution_count": 1,
     "metadata": {},
     "output_type": "execute_result"
    }
   ],
   "source": [
    "def mayor_o_menor(numero): # En esta funcion evaluamos si es mayor o menor a 26\n",
    "    salida = []            # Creamos una lista vacia que luego rellenarmos con los argumentos tratados\n",
    "    if numero < 26:        # Creamos un if statement que \n",
    "        salida.append(0)\n",
    "        salida.append(numero)\n",
    "        return salida\n",
    "    else:\n",
    "        division = (numero // 26)\n",
    "        resto = numero % 26\n",
    "        salida.append(division)\n",
    "        salida.append(resto)\n",
    "        return salida\n",
    "\n",
    "mayor_o_menor(53)"
   ]
  },
  {
   "cell_type": "markdown",
   "id": "6b2a2c46",
   "metadata": {},
   "source": [
    "## ¿Es par o impar? F2"
   ]
  },
  {
   "cell_type": "code",
   "execution_count": 2,
   "id": "fdac1124",
   "metadata": {},
   "outputs": [],
   "source": [
    "def par_o_impar(numero):\n",
    "    if numero % 2 == 0:\n",
    "        return (\"par\")\n",
    "    else:\n",
    "        return(\"impar\")"
   ]
  },
  {
   "cell_type": "markdown",
   "id": "80a1d711",
   "metadata": {},
   "source": [
    "## Si es par F3\n",
    "\n",
    "N = 8 and <26\n",
    "N/2 = 4\n",
    "Output: abcdwxyz\n",
    "    \n",
    "N = 10 and <26\n",
    "N/2 = 5\n",
    "Output: abcdevwxyz\n",
    "\n",
    "N = 30 and >26\n",
    "30-26= 4 \n",
    "4/2 = 2\n",
    "Output: abcdefghijklmnopqrstuvwxyzabyz\n"
   ]
  },
  {
   "cell_type": "code",
   "execution_count": 3,
   "id": "a20e6714",
   "metadata": {},
   "outputs": [],
   "source": [
    "def es_par(numero,abecedario):\n",
    "    division = int(numero / 2)\n",
    "    if division == 0: \n",
    "        return ''\n",
    "    else:\n",
    "        salida = abecedario[:division]+abecedario[-division:]\n",
    "        return (salida)"
   ]
  },
  {
   "cell_type": "markdown",
   "id": "4691c73a",
   "metadata": {},
   "source": [
    "## Si es impar F4\n",
    "\n",
    "### Caso 1: F5\n",
    "\n",
    "N = 11 and <26\n",
    "N + 1 / 2 = 6 inicio\n",
    "N - 1 / 2 = 5 final\n",
    "\n",
    "Output: abcdefvwxyz\n",
    "    \n",
    "N = 31 and >26\n",
    "N // 26 = 1\n",
    "N % 26 = 5\n",
    "N + 1 / 2 = 3 inicio\n",
    "N - 1 / 2 = 2 final\n",
    "\n",
    "Output: abcdefghijklmnopqrstuvwxyzabcyz\n",
    "\n",
    "### Caso 2: F6\n",
    "\n",
    "N = 21 and <26\n",
    "N - 1 / 2 = 10 inicio\n",
    "N + 1 / 2 = 11 final\n",
    "\n",
    "Output: abcdefghijpqrstuvwxyz\n",
    "\n",
    "N = 41 and >26\n",
    "N // 26 = 1\n",
    "N % 26 = 15\n",
    "N - 1 / 2 = 7 inicio\n",
    "N + 1 / 2 = 8 final\n",
    "\n",
    "Output: abcdefghijklmnopqrstuvwxyzabcdefgstuvwxyz\n"
   ]
  },
  {
   "cell_type": "code",
   "execution_count": 4,
   "id": "2b1bc7e7",
   "metadata": {},
   "outputs": [],
   "source": [
    "def suma_numero(numero):\n",
    "    solucion = []\n",
    "    for caracter in str(numero):\n",
    "        solucion.append(int(caracter))\n",
    "    return sum(solucion)"
   ]
  },
  {
   "cell_type": "code",
   "execution_count": 5,
   "id": "0dd88b5d",
   "metadata": {},
   "outputs": [],
   "source": [
    "def es_impar(numero,abecedario):\n",
    "    suma = suma_numero(numero)\n",
    "    if par_o_impar(suma) == 'par': #La suma es par\n",
    "        inicio = int((numero + 1) / 2)\n",
    "        final = int((numero - 1) / 2)\n",
    "        salida = abecedario[:inicio]+abecedario[-final:]\n",
    "        return salida\n",
    "    else:\n",
    "        inicio = int((numero + 1) / 2)\n",
    "        final = int((numero - 1) / 2)\n",
    "        salida = abecedario[:inicio]+abecedario[-final:]\n",
    "        return salida\n",
    "        "
   ]
  },
  {
   "cell_type": "markdown",
   "id": "244bf9b8",
   "metadata": {},
   "source": [
    "# Solución F0"
   ]
  },
  {
   "cell_type": "code",
   "execution_count": 6,
   "id": "e9c3d7d1",
   "metadata": {},
   "outputs": [
    {
     "name": "stdout",
     "output_type": "stream",
     "text": [
      "abcdefghijklmnopqrstuvwxyzabcdefghijklmnopqrstuvwxyzaabcdefghijklmnopqrstuvwxyz\n"
     ]
    }
   ],
   "source": [
    "def BalancedString(N):\n",
    "    \n",
    "    Abc = 'abcdefghijklmnopqrstuvwxyz'\n",
    "    \n",
    "    mom_salida = mayor_o_menor(N)\n",
    "    if mom_salida[0] == 0: # Es <26\n",
    "        \n",
    "        if par_o_impar(N) == 'par': # Es par y <26\n",
    "            \n",
    "            return es_par(N,Abc)\n",
    "        \n",
    "        else: #Es impar y <26\n",
    "            \n",
    "            return es_impar(N,Abc)\n",
    "    else:\n",
    "        \n",
    "        if par_o_impar(N) == 'par': # Es par y >26\n",
    "            \n",
    "            multiplicador = mom_salida[0]\n",
    "            \n",
    "            return (multiplicador * Abc) + es_par(mom_salida[1],Abc) \n",
    "        \n",
    "        else: #Es impar y >26\n",
    "            \n",
    "            multiplicador = mom_salida[0]\n",
    "            \n",
    "            return (multiplicador * Abc) + es_impar(mom_salida[1],Abc) \n",
    "\n",
    "#print(BalancedString(0))\n",
    "#print(BalancedString(8))\n",
    "#print(BalancedString(9))\n",
    "#print(BalancedString(15))\n",
    "print(BalancedString(53)) #output esperado abcdefghijklmnopqrstuvwxyzabcdefghijklmnopqrstuvwxyza\n",
    "#print(BalancedString(73))\n",
    "#print(BalancedString(43))"
   ]
  },
  {
   "cell_type": "code",
   "execution_count": null,
   "id": "803d899c",
   "metadata": {},
   "outputs": [],
   "source": []
  }
 ],
 "metadata": {
  "kernelspec": {
   "display_name": "Python 3",
   "language": "python",
   "name": "python3"
  },
  "language_info": {
   "codemirror_mode": {
    "name": "ipython",
    "version": 3
   },
   "file_extension": ".py",
   "mimetype": "text/x-python",
   "name": "python",
   "nbconvert_exporter": "python",
   "pygments_lexer": "ipython3",
   "version": "3.7.11"
  }
 },
 "nbformat": 4,
 "nbformat_minor": 5
}
